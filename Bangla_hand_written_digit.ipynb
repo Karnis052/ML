{
  "cells": [
    {
      "cell_type": "markdown",
      "metadata": {
        "id": "view-in-github",
        "colab_type": "text"
      },
      "source": [
        "<a href=\"https://colab.research.google.com/github/Karnis052/ML/blob/main/Bangla_hand_written_digit.ipynb\" target=\"_parent\"><img src=\"https://colab.research.google.com/assets/colab-badge.svg\" alt=\"Open In Colab\"/></a>"
      ]
    },
    {
      "cell_type": "code",
      "execution_count": null,
      "metadata": {
        "id": "WngTpOXaCGQ-"
      },
      "outputs": [],
      "source": [
        "import numpy as np\n",
        "import pandas as pd\n",
        "import matplotlib.pyplot as plt\n",
        "import tensorflow as tf\n",
        "from tensorflow import keras\n",
        "from keras import models\n",
        "from tensorflow.keras import layers\n",
        "import sklearn\n",
        "from sklearn.model_selection import train_test_split\n",
        "from tensorflow.keras.utils import load_img, img_to_array\n",
        "from tensorflow.keras.utils import image_dataset_from_directory\n",
        "from sklearn.metrics import confusion_matrix, classification_report, ConfusionMatrixDisplay\n"
      ]
    },
    {
      "cell_type": "code",
      "execution_count": null,
      "metadata": {
        "colab": {
          "base_uri": "https://localhost:8080/"
        },
        "id": "UuKYxUo-Doz7",
        "outputId": "eb452832-ecd6-475f-a63c-975ee8bb9aa7"
      },
      "outputs": [
        {
          "output_type": "stream",
          "name": "stdout",
          "text": [
            "--2023-02-08 08:53:11--  https://www.dropbox.com/s/kc77yps787sqt92/kaggle.json\n",
            "Resolving www.dropbox.com (www.dropbox.com)... 162.125.65.18, 2620:100:6022:18::a27d:4212\n",
            "Connecting to www.dropbox.com (www.dropbox.com)|162.125.65.18|:443... connected.\n",
            "HTTP request sent, awaiting response... 302 Found\n",
            "Location: /s/raw/kc77yps787sqt92/kaggle.json [following]\n",
            "--2023-02-08 08:53:11--  https://www.dropbox.com/s/raw/kc77yps787sqt92/kaggle.json\n",
            "Reusing existing connection to www.dropbox.com:443.\n",
            "HTTP request sent, awaiting response... 302 Found\n",
            "Location: https://ucba29515c9ced37a09b5a7e75ee.dl.dropboxusercontent.com/cd/0/inline/B2FOJJVGtBloMpvGTvioMP8uNNezm488-VGd6_eXURJOAwvUjUA3zltmCyZxgErU0nV8PhHZlx_yUTQbf9TbY8YsZEfC1ofR-t550rRg_QWziIYRUgh8WpPzKq4IaNV3Kh_11nVG-wF47raAeeTWIjfIQFKdByeXm-t7SWcKUtIcpw/file# [following]\n",
            "--2023-02-08 08:53:11--  https://ucba29515c9ced37a09b5a7e75ee.dl.dropboxusercontent.com/cd/0/inline/B2FOJJVGtBloMpvGTvioMP8uNNezm488-VGd6_eXURJOAwvUjUA3zltmCyZxgErU0nV8PhHZlx_yUTQbf9TbY8YsZEfC1ofR-t550rRg_QWziIYRUgh8WpPzKq4IaNV3Kh_11nVG-wF47raAeeTWIjfIQFKdByeXm-t7SWcKUtIcpw/file\n",
            "Resolving ucba29515c9ced37a09b5a7e75ee.dl.dropboxusercontent.com (ucba29515c9ced37a09b5a7e75ee.dl.dropboxusercontent.com)... 162.125.65.15, 2620:100:6021:15::a27d:410f\n",
            "Connecting to ucba29515c9ced37a09b5a7e75ee.dl.dropboxusercontent.com (ucba29515c9ced37a09b5a7e75ee.dl.dropboxusercontent.com)|162.125.65.15|:443... connected.\n",
            "HTTP request sent, awaiting response... 200 OK\n",
            "Length: 75 [text/plain]\n",
            "Saving to: ‘kaggle.json’\n",
            "\n",
            "kaggle.json         100%[===================>]      75  --.-KB/s    in 0s      \n",
            "\n",
            "2023-02-08 08:53:12 (15.3 MB/s) - ‘kaggle.json’ saved [75/75]\n",
            "\n"
          ]
        }
      ],
      "source": [
        "# upload kaggle.json\n",
        "# from google.colab import files\n",
        "# files.upload()\n",
        "!wget https://www.dropbox.com/s/kc77yps787sqt92/kaggle.json "
      ]
    },
    {
      "cell_type": "code",
      "execution_count": null,
      "metadata": {
        "id": "JYpTqPTqLWKs"
      },
      "outputs": [],
      "source": [
        "! mkdir ~/.kaggle\n",
        "! cp kaggle.json ~/.kaggle\n",
        "!chmod 600 ~/.kaggle/kaggle.json"
      ]
    },
    {
      "cell_type": "code",
      "execution_count": null,
      "metadata": {
        "colab": {
          "base_uri": "https://localhost:8080/"
        },
        "id": "1F10E_zHMf6-",
        "outputId": "9073f13c-5114-45ac-bd1c-b4c3b6267246"
      },
      "outputs": [
        {
          "output_type": "stream",
          "name": "stdout",
          "text": [
            "Downloading numta.zip to /content\n",
            "100% 1.91G/1.91G [01:06<00:00, 40.2MB/s]\n",
            "100% 1.91G/1.91G [01:06<00:00, 31.0MB/s]\n"
          ]
        }
      ],
      "source": [
        "! kaggle datasets download BengaliAI/numta"
      ]
    },
    {
      "cell_type": "code",
      "source": [
        " import os \n",
        " import zipfile"
      ],
      "metadata": {
        "id": "xg-f2-9rj9H9"
      },
      "execution_count": null,
      "outputs": []
    },
    {
      "cell_type": "code",
      "execution_count": null,
      "metadata": {
        "id": "TvhT9ZY-MpYw"
      },
      "outputs": [],
      "source": [
        "zip_ref = zipfile.ZipFile(\"./numta.zip\",\"r\")\n",
        "zip_ref.extractall(\"numta\")\n",
        "zip_ref.close()"
      ]
    },
    {
      "cell_type": "code",
      "execution_count": null,
      "metadata": {
        "id": "CWuQgfBTNSdD"
      },
      "outputs": [],
      "source": [
        "train = pd.read_csv(os.path.join(\"./numta/training-a.csv\"))\n",
        "test =  pd.read_csv(os.path.join(\"./numta/training-b.csv\"))\n"
      ]
    },
    {
      "cell_type": "code",
      "execution_count": null,
      "metadata": {
        "colab": {
          "base_uri": "https://localhost:8080/"
        },
        "id": "8TALjiCYhKRB",
        "outputId": "713aa513-84a1-47ea-8a32-1e564809bb45"
      },
      "outputs": [
        {
          "output_type": "execute_result",
          "data": {
            "text/plain": [
              "Index(['filename', 'original filename', 'scanid', 'digit',\n",
              "       'database name original', 'contributing team', 'database name'],\n",
              "      dtype='object')"
            ]
          },
          "metadata": {},
          "execution_count": 8
        }
      ],
      "source": [
        "train.columns"
      ]
    },
    {
      "cell_type": "code",
      "execution_count": null,
      "metadata": {
        "colab": {
          "base_uri": "https://localhost:8080/",
          "height": 363
        },
        "id": "ihiD6_KadU24",
        "outputId": "42c582be-6849-4c7c-c822-ea0d3560e52c"
      },
      "outputs": [
        {
          "output_type": "execute_result",
          "data": {
            "text/plain": [
              "     filename           original filename  scanid  digit  \\\n",
              "0  a00000.png   Scan_58_digit_5_num_8.png      58      5   \n",
              "1  a00001.png   Scan_73_digit_3_num_5.png      73      3   \n",
              "2  a00002.png   Scan_18_digit_1_num_3.png      18      1   \n",
              "3  a00003.png  Scan_166_digit_7_num_3.png     166      7   \n",
              "4  a00004.png  Scan_108_digit_0_num_1.png     108      0   \n",
              "5  a00005.png  Scan_247_digit_4_num_8.png     247      4   \n",
              "6  a00006.png  Scan_205_digit_3_num_6.png     205      3   \n",
              "7  a00007.png  Scan_252_digit_0_num_7.png     252      0   \n",
              "8  a00008.png  Scan_212_digit_4_num_5.png     212      4   \n",
              "9  a00009.png  Scan_207_digit_9_num_1.png     207      9   \n",
              "\n",
              "  database name original contributing team database name  \n",
              "0                  BHDDB      Buet_Broncos    training-a  \n",
              "1                  BHDDB      Buet_Broncos    training-a  \n",
              "2                  BHDDB      Buet_Broncos    training-a  \n",
              "3                  BHDDB      Buet_Broncos    training-a  \n",
              "4                  BHDDB      Buet_Broncos    training-a  \n",
              "5                  BHDDB      Buet_Broncos    training-a  \n",
              "6                  BHDDB      Buet_Broncos    training-a  \n",
              "7                  BHDDB      Buet_Broncos    training-a  \n",
              "8                  BHDDB      Buet_Broncos    training-a  \n",
              "9                  BHDDB      Buet_Broncos    training-a  "
            ],
            "text/html": [
              "\n",
              "  <div id=\"df-a66789b9-476c-4c9b-9339-ea65d83be22c\">\n",
              "    <div class=\"colab-df-container\">\n",
              "      <div>\n",
              "<style scoped>\n",
              "    .dataframe tbody tr th:only-of-type {\n",
              "        vertical-align: middle;\n",
              "    }\n",
              "\n",
              "    .dataframe tbody tr th {\n",
              "        vertical-align: top;\n",
              "    }\n",
              "\n",
              "    .dataframe thead th {\n",
              "        text-align: right;\n",
              "    }\n",
              "</style>\n",
              "<table border=\"1\" class=\"dataframe\">\n",
              "  <thead>\n",
              "    <tr style=\"text-align: right;\">\n",
              "      <th></th>\n",
              "      <th>filename</th>\n",
              "      <th>original filename</th>\n",
              "      <th>scanid</th>\n",
              "      <th>digit</th>\n",
              "      <th>database name original</th>\n",
              "      <th>contributing team</th>\n",
              "      <th>database name</th>\n",
              "    </tr>\n",
              "  </thead>\n",
              "  <tbody>\n",
              "    <tr>\n",
              "      <th>0</th>\n",
              "      <td>a00000.png</td>\n",
              "      <td>Scan_58_digit_5_num_8.png</td>\n",
              "      <td>58</td>\n",
              "      <td>5</td>\n",
              "      <td>BHDDB</td>\n",
              "      <td>Buet_Broncos</td>\n",
              "      <td>training-a</td>\n",
              "    </tr>\n",
              "    <tr>\n",
              "      <th>1</th>\n",
              "      <td>a00001.png</td>\n",
              "      <td>Scan_73_digit_3_num_5.png</td>\n",
              "      <td>73</td>\n",
              "      <td>3</td>\n",
              "      <td>BHDDB</td>\n",
              "      <td>Buet_Broncos</td>\n",
              "      <td>training-a</td>\n",
              "    </tr>\n",
              "    <tr>\n",
              "      <th>2</th>\n",
              "      <td>a00002.png</td>\n",
              "      <td>Scan_18_digit_1_num_3.png</td>\n",
              "      <td>18</td>\n",
              "      <td>1</td>\n",
              "      <td>BHDDB</td>\n",
              "      <td>Buet_Broncos</td>\n",
              "      <td>training-a</td>\n",
              "    </tr>\n",
              "    <tr>\n",
              "      <th>3</th>\n",
              "      <td>a00003.png</td>\n",
              "      <td>Scan_166_digit_7_num_3.png</td>\n",
              "      <td>166</td>\n",
              "      <td>7</td>\n",
              "      <td>BHDDB</td>\n",
              "      <td>Buet_Broncos</td>\n",
              "      <td>training-a</td>\n",
              "    </tr>\n",
              "    <tr>\n",
              "      <th>4</th>\n",
              "      <td>a00004.png</td>\n",
              "      <td>Scan_108_digit_0_num_1.png</td>\n",
              "      <td>108</td>\n",
              "      <td>0</td>\n",
              "      <td>BHDDB</td>\n",
              "      <td>Buet_Broncos</td>\n",
              "      <td>training-a</td>\n",
              "    </tr>\n",
              "    <tr>\n",
              "      <th>5</th>\n",
              "      <td>a00005.png</td>\n",
              "      <td>Scan_247_digit_4_num_8.png</td>\n",
              "      <td>247</td>\n",
              "      <td>4</td>\n",
              "      <td>BHDDB</td>\n",
              "      <td>Buet_Broncos</td>\n",
              "      <td>training-a</td>\n",
              "    </tr>\n",
              "    <tr>\n",
              "      <th>6</th>\n",
              "      <td>a00006.png</td>\n",
              "      <td>Scan_205_digit_3_num_6.png</td>\n",
              "      <td>205</td>\n",
              "      <td>3</td>\n",
              "      <td>BHDDB</td>\n",
              "      <td>Buet_Broncos</td>\n",
              "      <td>training-a</td>\n",
              "    </tr>\n",
              "    <tr>\n",
              "      <th>7</th>\n",
              "      <td>a00007.png</td>\n",
              "      <td>Scan_252_digit_0_num_7.png</td>\n",
              "      <td>252</td>\n",
              "      <td>0</td>\n",
              "      <td>BHDDB</td>\n",
              "      <td>Buet_Broncos</td>\n",
              "      <td>training-a</td>\n",
              "    </tr>\n",
              "    <tr>\n",
              "      <th>8</th>\n",
              "      <td>a00008.png</td>\n",
              "      <td>Scan_212_digit_4_num_5.png</td>\n",
              "      <td>212</td>\n",
              "      <td>4</td>\n",
              "      <td>BHDDB</td>\n",
              "      <td>Buet_Broncos</td>\n",
              "      <td>training-a</td>\n",
              "    </tr>\n",
              "    <tr>\n",
              "      <th>9</th>\n",
              "      <td>a00009.png</td>\n",
              "      <td>Scan_207_digit_9_num_1.png</td>\n",
              "      <td>207</td>\n",
              "      <td>9</td>\n",
              "      <td>BHDDB</td>\n",
              "      <td>Buet_Broncos</td>\n",
              "      <td>training-a</td>\n",
              "    </tr>\n",
              "  </tbody>\n",
              "</table>\n",
              "</div>\n",
              "      <button class=\"colab-df-convert\" onclick=\"convertToInteractive('df-a66789b9-476c-4c9b-9339-ea65d83be22c')\"\n",
              "              title=\"Convert this dataframe to an interactive table.\"\n",
              "              style=\"display:none;\">\n",
              "        \n",
              "  <svg xmlns=\"http://www.w3.org/2000/svg\" height=\"24px\"viewBox=\"0 0 24 24\"\n",
              "       width=\"24px\">\n",
              "    <path d=\"M0 0h24v24H0V0z\" fill=\"none\"/>\n",
              "    <path d=\"M18.56 5.44l.94 2.06.94-2.06 2.06-.94-2.06-.94-.94-2.06-.94 2.06-2.06.94zm-11 1L8.5 8.5l.94-2.06 2.06-.94-2.06-.94L8.5 2.5l-.94 2.06-2.06.94zm10 10l.94 2.06.94-2.06 2.06-.94-2.06-.94-.94-2.06-.94 2.06-2.06.94z\"/><path d=\"M17.41 7.96l-1.37-1.37c-.4-.4-.92-.59-1.43-.59-.52 0-1.04.2-1.43.59L10.3 9.45l-7.72 7.72c-.78.78-.78 2.05 0 2.83L4 21.41c.39.39.9.59 1.41.59.51 0 1.02-.2 1.41-.59l7.78-7.78 2.81-2.81c.8-.78.8-2.07 0-2.86zM5.41 20L4 18.59l7.72-7.72 1.47 1.35L5.41 20z\"/>\n",
              "  </svg>\n",
              "      </button>\n",
              "      \n",
              "  <style>\n",
              "    .colab-df-container {\n",
              "      display:flex;\n",
              "      flex-wrap:wrap;\n",
              "      gap: 12px;\n",
              "    }\n",
              "\n",
              "    .colab-df-convert {\n",
              "      background-color: #E8F0FE;\n",
              "      border: none;\n",
              "      border-radius: 50%;\n",
              "      cursor: pointer;\n",
              "      display: none;\n",
              "      fill: #1967D2;\n",
              "      height: 32px;\n",
              "      padding: 0 0 0 0;\n",
              "      width: 32px;\n",
              "    }\n",
              "\n",
              "    .colab-df-convert:hover {\n",
              "      background-color: #E2EBFA;\n",
              "      box-shadow: 0px 1px 2px rgba(60, 64, 67, 0.3), 0px 1px 3px 1px rgba(60, 64, 67, 0.15);\n",
              "      fill: #174EA6;\n",
              "    }\n",
              "\n",
              "    [theme=dark] .colab-df-convert {\n",
              "      background-color: #3B4455;\n",
              "      fill: #D2E3FC;\n",
              "    }\n",
              "\n",
              "    [theme=dark] .colab-df-convert:hover {\n",
              "      background-color: #434B5C;\n",
              "      box-shadow: 0px 1px 3px 1px rgba(0, 0, 0, 0.15);\n",
              "      filter: drop-shadow(0px 1px 2px rgba(0, 0, 0, 0.3));\n",
              "      fill: #FFFFFF;\n",
              "    }\n",
              "  </style>\n",
              "\n",
              "      <script>\n",
              "        const buttonEl =\n",
              "          document.querySelector('#df-a66789b9-476c-4c9b-9339-ea65d83be22c button.colab-df-convert');\n",
              "        buttonEl.style.display =\n",
              "          google.colab.kernel.accessAllowed ? 'block' : 'none';\n",
              "\n",
              "        async function convertToInteractive(key) {\n",
              "          const element = document.querySelector('#df-a66789b9-476c-4c9b-9339-ea65d83be22c');\n",
              "          const dataTable =\n",
              "            await google.colab.kernel.invokeFunction('convertToInteractive',\n",
              "                                                     [key], {});\n",
              "          if (!dataTable) return;\n",
              "\n",
              "          const docLinkHtml = 'Like what you see? Visit the ' +\n",
              "            '<a target=\"_blank\" href=https://colab.research.google.com/notebooks/data_table.ipynb>data table notebook</a>'\n",
              "            + ' to learn more about interactive tables.';\n",
              "          element.innerHTML = '';\n",
              "          dataTable['output_type'] = 'display_data';\n",
              "          await google.colab.output.renderOutput(dataTable, element);\n",
              "          const docLink = document.createElement('div');\n",
              "          docLink.innerHTML = docLinkHtml;\n",
              "          element.appendChild(docLink);\n",
              "        }\n",
              "      </script>\n",
              "    </div>\n",
              "  </div>\n",
              "  "
            ]
          },
          "metadata": {},
          "execution_count": 9
        }
      ],
      "source": [
        "train.head(10)"
      ]
    },
    {
      "cell_type": "code",
      "execution_count": null,
      "metadata": {
        "colab": {
          "base_uri": "https://localhost:8080/"
        },
        "id": "0qr4iNqadZo9",
        "outputId": "c5bdf62e-4dcd-4531-b76e-3e05b8c61109"
      },
      "outputs": [
        {
          "output_type": "execute_result",
          "data": {
            "text/plain": [
              "(19702, 7)"
            ]
          },
          "metadata": {},
          "execution_count": 10
        }
      ],
      "source": [
        "train.shape "
      ]
    },
    {
      "cell_type": "code",
      "execution_count": null,
      "metadata": {
        "colab": {
          "base_uri": "https://localhost:8080/"
        },
        "id": "MmD3DtsKdn33",
        "outputId": "b48a7ca6-be86-44b8-92f7-769012635742"
      },
      "outputs": [
        {
          "output_type": "execute_result",
          "data": {
            "text/plain": [
              "(19702, 2)"
            ]
          },
          "metadata": {},
          "execution_count": 11
        }
      ],
      "source": [
        "train = train[[\"filename\", 'digit']]\n",
        "test = test[[\"filename\", 'digit']]\n",
        "train.shape"
      ]
    },
    {
      "cell_type": "code",
      "execution_count": null,
      "metadata": {
        "colab": {
          "base_uri": "https://localhost:8080/",
          "height": 363
        },
        "id": "MtvQ4UgvycJ5",
        "outputId": "a464cbd5-5cf2-4a2a-adad-4f1c3128e703"
      },
      "outputs": [
        {
          "output_type": "execute_result",
          "data": {
            "text/plain": [
              "     filename  digit\n",
              "0  a00000.png      5\n",
              "1  a00001.png      3\n",
              "2  a00002.png      1\n",
              "3  a00003.png      7\n",
              "4  a00004.png      0\n",
              "5  a00005.png      4\n",
              "6  a00006.png      3\n",
              "7  a00007.png      0\n",
              "8  a00008.png      4\n",
              "9  a00009.png      9"
            ],
            "text/html": [
              "\n",
              "  <div id=\"df-495997c9-960e-4927-b9b9-b26f26059e41\">\n",
              "    <div class=\"colab-df-container\">\n",
              "      <div>\n",
              "<style scoped>\n",
              "    .dataframe tbody tr th:only-of-type {\n",
              "        vertical-align: middle;\n",
              "    }\n",
              "\n",
              "    .dataframe tbody tr th {\n",
              "        vertical-align: top;\n",
              "    }\n",
              "\n",
              "    .dataframe thead th {\n",
              "        text-align: right;\n",
              "    }\n",
              "</style>\n",
              "<table border=\"1\" class=\"dataframe\">\n",
              "  <thead>\n",
              "    <tr style=\"text-align: right;\">\n",
              "      <th></th>\n",
              "      <th>filename</th>\n",
              "      <th>digit</th>\n",
              "    </tr>\n",
              "  </thead>\n",
              "  <tbody>\n",
              "    <tr>\n",
              "      <th>0</th>\n",
              "      <td>a00000.png</td>\n",
              "      <td>5</td>\n",
              "    </tr>\n",
              "    <tr>\n",
              "      <th>1</th>\n",
              "      <td>a00001.png</td>\n",
              "      <td>3</td>\n",
              "    </tr>\n",
              "    <tr>\n",
              "      <th>2</th>\n",
              "      <td>a00002.png</td>\n",
              "      <td>1</td>\n",
              "    </tr>\n",
              "    <tr>\n",
              "      <th>3</th>\n",
              "      <td>a00003.png</td>\n",
              "      <td>7</td>\n",
              "    </tr>\n",
              "    <tr>\n",
              "      <th>4</th>\n",
              "      <td>a00004.png</td>\n",
              "      <td>0</td>\n",
              "    </tr>\n",
              "    <tr>\n",
              "      <th>5</th>\n",
              "      <td>a00005.png</td>\n",
              "      <td>4</td>\n",
              "    </tr>\n",
              "    <tr>\n",
              "      <th>6</th>\n",
              "      <td>a00006.png</td>\n",
              "      <td>3</td>\n",
              "    </tr>\n",
              "    <tr>\n",
              "      <th>7</th>\n",
              "      <td>a00007.png</td>\n",
              "      <td>0</td>\n",
              "    </tr>\n",
              "    <tr>\n",
              "      <th>8</th>\n",
              "      <td>a00008.png</td>\n",
              "      <td>4</td>\n",
              "    </tr>\n",
              "    <tr>\n",
              "      <th>9</th>\n",
              "      <td>a00009.png</td>\n",
              "      <td>9</td>\n",
              "    </tr>\n",
              "  </tbody>\n",
              "</table>\n",
              "</div>\n",
              "      <button class=\"colab-df-convert\" onclick=\"convertToInteractive('df-495997c9-960e-4927-b9b9-b26f26059e41')\"\n",
              "              title=\"Convert this dataframe to an interactive table.\"\n",
              "              style=\"display:none;\">\n",
              "        \n",
              "  <svg xmlns=\"http://www.w3.org/2000/svg\" height=\"24px\"viewBox=\"0 0 24 24\"\n",
              "       width=\"24px\">\n",
              "    <path d=\"M0 0h24v24H0V0z\" fill=\"none\"/>\n",
              "    <path d=\"M18.56 5.44l.94 2.06.94-2.06 2.06-.94-2.06-.94-.94-2.06-.94 2.06-2.06.94zm-11 1L8.5 8.5l.94-2.06 2.06-.94-2.06-.94L8.5 2.5l-.94 2.06-2.06.94zm10 10l.94 2.06.94-2.06 2.06-.94-2.06-.94-.94-2.06-.94 2.06-2.06.94z\"/><path d=\"M17.41 7.96l-1.37-1.37c-.4-.4-.92-.59-1.43-.59-.52 0-1.04.2-1.43.59L10.3 9.45l-7.72 7.72c-.78.78-.78 2.05 0 2.83L4 21.41c.39.39.9.59 1.41.59.51 0 1.02-.2 1.41-.59l7.78-7.78 2.81-2.81c.8-.78.8-2.07 0-2.86zM5.41 20L4 18.59l7.72-7.72 1.47 1.35L5.41 20z\"/>\n",
              "  </svg>\n",
              "      </button>\n",
              "      \n",
              "  <style>\n",
              "    .colab-df-container {\n",
              "      display:flex;\n",
              "      flex-wrap:wrap;\n",
              "      gap: 12px;\n",
              "    }\n",
              "\n",
              "    .colab-df-convert {\n",
              "      background-color: #E8F0FE;\n",
              "      border: none;\n",
              "      border-radius: 50%;\n",
              "      cursor: pointer;\n",
              "      display: none;\n",
              "      fill: #1967D2;\n",
              "      height: 32px;\n",
              "      padding: 0 0 0 0;\n",
              "      width: 32px;\n",
              "    }\n",
              "\n",
              "    .colab-df-convert:hover {\n",
              "      background-color: #E2EBFA;\n",
              "      box-shadow: 0px 1px 2px rgba(60, 64, 67, 0.3), 0px 1px 3px 1px rgba(60, 64, 67, 0.15);\n",
              "      fill: #174EA6;\n",
              "    }\n",
              "\n",
              "    [theme=dark] .colab-df-convert {\n",
              "      background-color: #3B4455;\n",
              "      fill: #D2E3FC;\n",
              "    }\n",
              "\n",
              "    [theme=dark] .colab-df-convert:hover {\n",
              "      background-color: #434B5C;\n",
              "      box-shadow: 0px 1px 3px 1px rgba(0, 0, 0, 0.15);\n",
              "      filter: drop-shadow(0px 1px 2px rgba(0, 0, 0, 0.3));\n",
              "      fill: #FFFFFF;\n",
              "    }\n",
              "  </style>\n",
              "\n",
              "      <script>\n",
              "        const buttonEl =\n",
              "          document.querySelector('#df-495997c9-960e-4927-b9b9-b26f26059e41 button.colab-df-convert');\n",
              "        buttonEl.style.display =\n",
              "          google.colab.kernel.accessAllowed ? 'block' : 'none';\n",
              "\n",
              "        async function convertToInteractive(key) {\n",
              "          const element = document.querySelector('#df-495997c9-960e-4927-b9b9-b26f26059e41');\n",
              "          const dataTable =\n",
              "            await google.colab.kernel.invokeFunction('convertToInteractive',\n",
              "                                                     [key], {});\n",
              "          if (!dataTable) return;\n",
              "\n",
              "          const docLinkHtml = 'Like what you see? Visit the ' +\n",
              "            '<a target=\"_blank\" href=https://colab.research.google.com/notebooks/data_table.ipynb>data table notebook</a>'\n",
              "            + ' to learn more about interactive tables.';\n",
              "          element.innerHTML = '';\n",
              "          dataTable['output_type'] = 'display_data';\n",
              "          await google.colab.output.renderOutput(dataTable, element);\n",
              "          const docLink = document.createElement('div');\n",
              "          docLink.innerHTML = docLinkHtml;\n",
              "          element.appendChild(docLink);\n",
              "        }\n",
              "      </script>\n",
              "    </div>\n",
              "  </div>\n",
              "  "
            ]
          },
          "metadata": {},
          "execution_count": 12
        }
      ],
      "source": [
        "train.head(10)"
      ]
    },
    {
      "cell_type": "code",
      "source": [
        "train.isnull().sum()"
      ],
      "metadata": {
        "colab": {
          "base_uri": "https://localhost:8080/"
        },
        "id": "dz0aa4I9trJT",
        "outputId": "7662e1df-0fab-452d-ee5a-d4bf31a99712"
      },
      "execution_count": null,
      "outputs": [
        {
          "output_type": "execute_result",
          "data": {
            "text/plain": [
              "filename    0\n",
              "digit       0\n",
              "dtype: int64"
            ]
          },
          "metadata": {},
          "execution_count": 13
        }
      ]
    },
    {
      "cell_type": "code",
      "execution_count": null,
      "metadata": {
        "colab": {
          "base_uri": "https://localhost:8080/",
          "height": 36
        },
        "id": "sguIAbXAzfyA",
        "outputId": "54918635-6d05-4dbb-cdac-5f4ffe52712b"
      },
      "outputs": [
        {
          "output_type": "execute_result",
          "data": {
            "text/plain": [
              "'a00000.png'"
            ],
            "application/vnd.google.colaboratory.intrinsic+json": {
              "type": "string"
            }
          },
          "metadata": {},
          "execution_count": 14
        }
      ],
      "source": [
        "img_path = train.iloc[0, 0]\n",
        "img_path"
      ]
    },
    {
      "cell_type": "code",
      "execution_count": null,
      "metadata": {
        "colab": {
          "base_uri": "https://localhost:8080/",
          "height": 286
        },
        "id": "ytOXyYrYz1NC",
        "outputId": "dbc7a937-bec6-4652-95b8-0dda522ff9cf"
      },
      "outputs": [
        {
          "output_type": "stream",
          "name": "stdout",
          "text": [
            "(180, 180, 3)\n"
          ]
        },
        {
          "output_type": "display_data",
          "data": {
            "text/plain": [
              "<Figure size 432x288 with 1 Axes>"
            ],
            "image/png": "[encoded data removed]"
          },
          "metadata": {
            "needs_background": "light"
          }
        }
      ],
      "source": [
        "img_path = os.path.join(\"./numta/training-a/a00000.png\")\n",
        "img = plt.imread(img_path)\n",
        "print(img.shape)\n",
        "plt.imshow(img)\n",
        "plt.show()"
      ]
    },
    {
      "cell_type": "code",
      "execution_count": null,
      "metadata": {
        "colab": {
          "base_uri": "https://localhost:8080/"
        },
        "id": "RVtTfJe568IE",
        "outputId": "9e64797f-22db-476d-93ec-c6f7158584cc"
      },
      "outputs": [
        {
          "output_type": "execute_result",
          "data": {
            "text/plain": [
              "5"
            ]
          },
          "metadata": {},
          "execution_count": 16
        }
      ],
      "source": [
        "train.iloc[0, 1]"
      ]
    },
    {
      "cell_type": "code",
      "source": [
        "train.shape"
      ],
      "metadata": {
        "colab": {
          "base_uri": "https://localhost:8080/"
        },
        "id": "xHHpGQkGj3QO",
        "outputId": "da0c0a33-a481-48cc-993c-37e1720d9668"
      },
      "execution_count": null,
      "outputs": [
        {
          "output_type": "execute_result",
          "data": {
            "text/plain": [
              "(19702, 2)"
            ]
          },
          "metadata": {},
          "execution_count": 17
        }
      ]
    },
    {
      "cell_type": "code",
      "source": [
        "train.values  # gives all values of a dataframe"
      ],
      "metadata": {
        "colab": {
          "base_uri": "https://localhost:8080/"
        },
        "id": "ngpq-w-023y7",
        "outputId": "5f8f31e2-a4ae-44a1-9d6d-d62f80896d50"
      },
      "execution_count": null,
      "outputs": [
        {
          "output_type": "execute_result",
          "data": {
            "text/plain": [
              "array([['a00000.png', 5],\n",
              "       ['a00001.png', 3],\n",
              "       ['a00002.png', 1],\n",
              "       ...,\n",
              "       ['a19699.png', 8],\n",
              "       ['a19700.png', 3],\n",
              "       ['a19701.png', 8]], dtype=object)"
            ]
          },
          "metadata": {},
          "execution_count": 18
        }
      ]
    },
    {
      "cell_type": "code",
      "execution_count": null,
      "metadata": {
        "id": "AuRlc43I60NB"
      },
      "outputs": [],
      "source": [
        "import os, shutil, pathlib\n",
        "\n",
        "original_dir = pathlib.Path(\"./numta/training-a\")\n",
        "new_base_dir = pathlib.Path(\"Reformed_training\")\n",
        "if not os.path.exists(new_base_dir):\n",
        "    os.mkdir(new_base_dir)\n",
        "for frame, labels in train.values:\n",
        "  if not os.path.exists(new_base_dir/str(labels)):\n",
        "    os.mkdir(new_base_dir/str(labels))\n",
        "\n",
        "  dst = new_base_dir/str(labels)/frame\n",
        "  shutil.copyfile(src = original_dir/frame, dst = dst)\n",
        "\n",
        "\n",
        "\n",
        "\n",
        "#   img_path = os.path.join(base_path, train.iloc[i,0])\n",
        "#   img = load_img(img_path, target_size = (180, 180, 3))\n",
        "#   x = img_to_array(img)\n",
        "#   x = np.expand_dims(x, axis =0)\n",
        "#   y = np.expand_dims(train.iloc[i,1], axis =0)\n"
      ]
    },
    {
      "cell_type": "code",
      "execution_count": null,
      "metadata": {
        "id": "lTwPXDK4tv8F"
      },
      "outputs": [],
      "source": [
        "original_dir = pathlib.Path(\"./numta/training-b\")\n",
        "new_base_dir = pathlib.Path(\"Reformed_test\")\n",
        "if not os.path.exists(new_base_dir):\n",
        "    os.mkdir(new_base_dir)\n",
        "for frame, labels in test.values:\n",
        "  if not os.path.exists(new_base_dir/str(labels)):\n",
        "    os.mkdir(new_base_dir/str(labels))\n",
        "\n",
        "  dst = new_base_dir/str(labels)/frame\n",
        "  shutil.copyfile(src = original_dir/frame, dst = dst)"
      ]
    },
    {
      "cell_type": "code",
      "source": [
        "base_dir = pathlib.Path(\"./Reformed_training\")\n",
        "for subdir in os.listdir(base_dir):\n",
        "  dir = base_dir/subdir\n",
        "  print(f\"size of  data in {subdir} is {len(os.listdir(dir))}\")\n"
      ],
      "metadata": {
        "colab": {
          "base_uri": "https://localhost:8080/"
        },
        "id": "3wE9NMXhwmtM",
        "outputId": "4c09a421-21de-42c7-ae4e-7eacd31058b8"
      },
      "execution_count": null,
      "outputs": [
        {
          "output_type": "stream",
          "name": "stdout",
          "text": [
            "size of  data in 8 is 1950\n",
            "size of  data in 6 is 1983\n",
            "size of  data in 2 is 1984\n",
            "size of  data in 4 is 1982\n",
            "size of  data in 1 is 1963\n",
            "size of  data in 9 is 1964\n",
            "size of  data in 7 is 1960\n",
            "size of  data in 5 is 1965\n",
            "size of  data in 0 is 1975\n",
            "size of  data in 3 is 1976\n"
          ]
        }
      ]
    },
    {
      "cell_type": "code",
      "source": [
        "original_dir = pathlib.Path(\"Reformed_training\")\n",
        "new_base_dir = pathlib.Path(\"Reformed_small\")\n",
        "if not os.path.exists(new_base_dir):\n",
        "  os.mkdir(new_base_dir)\n",
        "\n",
        "\n",
        "def make_subset(subset_name, start_index, end_index):\n",
        "  for category in  os.listdir(original_dir): \n",
        "    dir = new_base_dir/subset_name/category\n",
        "    if not os.path.exists(dir):\n",
        "        os.makedirs(dir)\n",
        "    frames =  os.listdir(original_dir/category)\n",
        "    new_frames = [os.path.join(frame) for frame in frames[start_index:end_index]]\n",
        "    for frame in new_frames:\n",
        "      shutil.copyfile(src = original_dir/category/frame, dst = dir/frame)\n",
        "\n",
        "\n",
        "make_subset(\"train\", start_index =0, end_index= 1200)\n",
        "make_subset(\"validation\", start_index =1200, end_index= 1300)\n",
        "make_subset(\"test\", start_index =1300, end_index= 1400)"
      ],
      "metadata": {
        "id": "owfS_qqEZCcX"
      },
      "execution_count": null,
      "outputs": []
    },
    {
      "cell_type": "code",
      "source": [
        "base_dir = pathlib.Path(\"./Reformed_small/train\")\n",
        "print(\"Train data size for each category: \")\n",
        "for subdir in os.listdir(base_dir):\n",
        "  dir = base_dir/subdir\n",
        "  print(f\"size of  data in {subdir} is {len(os.listdir(dir))}\")"
      ],
      "metadata": {
        "colab": {
          "base_uri": "https://localhost:8080/"
        },
        "id": "e9GKY3fDeNMd",
        "outputId": "c10dd58e-705f-45fc-bb99-9796856e0767"
      },
      "execution_count": null,
      "outputs": [
        {
          "output_type": "stream",
          "name": "stdout",
          "text": [
            "Train data size for each category: \n",
            "size of  data in 8 is 1200\n",
            "size of  data in 6 is 1200\n",
            "size of  data in 2 is 1200\n",
            "size of  data in 4 is 1200\n",
            "size of  data in 1 is 1200\n",
            "size of  data in 9 is 1200\n",
            "size of  data in 7 is 1200\n",
            "size of  data in 5 is 1200\n",
            "size of  data in 0 is 1200\n",
            "size of  data in 3 is 1200\n"
          ]
        }
      ]
    },
    {
      "cell_type": "code",
      "source": [
        "base_dir = pathlib.Path(\"./Reformed_small/test\")\n",
        "print(\"Test data size for each category: \")\n",
        "for subdir in os.listdir(base_dir):\n",
        "  dir = base_dir/subdir\n",
        "  print(f\"size of  data in {subdir} is {len(os.listdir(dir))}\")"
      ],
      "metadata": {
        "colab": {
          "base_uri": "https://localhost:8080/"
        },
        "id": "lpAAvlyNI0VE",
        "outputId": "afd389d5-62de-4767-c51b-29903116016c"
      },
      "execution_count": null,
      "outputs": [
        {
          "output_type": "stream",
          "name": "stdout",
          "text": [
            "Test data size for each category: \n",
            "size of  data in 8 is 100\n",
            "size of  data in 6 is 100\n",
            "size of  data in 2 is 100\n",
            "size of  data in 4 is 100\n",
            "size of  data in 1 is 100\n",
            "size of  data in 9 is 100\n",
            "size of  data in 7 is 100\n",
            "size of  data in 5 is 100\n",
            "size of  data in 0 is 100\n",
            "size of  data in 3 is 100\n"
          ]
        }
      ]
    },
    {
      "cell_type": "code",
      "source": [
        "base_dir = pathlib.Path(\"./Reformed_small/validation\")\n",
        "print(\"Validation data size for each category: \")\n",
        "for subdir in os.listdir(base_dir):\n",
        "  dir = base_dir/subdir\n",
        "  print(f\"size of  data in {subdir} is {len(os.listdir(dir))}\")"
      ],
      "metadata": {
        "colab": {
          "base_uri": "https://localhost:8080/"
        },
        "id": "ypAHGwJHI5gz",
        "outputId": "2f352379-1ba1-4727-8d68-02946327e81d"
      },
      "execution_count": null,
      "outputs": [
        {
          "output_type": "stream",
          "name": "stdout",
          "text": [
            "Validation data size for each category: \n",
            "size of  data in 8 is 100\n",
            "size of  data in 6 is 100\n",
            "size of  data in 2 is 100\n",
            "size of  data in 4 is 100\n",
            "size of  data in 1 is 100\n",
            "size of  data in 9 is 100\n",
            "size of  data in 7 is 100\n",
            "size of  data in 5 is 100\n",
            "size of  data in 0 is 100\n",
            "size of  data in 3 is 100\n"
          ]
        }
      ]
    },
    {
      "cell_type": "code",
      "execution_count": null,
      "metadata": {
        "id": "NHRpOasX62lY"
      },
      "outputs": [],
      "source": [
        "inputs = keras.Input(shape= (180, 180, 3))\n",
        "x = layers.Rescaling(1./255)(inputs)\n",
        "x = layers.Conv2D(filters = 32, kernel_size = 3, activation =\"relu\")(x)\n",
        "x = layers.MaxPooling2D(pool_size =2)(x)\n",
        "x = layers.Conv2D(filters = 64, kernel_size = 3, activation =\"relu\")(x)\n",
        "x = layers.MaxPooling2D(pool_size =2)(x)\n",
        "x = layers.Conv2D(filters = 128, kernel_size = 3, activation =\"relu\")(x)\n",
        "x = layers.MaxPooling2D(pool_size =2)(x)\n",
        "x = layers.Conv2D(filters = 256, kernel_size = 3, activation =\"relu\")(x)\n",
        "x = layers.MaxPooling2D(pool_size =2)(x)\n",
        "x = layers.Conv2D(filters = 512, kernel_size = 3, activation =\"relu\")(x)\n",
        "x = layers.Flatten()(x)\n",
        "\n",
        "outputs = layers.Dense(10, activation=\"softmax\")(x)\n",
        "model = keras.Model(inputs, outputs)"
      ]
    },
    {
      "cell_type": "code",
      "execution_count": null,
      "metadata": {
        "id": "CJZl8rkn6WEQ",
        "colab": {
          "base_uri": "https://localhost:8080/"
        },
        "outputId": "b23ee360-17ea-49c2-8bf7-ceb18e3658ee"
      },
      "outputs": [
        {
          "output_type": "stream",
          "name": "stdout",
          "text": [
            "Model: \"model\"\n",
            "_________________________________________________________________\n",
            " Layer (type)                Output Shape              Param #   \n",
            "=================================================================\n",
            " input_1 (InputLayer)        [(None, 180, 180, 3)]     0         \n",
            "                                                                 \n",
            " rescaling (Rescaling)       (None, 180, 180, 3)       0         \n",
            "                                                                 \n",
            " conv2d (Conv2D)             (None, 178, 178, 32)      896       \n",
            "                                                                 \n",
            " max_pooling2d (MaxPooling2D  (None, 89, 89, 32)       0         \n",
            " )                                                               \n",
            "                                                                 \n",
            " conv2d_1 (Conv2D)           (None, 87, 87, 64)        18496     \n",
            "                                                                 \n",
            " max_pooling2d_1 (MaxPooling  (None, 43, 43, 64)       0         \n",
            " 2D)                                                             \n",
            "                                                                 \n",
            " conv2d_2 (Conv2D)           (None, 41, 41, 128)       73856     \n",
            "                                                                 \n",
            " max_pooling2d_2 (MaxPooling  (None, 20, 20, 128)      0         \n",
            " 2D)                                                             \n",
            "                                                                 \n",
            " conv2d_3 (Conv2D)           (None, 18, 18, 256)       295168    \n",
            "                                                                 \n",
            " max_pooling2d_3 (MaxPooling  (None, 9, 9, 256)        0         \n",
            " 2D)                                                             \n",
            "                                                                 \n",
            " conv2d_4 (Conv2D)           (None, 7, 7, 512)         1180160   \n",
            "                                                                 \n",
            " flatten (Flatten)           (None, 25088)             0         \n",
            "                                                                 \n",
            " dense (Dense)               (None, 10)                250890    \n",
            "                                                                 \n",
            "=================================================================\n",
            "Total params: 1,819,466\n",
            "Trainable params: 1,819,466\n",
            "Non-trainable params: 0\n",
            "_________________________________________________________________\n"
          ]
        }
      ],
      "source": [
        "model.summary()"
      ]
    },
    {
      "cell_type": "code",
      "execution_count": null,
      "metadata": {
        "id": "4Q-_10MX6fXd"
      },
      "outputs": [],
      "source": [
        "model.compile(\n",
        "    optimizer = \"adam\",\n",
        "    loss = \"sparse_categorical_crossentropy\",\n",
        "    metrics = [\"accuracy\"]\n",
        ")"
      ]
    },
    {
      "cell_type": "code",
      "execution_count": null,
      "metadata": {
        "id": "C-iwYWs9-E1G"
      },
      "outputs": [],
      "source": [
        "callbacks = [\n",
        "    keras.callbacks.ModelCheckpoint(\n",
        "        filepath = \"bangla_hand_written_digit_pure.keras\",\n",
        "        save_best_only = True,\n",
        "        monitor = \"val_loss\"\n",
        "    )\n",
        "]"
      ]
    },
    {
      "cell_type": "code",
      "source": [
        "train_dir = pathlib.Path(\"/content/Reformed_small/train\")\n",
        "test_dir =  pathlib.Path(\"/content/Reformed_small/test\")\n",
        "validation_dir = pathlib.Path(\"/content/Reformed_small/validation\")\n",
        "train_dataset = image_dataset_from_directory(\n",
        "    train_dir,\n",
        "    image_size = (180, 180),\n",
        "    batch_size = 32\n",
        ")\n",
        "validation_dataset = image_dataset_from_directory(\n",
        "    validation_dir,\n",
        "    image_size = (180, 180),\n",
        "    batch_size = 32\n",
        ")\n",
        "\n",
        "test_dataset = image_dataset_from_directory(\n",
        "    test_dir,\n",
        "    image_size = (180, 180),\n",
        "    batch_size = 32\n",
        ")"
      ],
      "metadata": {
        "colab": {
          "base_uri": "https://localhost:8080/"
        },
        "id": "GiaLYH02AEni",
        "outputId": "944ab4e0-6dae-40b3-a05e-a26abd17d7fe"
      },
      "execution_count": null,
      "outputs": [
        {
          "output_type": "stream",
          "name": "stdout",
          "text": [
            "Found 12000 files belonging to 10 classes.\n",
            "Found 1000 files belonging to 10 classes.\n",
            "Found 1000 files belonging to 10 classes.\n"
          ]
        }
      ]
    },
    {
      "cell_type": "code",
      "source": [
        "for data_batch, label_batch in train_dataset:\n",
        "  print(data_batch.shape, label_batch.shape)\n",
        "  break"
      ],
      "metadata": {
        "colab": {
          "base_uri": "https://localhost:8080/"
        },
        "id": "kxeR1hGABEca",
        "outputId": "c7d9e9ff-c13c-4962-c64f-b58e934006a3"
      },
      "execution_count": null,
      "outputs": [
        {
          "output_type": "stream",
          "name": "stdout",
          "text": [
            "(32, 180, 180, 3) (32,)\n"
          ]
        }
      ]
    },
    {
      "cell_type": "markdown",
      "source": [
        "# Wait! Wait! Wait!  it is time consuming hole. Confirm again run before"
      ],
      "metadata": {
        "id": "LcQb6AU5U1Ea"
      }
    },
    {
      "cell_type": "code",
      "execution_count": null,
      "metadata": {
        "id": "46biMsNg6iZk",
        "colab": {
          "base_uri": "https://localhost:8080/"
        },
        "outputId": "f6b48e46-1784-401b-c4ac-573eb1123ffc"
      },
      "outputs": [
        {
          "output_type": "stream",
          "name": "stdout",
          "text": [
            "Epoch 1/30\n",
            "375/375 [==============================] - 36s 72ms/step - loss: 1.5335 - accuracy: 0.4565 - val_loss: 0.6088 - val_accuracy: 0.8220\n",
            "Epoch 2/30\n",
            "375/375 [==============================] - 22s 59ms/step - loss: 0.3448 - accuracy: 0.8914 - val_loss: 0.2747 - val_accuracy: 0.9100\n",
            "Epoch 3/30\n",
            "375/375 [==============================] - 21s 56ms/step - loss: 0.1563 - accuracy: 0.9492 - val_loss: 0.1835 - val_accuracy: 0.9460\n",
            "Epoch 4/30\n",
            "375/375 [==============================] - 22s 59ms/step - loss: 0.1071 - accuracy: 0.9653 - val_loss: 0.1901 - val_accuracy: 0.9450\n",
            "Epoch 5/30\n",
            "375/375 [==============================] - 23s 59ms/step - loss: 0.0742 - accuracy: 0.9752 - val_loss: 0.1501 - val_accuracy: 0.9640\n",
            "Epoch 6/30\n",
            "375/375 [==============================] - 22s 58ms/step - loss: 0.0444 - accuracy: 0.9861 - val_loss: 0.1443 - val_accuracy: 0.9600\n",
            "Epoch 7/30\n",
            "375/375 [==============================] - 21s 55ms/step - loss: 0.0366 - accuracy: 0.9893 - val_loss: 0.1879 - val_accuracy: 0.9510\n",
            "Epoch 8/30\n",
            "375/375 [==============================] - 26s 67ms/step - loss: 0.0307 - accuracy: 0.9913 - val_loss: 0.1804 - val_accuracy: 0.9550\n",
            "Epoch 9/30\n",
            "375/375 [==============================] - 22s 58ms/step - loss: 0.0293 - accuracy: 0.9911 - val_loss: 0.2614 - val_accuracy: 0.9270\n",
            "Epoch 10/30\n",
            "375/375 [==============================] - 29s 77ms/step - loss: 0.0276 - accuracy: 0.9913 - val_loss: 0.1674 - val_accuracy: 0.9580\n",
            "Epoch 11/30\n",
            "375/375 [==============================] - 29s 76ms/step - loss: 0.0210 - accuracy: 0.9937 - val_loss: 0.2105 - val_accuracy: 0.9600\n",
            "Epoch 12/30\n",
            "375/375 [==============================] - 27s 71ms/step - loss: 0.0184 - accuracy: 0.9939 - val_loss: 0.1886 - val_accuracy: 0.9620\n",
            "Epoch 13/30\n",
            "375/375 [==============================] - 30s 78ms/step - loss: 0.0263 - accuracy: 0.9913 - val_loss: 0.2029 - val_accuracy: 0.9630\n",
            "Epoch 14/30\n",
            "375/375 [==============================] - 24s 64ms/step - loss: 0.0142 - accuracy: 0.9953 - val_loss: 0.2056 - val_accuracy: 0.9590\n",
            "Epoch 15/30\n",
            "375/375 [==============================] - 24s 62ms/step - loss: 0.0170 - accuracy: 0.9948 - val_loss: 0.1728 - val_accuracy: 0.9660\n",
            "Epoch 16/30\n",
            "375/375 [==============================] - 24s 64ms/step - loss: 0.0148 - accuracy: 0.9958 - val_loss: 0.1817 - val_accuracy: 0.9640\n",
            "Epoch 17/30\n",
            "375/375 [==============================] - 22s 59ms/step - loss: 0.0165 - accuracy: 0.9948 - val_loss: 0.1748 - val_accuracy: 0.9660\n",
            "Epoch 18/30\n",
            "375/375 [==============================] - 28s 75ms/step - loss: 0.0154 - accuracy: 0.9957 - val_loss: 0.1509 - val_accuracy: 0.9700\n",
            "Epoch 19/30\n",
            "375/375 [==============================] - 22s 57ms/step - loss: 0.0098 - accuracy: 0.9967 - val_loss: 0.2210 - val_accuracy: 0.9650\n",
            "Epoch 20/30\n",
            "375/375 [==============================] - 22s 58ms/step - loss: 0.0169 - accuracy: 0.9942 - val_loss: 0.1581 - val_accuracy: 0.9730\n",
            "Epoch 21/30\n",
            "375/375 [==============================] - 22s 58ms/step - loss: 0.0070 - accuracy: 0.9974 - val_loss: 0.1844 - val_accuracy: 0.9730\n",
            "Epoch 22/30\n",
            "375/375 [==============================] - 22s 57ms/step - loss: 0.0156 - accuracy: 0.9948 - val_loss: 0.1986 - val_accuracy: 0.9680\n",
            "Epoch 23/30\n",
            "375/375 [==============================] - 29s 76ms/step - loss: 0.0060 - accuracy: 0.9982 - val_loss: 0.1962 - val_accuracy: 0.9700\n",
            "Epoch 24/30\n",
            "375/375 [==============================] - 32s 82ms/step - loss: 0.0081 - accuracy: 0.9972 - val_loss: 0.1633 - val_accuracy: 0.9680\n",
            "Epoch 25/30\n",
            "375/375 [==============================] - 28s 72ms/step - loss: 0.0074 - accuracy: 0.9977 - val_loss: 0.1816 - val_accuracy: 0.9700\n",
            "Epoch 26/30\n",
            "375/375 [==============================] - 26s 68ms/step - loss: 0.0098 - accuracy: 0.9966 - val_loss: 0.2551 - val_accuracy: 0.9600\n",
            "Epoch 27/30\n",
            "375/375 [==============================] - 24s 63ms/step - loss: 0.0076 - accuracy: 0.9981 - val_loss: 0.1860 - val_accuracy: 0.9720\n",
            "Epoch 28/30\n",
            "375/375 [==============================] - 22s 57ms/step - loss: 0.0109 - accuracy: 0.9969 - val_loss: 0.2028 - val_accuracy: 0.9680\n",
            "Epoch 29/30\n",
            "375/375 [==============================] - 26s 69ms/step - loss: 0.0060 - accuracy: 0.9980 - val_loss: 0.2177 - val_accuracy: 0.9700\n",
            "Epoch 30/30\n",
            "375/375 [==============================] - 28s 74ms/step - loss: 0.0042 - accuracy: 0.9985 - val_loss: 0.1778 - val_accuracy: 0.9650\n"
          ]
        }
      ],
      "source": [
        "history = model.fit(\n",
        "    train_dataset,\n",
        "    epochs = 30,\n",
        "    batch_size=32,\n",
        "    validation_data = test_dataset,\n",
        "    callbacks = callbacks\n",
        "   )"
      ]
    },
    {
      "cell_type": "code",
      "source": [
        "accuracy = history.history[\"accuracy\"]\n",
        "val_accuracy = history.history[\"val_accuracy\"]\n",
        "loss = history.history[\"loss\"]\n",
        "val_loss = history.history[\"val_loss\"]\n",
        "\n",
        "epochs = range(1, len(loss)+1)\n",
        "plt.plot(epochs, accuracy, \"bo\", label = \"Training Accuracy\")\n",
        "plt.plot(epochs, val_accuracy, label=\"Validation Accuracy\")\n",
        "plt.title(\"Training and validation accuracy\")\n",
        "plt.legend()\n",
        "plt.figure()\n",
        "\n",
        "plt.plot(epochs, loss, \"bo\", label = \"Training loss\")\n",
        "plt.plot(epochs, val_loss, label=\"Validation loss\")\n",
        "plt.title(\"Training and validation loss\")\n",
        "plt.legend()"
      ],
      "metadata": {
        "id": "GNfu03ACCImi",
        "colab": {
          "base_uri": "https://localhost:8080/",
          "height": 562
        },
        "outputId": "9ac195a1-e420-4de2-c01e-b4ae5c5c90f8"
      },
      "execution_count": null,
      "outputs": [
        {
          "output_type": "execute_result",
          "data": {
            "text/plain": [
              "<matplotlib.legend.Legend at 0x7f97a8432490>"
            ]
          },
          "metadata": {},
          "execution_count": 37
        },
        {
          "output_type": "display_data",
          "data": {
            "text/plain": [
              "<Figure size 432x288 with 1 Axes>"
            ],
            "image/png": "[encoded data removed]"
          },
          "metadata": {
            "needs_background": "light"
          }
        },
        {
          "output_type": "display_data",
          "data": {
            "text/plain": [
              "<Figure size 432x288 with 1 Axes>"
            ],
            "image/png": "[encoded data removed]"
          },
          "metadata": {
            "needs_background": "light"
          }
        }
      ]
    },
    {
      "cell_type": "code",
      "source": [
        "test_model = keras.models.load_model(\"/content/bangla_hand_written_digit_pure.keras\")\n",
        "test_loss, test_acc = test_model.evaluate(test_dataset)\n",
        "print(f\"Test accuracy using Convulation and Polling Layer: {test_acc}\")"
      ],
      "metadata": {
        "id": "B7GfcEaBGNZU",
        "colab": {
          "base_uri": "https://localhost:8080/"
        },
        "outputId": "5a23f7c7-16af-43fa-a8aa-fb2cad8eb628"
      },
      "execution_count": null,
      "outputs": [
        {
          "output_type": "stream",
          "name": "stdout",
          "text": [
            "32/32 [==============================] - 1s 34ms/step - loss: 0.1443 - accuracy: 0.9600\n",
            "Test accuracy using Convulation and Polling Layer: 0.9599999785423279\n"
          ]
        }
      ]
    },
    {
      "cell_type": "code",
      "source": [
        "for test_img, y in test_dataset:\n",
        "  for i in y:\n",
        "    print(i)\n",
        "  break"
      ],
      "metadata": {
        "colab": {
          "base_uri": "https://localhost:8080/"
        },
        "id": "B9hVAzz45x7O",
        "outputId": "f9e460c6-3025-4cad-8140-03c75145a3fe"
      },
      "execution_count": null,
      "outputs": [
        {
          "output_type": "stream",
          "name": "stdout",
          "text": [
            "tf.Tensor(8, shape=(), dtype=int32)\n",
            "tf.Tensor(8, shape=(), dtype=int32)\n",
            "tf.Tensor(6, shape=(), dtype=int32)\n",
            "tf.Tensor(9, shape=(), dtype=int32)\n",
            "tf.Tensor(1, shape=(), dtype=int32)\n",
            "tf.Tensor(1, shape=(), dtype=int32)\n",
            "tf.Tensor(6, shape=(), dtype=int32)\n",
            "tf.Tensor(3, shape=(), dtype=int32)\n",
            "tf.Tensor(5, shape=(), dtype=int32)\n",
            "tf.Tensor(1, shape=(), dtype=int32)\n",
            "tf.Tensor(0, shape=(), dtype=int32)\n",
            "tf.Tensor(6, shape=(), dtype=int32)\n",
            "tf.Tensor(5, shape=(), dtype=int32)\n",
            "tf.Tensor(5, shape=(), dtype=int32)\n",
            "tf.Tensor(6, shape=(), dtype=int32)\n",
            "tf.Tensor(9, shape=(), dtype=int32)\n",
            "tf.Tensor(2, shape=(), dtype=int32)\n",
            "tf.Tensor(2, shape=(), dtype=int32)\n",
            "tf.Tensor(9, shape=(), dtype=int32)\n",
            "tf.Tensor(0, shape=(), dtype=int32)\n",
            "tf.Tensor(7, shape=(), dtype=int32)\n",
            "tf.Tensor(3, shape=(), dtype=int32)\n",
            "tf.Tensor(1, shape=(), dtype=int32)\n",
            "tf.Tensor(2, shape=(), dtype=int32)\n",
            "tf.Tensor(0, shape=(), dtype=int32)\n",
            "tf.Tensor(8, shape=(), dtype=int32)\n",
            "tf.Tensor(6, shape=(), dtype=int32)\n",
            "tf.Tensor(1, shape=(), dtype=int32)\n",
            "tf.Tensor(3, shape=(), dtype=int32)\n",
            "tf.Tensor(0, shape=(), dtype=int32)\n",
            "tf.Tensor(5, shape=(), dtype=int32)\n",
            "tf.Tensor(1, shape=(), dtype=int32)\n"
          ]
        }
      ]
    },
    {
      "cell_type": "code",
      "source": [
        "y_true = []\n",
        "y_pred = []\n",
        "for x,y in test_dataset:\n",
        "  for i in y:\n",
        "    y_true.append(i)\n",
        "  y_pred.append(tf.argmax(test_model.predict(x),axis = 1))\n",
        "  \n",
        "y_pred = tf.concat(y_pred, axis=0)\n",
        "y_true = tf.concat(y_true, axis=0)"
      ],
      "metadata": {
        "colab": {
          "base_uri": "https://localhost:8080/"
        },
        "id": "iRCByNPW52-B",
        "outputId": "8caa3f2e-e630-413e-991c-39f453f675de"
      },
      "execution_count": null,
      "outputs": [
        {
          "output_type": "stream",
          "name": "stdout",
          "text": [
            "1/1 [==============================] - 0s 85ms/step\n",
            "1/1 [==============================] - 0s 23ms/step\n",
            "1/1 [==============================] - 0s 32ms/step\n",
            "1/1 [==============================] - 0s 24ms/step\n",
            "1/1 [==============================] - 0s 23ms/step\n",
            "1/1 [==============================] - 0s 25ms/step\n",
            "1/1 [==============================] - 0s 24ms/step\n",
            "1/1 [==============================] - 0s 25ms/step\n",
            "1/1 [==============================] - 0s 22ms/step\n",
            "1/1 [==============================] - 0s 30ms/step\n",
            "1/1 [==============================] - 0s 21ms/step\n",
            "1/1 [==============================] - 0s 24ms/step\n",
            "1/1 [==============================] - 0s 23ms/step\n",
            "1/1 [==============================] - 0s 21ms/step\n",
            "1/1 [==============================] - 0s 28ms/step\n",
            "1/1 [==============================] - 0s 22ms/step\n",
            "1/1 [==============================] - 0s 28ms/step\n",
            "1/1 [==============================] - 0s 21ms/step\n",
            "1/1 [==============================] - 0s 28ms/step\n",
            "1/1 [==============================] - 0s 30ms/step\n",
            "1/1 [==============================] - 0s 21ms/step\n",
            "1/1 [==============================] - 0s 24ms/step\n",
            "1/1 [==============================] - 0s 21ms/step\n",
            "1/1 [==============================] - 0s 21ms/step\n",
            "1/1 [==============================] - 0s 24ms/step\n",
            "1/1 [==============================] - 0s 21ms/step\n",
            "1/1 [==============================] - 0s 22ms/step\n",
            "1/1 [==============================] - 0s 22ms/step\n",
            "1/1 [==============================] - 0s 22ms/step\n",
            "1/1 [==============================] - 0s 20ms/step\n",
            "1/1 [==============================] - 0s 22ms/step\n",
            "1/1 [==============================] - 0s 77ms/step\n"
          ]
        }
      ]
    },
    {
      "cell_type": "code",
      "source": [
        "confusion_mat = confusion_matrix(y_pred,y_true)\n",
        "confusion_mat"
      ],
      "metadata": {
        "colab": {
          "base_uri": "https://localhost:8080/"
        },
        "id": "uyVR5eG85-jn",
        "outputId": "0dd0c0ba-5dd9-4088-bd95-6c3db773514d"
      },
      "execution_count": null,
      "outputs": [
        {
          "output_type": "execute_result",
          "data": {
            "text/plain": [
              "array([[100,   1,   0,   6,   0,   5,   1,   1,   1,   1],\n",
              "       [  0,  95,   1,   1,   1,   0,   1,   0,   0,   3],\n",
              "       [  0,   0,  99,   0,   1,   0,   0,   0,   0,   3],\n",
              "       [  0,   0,   0,  92,   0,   0,   1,   1,   0,   0],\n",
              "       [  0,   0,   0,   0,  97,   0,   0,   1,   0,   0],\n",
              "       [  0,   0,   0,   1,   0,  93,   0,   0,   0,   0],\n",
              "       [  0,   0,   0,   0,   0,   2,  97,   0,   1,   0],\n",
              "       [  0,   0,   0,   0,   1,   0,   0,  97,   0,   1],\n",
              "       [  0,   0,   0,   0,   0,   0,   0,   0,  98,   0],\n",
              "       [  0,   4,   0,   0,   0,   0,   0,   0,   0,  92]])"
            ]
          },
          "metadata": {},
          "execution_count": 189
        }
      ]
    },
    {
      "cell_type": "code",
      "source": [
        "print(classification_report(y_true, y_pred))"
      ],
      "metadata": {
        "colab": {
          "base_uri": "https://localhost:8080/"
        },
        "id": "mqT7x0v66Ak_",
        "outputId": "91e1a127-f7c5-43dd-c38d-ca800b7e6ea9"
      },
      "execution_count": null,
      "outputs": [
        {
          "output_type": "stream",
          "name": "stdout",
          "text": [
            "              precision    recall  f1-score   support\n",
            "\n",
            "           0       0.86      1.00      0.93       100\n",
            "           1       0.93      0.95      0.94       100\n",
            "           2       0.96      0.99      0.98       100\n",
            "           3       0.98      0.92      0.95       100\n",
            "           4       0.99      0.97      0.98       100\n",
            "           5       0.99      0.93      0.96       100\n",
            "           6       0.97      0.97      0.97       100\n",
            "           7       0.98      0.97      0.97       100\n",
            "           8       1.00      0.98      0.99       100\n",
            "           9       0.96      0.92      0.94       100\n",
            "\n",
            "    accuracy                           0.96      1000\n",
            "   macro avg       0.96      0.96      0.96      1000\n",
            "weighted avg       0.96      0.96      0.96      1000\n",
            "\n"
          ]
        }
      ]
    },
    {
      "cell_type": "code",
      "source": [
        "cm =ConfusionMatrixDisplay(confusion_mat)\n",
        "fig, ax = plt.subplots(figsize = (12,12))\n",
        "cm.plot(ax=ax)\n",
        "plt.title(\"Confusion Matrix for classifier\")\n",
        "plt.savefig(\"Confusion_matrix1.png\")\n",
        "plt.show()"
      ],
      "metadata": {
        "colab": {
          "base_uri": "https://localhost:8080/",
          "height": 693
        },
        "id": "sfLI-wWO6M3P",
        "outputId": "f5d421c3-95ff-4680-dd25-46b0bd6a9e0a"
      },
      "execution_count": null,
      "outputs": [
        {
          "output_type": "display_data",
          "data": {
            "text/plain": [
              "<Figure size 864x864 with 2 Axes>"
            ],
            "image/png": "[encoded data removed]"
          },
          "metadata": {
            "needs_background": "light"
          }
        }
      ]
    },
    {
      "cell_type": "markdown",
      "source": [
        "# Data Augmentation + Fine Tuning using Xception keras application"
      ],
      "metadata": {
        "id": "L187wiK4KKZU"
      }
    },
    {
      "cell_type": "code",
      "source": [
        "data_augmentation = keras.Sequential(\n",
        "    [\n",
        "        layers.RandomFlip(\"horizontal\"),\n",
        "        layers.RandomRotation(0.1),\n",
        "        layers.RandomZoom(0.1)\n",
        "    ]\n",
        ") "
      ],
      "metadata": {
        "id": "icPGTfuKGT40"
      },
      "execution_count": null,
      "outputs": []
    },
    {
      "cell_type": "markdown",
      "source": [
        "## Initiating Xception as base_conv"
      ],
      "metadata": {
        "id": "feU8ZR24LLnP"
      }
    },
    {
      "cell_type": "code",
      "source": [
        "conv_base = tf.keras.applications.xception.Xception(\n",
        "    weights = \"imagenet\",\n",
        "    include_top = False,\n",
        "    classifier_activation='softmax',\n",
        "    input_shape = (180,180,3)\n",
        "\n",
        ")"
      ],
      "metadata": {
        "colab": {
          "base_uri": "https://localhost:8080/"
        },
        "id": "VVEiZF1cMC3k",
        "outputId": "992a8506-dec8-45e6-a481-256f62582798"
      },
      "execution_count": null,
      "outputs": [
        {
          "output_type": "stream",
          "name": "stdout",
          "text": [
            "Downloading data from https://storage.googleapis.com/tensorflow/keras-applications/xception/xception_weights_tf_dim_ordering_tf_kernels_notop.h5\n",
            "83683744/83683744 [==============================] - 3s 0us/step\n"
          ]
        }
      ]
    },
    {
      "cell_type": "code",
      "source": [
        "conv_base.summary()"
      ],
      "metadata": {
        "colab": {
          "base_uri": "https://localhost:8080/"
        },
        "id": "nPsFEb_cLC9w",
        "outputId": "dc7ef5aa-36b5-4997-e782-467247bf835a"
      },
      "execution_count": null,
      "outputs": [
        {
          "output_type": "stream",
          "name": "stdout",
          "text": [
            "Model: \"xception\"\n",
            "__________________________________________________________________________________________________\n",
            " Layer (type)                   Output Shape         Param #     Connected to                     \n",
            "==================================================================================================\n",
            " input_8 (InputLayer)           [(None, 180, 180, 3  0           []                               \n",
            "                                )]                                                                \n",
            "                                                                                                  \n",
            " block1_conv1 (Conv2D)          (None, 89, 89, 32)   864         ['input_8[0][0]']                \n",
            "                                                                                                  \n",
            " block1_conv1_bn (BatchNormaliz  (None, 89, 89, 32)  128         ['block1_conv1[0][0]']           \n",
            " ation)                                                                                           \n",
            "                                                                                                  \n",
            " block1_conv1_act (Activation)  (None, 89, 89, 32)   0           ['block1_conv1_bn[0][0]']        \n",
            "                                                                                                  \n",
            " block1_conv2 (Conv2D)          (None, 87, 87, 64)   18432       ['block1_conv1_act[0][0]']       \n",
            "                                                                                                  \n",
            " block1_conv2_bn (BatchNormaliz  (None, 87, 87, 64)  256         ['block1_conv2[0][0]']           \n",
            " ation)                                                                                           \n",
            "                                                                                                  \n",
            " block1_conv2_act (Activation)  (None, 87, 87, 64)   0           ['block1_conv2_bn[0][0]']        \n",
            "                                                                                                  \n",
            " block2_sepconv1 (SeparableConv  (None, 87, 87, 128)  8768       ['block1_conv2_act[0][0]']       \n",
            " 2D)                                                                                              \n",
            "                                                                                                  \n",
            " block2_sepconv1_bn (BatchNorma  (None, 87, 87, 128)  512        ['block2_sepconv1[0][0]']        \n",
            " lization)                                                                                        \n",
            "                                                                                                  \n",
            " block2_sepconv2_act (Activatio  (None, 87, 87, 128)  0          ['block2_sepconv1_bn[0][0]']     \n",
            " n)                                                                                               \n",
            "                                                                                                  \n",
            " block2_sepconv2 (SeparableConv  (None, 87, 87, 128)  17536      ['block2_sepconv2_act[0][0]']    \n",
            " 2D)                                                                                              \n",
            "                                                                                                  \n",
            " block2_sepconv2_bn (BatchNorma  (None, 87, 87, 128)  512        ['block2_sepconv2[0][0]']        \n",
            " lization)                                                                                        \n",
            "                                                                                                  \n",
            " conv2d_9 (Conv2D)              (None, 44, 44, 128)  8192        ['block1_conv2_act[0][0]']       \n",
            "                                                                                                  \n",
            " block2_pool (MaxPooling2D)     (None, 44, 44, 128)  0           ['block2_sepconv2_bn[0][0]']     \n",
            "                                                                                                  \n",
            " batch_normalization_4 (BatchNo  (None, 44, 44, 128)  512        ['conv2d_9[0][0]']               \n",
            " rmalization)                                                                                     \n",
            "                                                                                                  \n",
            " add_12 (Add)                   (None, 44, 44, 128)  0           ['block2_pool[0][0]',            \n",
            "                                                                  'batch_normalization_4[0][0]']  \n",
            "                                                                                                  \n",
            " block3_sepconv1_act (Activatio  (None, 44, 44, 128)  0          ['add_12[0][0]']                 \n",
            " n)                                                                                               \n",
            "                                                                                                  \n",
            " block3_sepconv1 (SeparableConv  (None, 44, 44, 256)  33920      ['block3_sepconv1_act[0][0]']    \n",
            " 2D)                                                                                              \n",
            "                                                                                                  \n",
            " block3_sepconv1_bn (BatchNorma  (None, 44, 44, 256)  1024       ['block3_sepconv1[0][0]']        \n",
            " lization)                                                                                        \n",
            "                                                                                                  \n",
            " block3_sepconv2_act (Activatio  (None, 44, 44, 256)  0          ['block3_sepconv1_bn[0][0]']     \n",
            " n)                                                                                               \n",
            "                                                                                                  \n",
            " block3_sepconv2 (SeparableConv  (None, 44, 44, 256)  67840      ['block3_sepconv2_act[0][0]']    \n",
            " 2D)                                                                                              \n",
            "                                                                                                  \n",
            " block3_sepconv2_bn (BatchNorma  (None, 44, 44, 256)  1024       ['block3_sepconv2[0][0]']        \n",
            " lization)                                                                                        \n",
            "                                                                                                  \n",
            " conv2d_10 (Conv2D)             (None, 22, 22, 256)  32768       ['add_12[0][0]']                 \n",
            "                                                                                                  \n",
            " block3_pool (MaxPooling2D)     (None, 22, 22, 256)  0           ['block3_sepconv2_bn[0][0]']     \n",
            "                                                                                                  \n",
            " batch_normalization_5 (BatchNo  (None, 22, 22, 256)  1024       ['conv2d_10[0][0]']              \n",
            " rmalization)                                                                                     \n",
            "                                                                                                  \n",
            " add_13 (Add)                   (None, 22, 22, 256)  0           ['block3_pool[0][0]',            \n",
            "                                                                  'batch_normalization_5[0][0]']  \n",
            "                                                                                                  \n",
            " block4_sepconv1_act (Activatio  (None, 22, 22, 256)  0          ['add_13[0][0]']                 \n",
            " n)                                                                                               \n",
            "                                                                                                  \n",
            " block4_sepconv1 (SeparableConv  (None, 22, 22, 728)  188672     ['block4_sepconv1_act[0][0]']    \n",
            " 2D)                                                                                              \n",
            "                                                                                                  \n",
            " block4_sepconv1_bn (BatchNorma  (None, 22, 22, 728)  2912       ['block4_sepconv1[0][0]']        \n",
            " lization)                                                                                        \n",
            "                                                                                                  \n",
            " block4_sepconv2_act (Activatio  (None, 22, 22, 728)  0          ['block4_sepconv1_bn[0][0]']     \n",
            " n)                                                                                               \n",
            "                                                                                                  \n",
            " block4_sepconv2 (SeparableConv  (None, 22, 22, 728)  536536     ['block4_sepconv2_act[0][0]']    \n",
            " 2D)                                                                                              \n",
            "                                                                                                  \n",
            " block4_sepconv2_bn (BatchNorma  (None, 22, 22, 728)  2912       ['block4_sepconv2[0][0]']        \n",
            " lization)                                                                                        \n",
            "                                                                                                  \n",
            " conv2d_11 (Conv2D)             (None, 11, 11, 728)  186368      ['add_13[0][0]']                 \n",
            "                                                                                                  \n",
            " block4_pool (MaxPooling2D)     (None, 11, 11, 728)  0           ['block4_sepconv2_bn[0][0]']     \n",
            "                                                                                                  \n",
            " batch_normalization_6 (BatchNo  (None, 11, 11, 728)  2912       ['conv2d_11[0][0]']              \n",
            " rmalization)                                                                                     \n",
            "                                                                                                  \n",
            " add_14 (Add)                   (None, 11, 11, 728)  0           ['block4_pool[0][0]',            \n",
            "                                                                  'batch_normalization_6[0][0]']  \n",
            "                                                                                                  \n",
            " block5_sepconv1_act (Activatio  (None, 11, 11, 728)  0          ['add_14[0][0]']                 \n",
            " n)                                                                                               \n",
            "                                                                                                  \n",
            " block5_sepconv1 (SeparableConv  (None, 11, 11, 728)  536536     ['block5_sepconv1_act[0][0]']    \n",
            " 2D)                                                                                              \n",
            "                                                                                                  \n",
            " block5_sepconv1_bn (BatchNorma  (None, 11, 11, 728)  2912       ['block5_sepconv1[0][0]']        \n",
            " lization)                                                                                        \n",
            "                                                                                                  \n",
            " block5_sepconv2_act (Activatio  (None, 11, 11, 728)  0          ['block5_sepconv1_bn[0][0]']     \n",
            " n)                                                                                               \n",
            "                                                                                                  \n",
            " block5_sepconv2 (SeparableConv  (None, 11, 11, 728)  536536     ['block5_sepconv2_act[0][0]']    \n",
            " 2D)                                                                                              \n",
            "                                                                                                  \n",
            " block5_sepconv2_bn (BatchNorma  (None, 11, 11, 728)  2912       ['block5_sepconv2[0][0]']        \n",
            " lization)                                                                                        \n",
            "                                                                                                  \n",
            " block5_sepconv3_act (Activatio  (None, 11, 11, 728)  0          ['block5_sepconv2_bn[0][0]']     \n",
            " n)                                                                                               \n",
            "                                                                                                  \n",
            " block5_sepconv3 (SeparableConv  (None, 11, 11, 728)  536536     ['block5_sepconv3_act[0][0]']    \n",
            " 2D)                                                                                              \n",
            "                                                                                                  \n",
            " block5_sepconv3_bn (BatchNorma  (None, 11, 11, 728)  2912       ['block5_sepconv3[0][0]']        \n",
            " lization)                                                                                        \n",
            "                                                                                                  \n",
            " add_15 (Add)                   (None, 11, 11, 728)  0           ['block5_sepconv3_bn[0][0]',     \n",
            "                                                                  'add_14[0][0]']                 \n",
            "                                                                                                  \n",
            " block6_sepconv1_act (Activatio  (None, 11, 11, 728)  0          ['add_15[0][0]']                 \n",
            " n)                                                                                               \n",
            "                                                                                                  \n",
            " block6_sepconv1 (SeparableConv  (None, 11, 11, 728)  536536     ['block6_sepconv1_act[0][0]']    \n",
            " 2D)                                                                                              \n",
            "                                                                                                  \n",
            " block6_sepconv1_bn (BatchNorma  (None, 11, 11, 728)  2912       ['block6_sepconv1[0][0]']        \n",
            " lization)                                                                                        \n",
            "                                                                                                  \n",
            " block6_sepconv2_act (Activatio  (None, 11, 11, 728)  0          ['block6_sepconv1_bn[0][0]']     \n",
            " n)                                                                                               \n",
            "                                                                                                  \n",
            " block6_sepconv2 (SeparableConv  (None, 11, 11, 728)  536536     ['block6_sepconv2_act[0][0]']    \n",
            " 2D)                                                                                              \n",
            "                                                                                                  \n",
            " block6_sepconv2_bn (BatchNorma  (None, 11, 11, 728)  2912       ['block6_sepconv2[0][0]']        \n",
            " lization)                                                                                        \n",
            "                                                                                                  \n",
            " block6_sepconv3_act (Activatio  (None, 11, 11, 728)  0          ['block6_sepconv2_bn[0][0]']     \n",
            " n)                                                                                               \n",
            "                                                                                                  \n",
            " block6_sepconv3 (SeparableConv  (None, 11, 11, 728)  536536     ['block6_sepconv3_act[0][0]']    \n",
            " 2D)                                                                                              \n",
            "                                                                                                  \n",
            " block6_sepconv3_bn (BatchNorma  (None, 11, 11, 728)  2912       ['block6_sepconv3[0][0]']        \n",
            " lization)                                                                                        \n",
            "                                                                                                  \n",
            " add_16 (Add)                   (None, 11, 11, 728)  0           ['block6_sepconv3_bn[0][0]',     \n",
            "                                                                  'add_15[0][0]']                 \n",
            "                                                                                                  \n",
            " block7_sepconv1_act (Activatio  (None, 11, 11, 728)  0          ['add_16[0][0]']                 \n",
            " n)                                                                                               \n",
            "                                                                                                  \n",
            " block7_sepconv1 (SeparableConv  (None, 11, 11, 728)  536536     ['block7_sepconv1_act[0][0]']    \n",
            " 2D)                                                                                              \n",
            "                                                                                                  \n",
            " block7_sepconv1_bn (BatchNorma  (None, 11, 11, 728)  2912       ['block7_sepconv1[0][0]']        \n",
            " lization)                                                                                        \n",
            "                                                                                                  \n",
            " block7_sepconv2_act (Activatio  (None, 11, 11, 728)  0          ['block7_sepconv1_bn[0][0]']     \n",
            " n)                                                                                               \n",
            "                                                                                                  \n",
            " block7_sepconv2 (SeparableConv  (None, 11, 11, 728)  536536     ['block7_sepconv2_act[0][0]']    \n",
            " 2D)                                                                                              \n",
            "                                                                                                  \n",
            " block7_sepconv2_bn (BatchNorma  (None, 11, 11, 728)  2912       ['block7_sepconv2[0][0]']        \n",
            " lization)                                                                                        \n",
            "                                                                                                  \n",
            " block7_sepconv3_act (Activatio  (None, 11, 11, 728)  0          ['block7_sepconv2_bn[0][0]']     \n",
            " n)                                                                                               \n",
            "                                                                                                  \n",
            " block7_sepconv3 (SeparableConv  (None, 11, 11, 728)  536536     ['block7_sepconv3_act[0][0]']    \n",
            " 2D)                                                                                              \n",
            "                                                                                                  \n",
            " block7_sepconv3_bn (BatchNorma  (None, 11, 11, 728)  2912       ['block7_sepconv3[0][0]']        \n",
            " lization)                                                                                        \n",
            "                                                                                                  \n",
            " add_17 (Add)                   (None, 11, 11, 728)  0           ['block7_sepconv3_bn[0][0]',     \n",
            "                                                                  'add_16[0][0]']                 \n",
            "                                                                                                  \n",
            " block8_sepconv1_act (Activatio  (None, 11, 11, 728)  0          ['add_17[0][0]']                 \n",
            " n)                                                                                               \n",
            "                                                                                                  \n",
            " block8_sepconv1 (SeparableConv  (None, 11, 11, 728)  536536     ['block8_sepconv1_act[0][0]']    \n",
            " 2D)                                                                                              \n",
            "                                                                                                  \n",
            " block8_sepconv1_bn (BatchNorma  (None, 11, 11, 728)  2912       ['block8_sepconv1[0][0]']        \n",
            " lization)                                                                                        \n",
            "                                                                                                  \n",
            " block8_sepconv2_act (Activatio  (None, 11, 11, 728)  0          ['block8_sepconv1_bn[0][0]']     \n",
            " n)                                                                                               \n",
            "                                                                                                  \n",
            " block8_sepconv2 (SeparableConv  (None, 11, 11, 728)  536536     ['block8_sepconv2_act[0][0]']    \n",
            " 2D)                                                                                              \n",
            "                                                                                                  \n",
            " block8_sepconv2_bn (BatchNorma  (None, 11, 11, 728)  2912       ['block8_sepconv2[0][0]']        \n",
            " lization)                                                                                        \n",
            "                                                                                                  \n",
            " block8_sepconv3_act (Activatio  (None, 11, 11, 728)  0          ['block8_sepconv2_bn[0][0]']     \n",
            " n)                                                                                               \n",
            "                                                                                                  \n",
            " block8_sepconv3 (SeparableConv  (None, 11, 11, 728)  536536     ['block8_sepconv3_act[0][0]']    \n",
            " 2D)                                                                                              \n",
            "                                                                                                  \n",
            " block8_sepconv3_bn (BatchNorma  (None, 11, 11, 728)  2912       ['block8_sepconv3[0][0]']        \n",
            " lization)                                                                                        \n",
            "                                                                                                  \n",
            " add_18 (Add)                   (None, 11, 11, 728)  0           ['block8_sepconv3_bn[0][0]',     \n",
            "                                                                  'add_17[0][0]']                 \n",
            "                                                                                                  \n",
            " block9_sepconv1_act (Activatio  (None, 11, 11, 728)  0          ['add_18[0][0]']                 \n",
            " n)                                                                                               \n",
            "                                                                                                  \n",
            " block9_sepconv1 (SeparableConv  (None, 11, 11, 728)  536536     ['block9_sepconv1_act[0][0]']    \n",
            " 2D)                                                                                              \n",
            "                                                                                                  \n",
            " block9_sepconv1_bn (BatchNorma  (None, 11, 11, 728)  2912       ['block9_sepconv1[0][0]']        \n",
            " lization)                                                                                        \n",
            "                                                                                                  \n",
            " block9_sepconv2_act (Activatio  (None, 11, 11, 728)  0          ['block9_sepconv1_bn[0][0]']     \n",
            " n)                                                                                               \n",
            "                                                                                                  \n",
            " block9_sepconv2 (SeparableConv  (None, 11, 11, 728)  536536     ['block9_sepconv2_act[0][0]']    \n",
            " 2D)                                                                                              \n",
            "                                                                                                  \n",
            " block9_sepconv2_bn (BatchNorma  (None, 11, 11, 728)  2912       ['block9_sepconv2[0][0]']        \n",
            " lization)                                                                                        \n",
            "                                                                                                  \n",
            " block9_sepconv3_act (Activatio  (None, 11, 11, 728)  0          ['block9_sepconv2_bn[0][0]']     \n",
            " n)                                                                                               \n",
            "                                                                                                  \n",
            " block9_sepconv3 (SeparableConv  (None, 11, 11, 728)  536536     ['block9_sepconv3_act[0][0]']    \n",
            " 2D)                                                                                              \n",
            "                                                                                                  \n",
            " block9_sepconv3_bn (BatchNorma  (None, 11, 11, 728)  2912       ['block9_sepconv3[0][0]']        \n",
            " lization)                                                                                        \n",
            "                                                                                                  \n",
            " add_19 (Add)                   (None, 11, 11, 728)  0           ['block9_sepconv3_bn[0][0]',     \n",
            "                                                                  'add_18[0][0]']                 \n",
            "                                                                                                  \n",
            " block10_sepconv1_act (Activati  (None, 11, 11, 728)  0          ['add_19[0][0]']                 \n",
            " on)                                                                                              \n",
            "                                                                                                  \n",
            " block10_sepconv1 (SeparableCon  (None, 11, 11, 728)  536536     ['block10_sepconv1_act[0][0]']   \n",
            " v2D)                                                                                             \n",
            "                                                                                                  \n",
            " block10_sepconv1_bn (BatchNorm  (None, 11, 11, 728)  2912       ['block10_sepconv1[0][0]']       \n",
            " alization)                                                                                       \n",
            "                                                                                                  \n",
            " block10_sepconv2_act (Activati  (None, 11, 11, 728)  0          ['block10_sepconv1_bn[0][0]']    \n",
            " on)                                                                                              \n",
            "                                                                                                  \n",
            " block10_sepconv2 (SeparableCon  (None, 11, 11, 728)  536536     ['block10_sepconv2_act[0][0]']   \n",
            " v2D)                                                                                             \n",
            "                                                                                                  \n",
            " block10_sepconv2_bn (BatchNorm  (None, 11, 11, 728)  2912       ['block10_sepconv2[0][0]']       \n",
            " alization)                                                                                       \n",
            "                                                                                                  \n",
            " block10_sepconv3_act (Activati  (None, 11, 11, 728)  0          ['block10_sepconv2_bn[0][0]']    \n",
            " on)                                                                                              \n",
            "                                                                                                  \n",
            " block10_sepconv3 (SeparableCon  (None, 11, 11, 728)  536536     ['block10_sepconv3_act[0][0]']   \n",
            " v2D)                                                                                             \n",
            "                                                                                                  \n",
            " block10_sepconv3_bn (BatchNorm  (None, 11, 11, 728)  2912       ['block10_sepconv3[0][0]']       \n",
            " alization)                                                                                       \n",
            "                                                                                                  \n",
            " add_20 (Add)                   (None, 11, 11, 728)  0           ['block10_sepconv3_bn[0][0]',    \n",
            "                                                                  'add_19[0][0]']                 \n",
            "                                                                                                  \n",
            " block11_sepconv1_act (Activati  (None, 11, 11, 728)  0          ['add_20[0][0]']                 \n",
            " on)                                                                                              \n",
            "                                                                                                  \n",
            " block11_sepconv1 (SeparableCon  (None, 11, 11, 728)  536536     ['block11_sepconv1_act[0][0]']   \n",
            " v2D)                                                                                             \n",
            "                                                                                                  \n",
            " block11_sepconv1_bn (BatchNorm  (None, 11, 11, 728)  2912       ['block11_sepconv1[0][0]']       \n",
            " alization)                                                                                       \n",
            "                                                                                                  \n",
            " block11_sepconv2_act (Activati  (None, 11, 11, 728)  0          ['block11_sepconv1_bn[0][0]']    \n",
            " on)                                                                                              \n",
            "                                                                                                  \n",
            " block11_sepconv2 (SeparableCon  (None, 11, 11, 728)  536536     ['block11_sepconv2_act[0][0]']   \n",
            " v2D)                                                                                             \n",
            "                                                                                                  \n",
            " block11_sepconv2_bn (BatchNorm  (None, 11, 11, 728)  2912       ['block11_sepconv2[0][0]']       \n",
            " alization)                                                                                       \n",
            "                                                                                                  \n",
            " block11_sepconv3_act (Activati  (None, 11, 11, 728)  0          ['block11_sepconv2_bn[0][0]']    \n",
            " on)                                                                                              \n",
            "                                                                                                  \n",
            " block11_sepconv3 (SeparableCon  (None, 11, 11, 728)  536536     ['block11_sepconv3_act[0][0]']   \n",
            " v2D)                                                                                             \n",
            "                                                                                                  \n",
            " block11_sepconv3_bn (BatchNorm  (None, 11, 11, 728)  2912       ['block11_sepconv3[0][0]']       \n",
            " alization)                                                                                       \n",
            "                                                                                                  \n",
            " add_21 (Add)                   (None, 11, 11, 728)  0           ['block11_sepconv3_bn[0][0]',    \n",
            "                                                                  'add_20[0][0]']                 \n",
            "                                                                                                  \n",
            " block12_sepconv1_act (Activati  (None, 11, 11, 728)  0          ['add_21[0][0]']                 \n",
            " on)                                                                                              \n",
            "                                                                                                  \n",
            " block12_sepconv1 (SeparableCon  (None, 11, 11, 728)  536536     ['block12_sepconv1_act[0][0]']   \n",
            " v2D)                                                                                             \n",
            "                                                                                                  \n",
            " block12_sepconv1_bn (BatchNorm  (None, 11, 11, 728)  2912       ['block12_sepconv1[0][0]']       \n",
            " alization)                                                                                       \n",
            "                                                                                                  \n",
            " block12_sepconv2_act (Activati  (None, 11, 11, 728)  0          ['block12_sepconv1_bn[0][0]']    \n",
            " on)                                                                                              \n",
            "                                                                                                  \n",
            " block12_sepconv2 (SeparableCon  (None, 11, 11, 728)  536536     ['block12_sepconv2_act[0][0]']   \n",
            " v2D)                                                                                             \n",
            "                                                                                                  \n",
            " block12_sepconv2_bn (BatchNorm  (None, 11, 11, 728)  2912       ['block12_sepconv2[0][0]']       \n",
            " alization)                                                                                       \n",
            "                                                                                                  \n",
            " block12_sepconv3_act (Activati  (None, 11, 11, 728)  0          ['block12_sepconv2_bn[0][0]']    \n",
            " on)                                                                                              \n",
            "                                                                                                  \n",
            " block12_sepconv3 (SeparableCon  (None, 11, 11, 728)  536536     ['block12_sepconv3_act[0][0]']   \n",
            " v2D)                                                                                             \n",
            "                                                                                                  \n",
            " block12_sepconv3_bn (BatchNorm  (None, 11, 11, 728)  2912       ['block12_sepconv3[0][0]']       \n",
            " alization)                                                                                       \n",
            "                                                                                                  \n",
            " add_22 (Add)                   (None, 11, 11, 728)  0           ['block12_sepconv3_bn[0][0]',    \n",
            "                                                                  'add_21[0][0]']                 \n",
            "                                                                                                  \n",
            " block13_sepconv1_act (Activati  (None, 11, 11, 728)  0          ['add_22[0][0]']                 \n",
            " on)                                                                                              \n",
            "                                                                                                  \n",
            " block13_sepconv1 (SeparableCon  (None, 11, 11, 728)  536536     ['block13_sepconv1_act[0][0]']   \n",
            " v2D)                                                                                             \n",
            "                                                                                                  \n",
            " block13_sepconv1_bn (BatchNorm  (None, 11, 11, 728)  2912       ['block13_sepconv1[0][0]']       \n",
            " alization)                                                                                       \n",
            "                                                                                                  \n",
            " block13_sepconv2_act (Activati  (None, 11, 11, 728)  0          ['block13_sepconv1_bn[0][0]']    \n",
            " on)                                                                                              \n",
            "                                                                                                  \n",
            " block13_sepconv2 (SeparableCon  (None, 11, 11, 1024  752024     ['block13_sepconv2_act[0][0]']   \n",
            " v2D)                           )                                                                 \n",
            "                                                                                                  \n",
            " block13_sepconv2_bn (BatchNorm  (None, 11, 11, 1024  4096       ['block13_sepconv2[0][0]']       \n",
            " alization)                     )                                                                 \n",
            "                                                                                                  \n",
            " conv2d_12 (Conv2D)             (None, 6, 6, 1024)   745472      ['add_22[0][0]']                 \n",
            "                                                                                                  \n",
            " block13_pool (MaxPooling2D)    (None, 6, 6, 1024)   0           ['block13_sepconv2_bn[0][0]']    \n",
            "                                                                                                  \n",
            " batch_normalization_7 (BatchNo  (None, 6, 6, 1024)  4096        ['conv2d_12[0][0]']              \n",
            " rmalization)                                                                                     \n",
            "                                                                                                  \n",
            " add_23 (Add)                   (None, 6, 6, 1024)   0           ['block13_pool[0][0]',           \n",
            "                                                                  'batch_normalization_7[0][0]']  \n",
            "                                                                                                  \n",
            " block14_sepconv1 (SeparableCon  (None, 6, 6, 1536)  1582080     ['add_23[0][0]']                 \n",
            " v2D)                                                                                             \n",
            "                                                                                                  \n",
            " block14_sepconv1_bn (BatchNorm  (None, 6, 6, 1536)  6144        ['block14_sepconv1[0][0]']       \n",
            " alization)                                                                                       \n",
            "                                                                                                  \n",
            " block14_sepconv1_act (Activati  (None, 6, 6, 1536)  0           ['block14_sepconv1_bn[0][0]']    \n",
            " on)                                                                                              \n",
            "                                                                                                  \n",
            " block14_sepconv2 (SeparableCon  (None, 6, 6, 2048)  3159552     ['block14_sepconv1_act[0][0]']   \n",
            " v2D)                                                                                             \n",
            "                                                                                                  \n",
            " block14_sepconv2_bn (BatchNorm  (None, 6, 6, 2048)  8192        ['block14_sepconv2[0][0]']       \n",
            " alization)                                                                                       \n",
            "                                                                                                  \n",
            " block14_sepconv2_act (Activati  (None, 6, 6, 2048)  0           ['block14_sepconv2_bn[0][0]']    \n",
            " on)                                                                                              \n",
            "                                                                                                  \n",
            "==================================================================================================\n",
            "Total params: 20,861,480\n",
            "Trainable params: 20,806,952\n",
            "Non-trainable params: 54,528\n",
            "__________________________________________________________________________________________________\n"
          ]
        }
      ]
    },
    {
      "cell_type": "code",
      "source": [
        "conv_base.trainable = True\n",
        "for layer in conv_base.layers[:-6]:\n",
        "  layer.trainable = False"
      ],
      "metadata": {
        "id": "Wfh7T_mYMssq"
      },
      "execution_count": null,
      "outputs": []
    },
    {
      "cell_type": "code",
      "source": [
        "inputs = keras.Input(shape = (180,180, 3))\n",
        "x = data_augmentation(inputs)\n",
        "x = keras.applications.xception.preprocess_input(x)\n",
        "x = conv_base(x)\n",
        "x = layers.Flatten()(x)\n",
        "x = layers.Dense(256,activation = \"relu\")(x)\n",
        "x = layers.Dropout(0.4)(x)\n",
        "outputs = layers.Dense(10, activation = \"softmax\")(x)\n",
        "\n",
        "model = keras.Model(inputs, outputs)"
      ],
      "metadata": {
        "id": "se0JB7b2Nyqt"
      },
      "execution_count": null,
      "outputs": []
    },
    {
      "cell_type": "code",
      "source": [
        "model.summary()"
      ],
      "metadata": {
        "colab": {
          "base_uri": "https://localhost:8080/"
        },
        "id": "HxqXXpN6QB3c",
        "outputId": "ac6b0216-26ce-437f-c460-e71ef7217796"
      },
      "execution_count": null,
      "outputs": [
        {
          "output_type": "stream",
          "name": "stdout",
          "text": [
            "Model: \"model_3\"\n",
            "_________________________________________________________________\n",
            " Layer (type)                Output Shape              Param #   \n",
            "=================================================================\n",
            " input_9 (InputLayer)        [(None, 180, 180, 3)]     0         \n",
            "                                                                 \n",
            " sequential_1 (Sequential)   (None, 180, 180, 3)       0         \n",
            "                                                                 \n",
            " tf.math.truediv_5 (TFOpLamb  (None, 180, 180, 3)      0         \n",
            " da)                                                             \n",
            "                                                                 \n",
            " tf.math.subtract_5 (TFOpLam  (None, 180, 180, 3)      0         \n",
            " bda)                                                            \n",
            "                                                                 \n",
            " xception (Functional)       (None, 6, 6, 2048)        20861480  \n",
            "                                                                 \n",
            " flatten_6 (Flatten)         (None, 73728)             0         \n",
            "                                                                 \n",
            " dense_8 (Dense)             (None, 256)               18874624  \n",
            "                                                                 \n",
            " dropout_5 (Dropout)         (None, 256)               0         \n",
            "                                                                 \n",
            " dense_9 (Dense)             (None, 10)                2570      \n",
            "                                                                 \n",
            "=================================================================\n",
            "Total params: 39,738,674\n",
            "Trainable params: 23,625,994\n",
            "Non-trainable params: 16,112,680\n",
            "_________________________________________________________________\n"
          ]
        }
      ]
    },
    {
      "cell_type": "code",
      "source": [
        "model.compile(\n",
        "    loss = \"sparse_categorical_crossentropy\",\n",
        "    optimizer = tf.keras.optimizers.Adam(learning_rate = 1e-5),\n",
        "    metrics = [\"accuracy\"]\n",
        ")"
      ],
      "metadata": {
        "id": "RJWfz5ieQvOD"
      },
      "execution_count": null,
      "outputs": []
    },
    {
      "cell_type": "code",
      "source": [
        "callbacks = [\n",
        "    keras.callbacks.ModelCheckpoint(\n",
        "        filepath = \"bangla_hand_written_digit_augementation_and_fine_tuning.keras\",\n",
        "        save_best_only = True,\n",
        "        monitor = \"val_loss\"\n",
        "    )\n",
        "]"
      ],
      "metadata": {
        "id": "B-VTIbNqRL22"
      },
      "execution_count": null,
      "outputs": []
    },
    {
      "cell_type": "code",
      "source": [
        "history = model.fit(\n",
        "    train_dataset,\n",
        "    epochs = 40,\n",
        "    validation_data = validation_dataset,\n",
        "    callbacks = callbacks\n",
        ")"
      ],
      "metadata": {
        "colab": {
          "base_uri": "https://localhost:8080/"
        },
        "id": "zrnS8BpiRxNB",
        "outputId": "66d72343-8a25-4131-b8ae-ad293db75ba6"
      },
      "execution_count": null,
      "outputs": [
        {
          "output_type": "stream",
          "name": "stdout",
          "text": [
            "Epoch 1/40\n",
            "375/375 [==============================] - 59s 148ms/step - loss: 0.7991 - accuracy: 0.7476 - val_loss: 0.3787 - val_accuracy: 0.8870\n",
            "Epoch 2/40\n",
            "375/375 [==============================] - 55s 146ms/step - loss: 0.4103 - accuracy: 0.8696 - val_loss: 0.2742 - val_accuracy: 0.9090\n",
            "Epoch 3/40\n",
            "375/375 [==============================] - 56s 148ms/step - loss: 0.3121 - accuracy: 0.8995 - val_loss: 0.2218 - val_accuracy: 0.9320\n",
            "Epoch 4/40\n",
            "375/375 [==============================] - 56s 148ms/step - loss: 0.2627 - accuracy: 0.9193 - val_loss: 0.2037 - val_accuracy: 0.9440\n",
            "Epoch 5/40\n",
            "375/375 [==============================] - 55s 147ms/step - loss: 0.2405 - accuracy: 0.9220 - val_loss: 0.1793 - val_accuracy: 0.9480\n",
            "Epoch 6/40\n",
            "375/375 [==============================] - 56s 147ms/step - loss: 0.2040 - accuracy: 0.9348 - val_loss: 0.1496 - val_accuracy: 0.9510\n",
            "Epoch 7/40\n",
            "375/375 [==============================] - 56s 147ms/step - loss: 0.1819 - accuracy: 0.9411 - val_loss: 0.1469 - val_accuracy: 0.9590\n",
            "Epoch 8/40\n",
            "375/375 [==============================] - 55s 147ms/step - loss: 0.1680 - accuracy: 0.9456 - val_loss: 0.1380 - val_accuracy: 0.9650\n",
            "Epoch 9/40\n",
            "375/375 [==============================] - 55s 146ms/step - loss: 0.1590 - accuracy: 0.9486 - val_loss: 0.1304 - val_accuracy: 0.9650\n",
            "Epoch 10/40\n",
            "375/375 [==============================] - 56s 148ms/step - loss: 0.1451 - accuracy: 0.9538 - val_loss: 0.1262 - val_accuracy: 0.9640\n",
            "Epoch 11/40\n",
            "375/375 [==============================] - 54s 144ms/step - loss: 0.1410 - accuracy: 0.9542 - val_loss: 0.1332 - val_accuracy: 0.9660\n",
            "Epoch 12/40\n",
            "375/375 [==============================] - 56s 148ms/step - loss: 0.1243 - accuracy: 0.9603 - val_loss: 0.1175 - val_accuracy: 0.9720\n",
            "Epoch 13/40\n",
            "375/375 [==============================] - 54s 143ms/step - loss: 0.1169 - accuracy: 0.9597 - val_loss: 0.1225 - val_accuracy: 0.9690\n",
            "Epoch 14/40\n",
            "375/375 [==============================] - 55s 146ms/step - loss: 0.1056 - accuracy: 0.9639 - val_loss: 0.1275 - val_accuracy: 0.9640\n",
            "Epoch 15/40\n",
            "375/375 [==============================] - 57s 151ms/step - loss: 0.1022 - accuracy: 0.9674 - val_loss: 0.1111 - val_accuracy: 0.9690\n",
            "Epoch 16/40\n",
            "375/375 [==============================] - 58s 153ms/step - loss: 0.0982 - accuracy: 0.9694 - val_loss: 0.1105 - val_accuracy: 0.9740\n",
            "Epoch 17/40\n",
            "375/375 [==============================] - 55s 147ms/step - loss: 0.0921 - accuracy: 0.9686 - val_loss: 0.1108 - val_accuracy: 0.9730\n",
            "Epoch 18/40\n",
            "375/375 [==============================] - 57s 151ms/step - loss: 0.0904 - accuracy: 0.9713 - val_loss: 0.0931 - val_accuracy: 0.9730\n",
            "Epoch 19/40\n",
            "375/375 [==============================] - 56s 148ms/step - loss: 0.0890 - accuracy: 0.9712 - val_loss: 0.0942 - val_accuracy: 0.9780\n",
            "Epoch 20/40\n",
            "375/375 [==============================] - 56s 149ms/step - loss: 0.0825 - accuracy: 0.9729 - val_loss: 0.0976 - val_accuracy: 0.9760\n",
            "Epoch 21/40\n",
            "375/375 [==============================] - 57s 150ms/step - loss: 0.0767 - accuracy: 0.9748 - val_loss: 0.0889 - val_accuracy: 0.9790\n",
            "Epoch 22/40\n",
            "375/375 [==============================] - 56s 148ms/step - loss: 0.0735 - accuracy: 0.9760 - val_loss: 0.0987 - val_accuracy: 0.9780\n",
            "Epoch 23/40\n",
            "375/375 [==============================] - 55s 146ms/step - loss: 0.0688 - accuracy: 0.9765 - val_loss: 0.1004 - val_accuracy: 0.9760\n",
            "Epoch 24/40\n",
            "375/375 [==============================] - 56s 149ms/step - loss: 0.0691 - accuracy: 0.9755 - val_loss: 0.0892 - val_accuracy: 0.9830\n",
            "Epoch 25/40\n",
            "375/375 [==============================] - 56s 147ms/step - loss: 0.0646 - accuracy: 0.9783 - val_loss: 0.0939 - val_accuracy: 0.9740\n",
            "Epoch 26/40\n",
            "375/375 [==============================] - 56s 148ms/step - loss: 0.0641 - accuracy: 0.9784 - val_loss: 0.0792 - val_accuracy: 0.9810\n",
            "Epoch 27/40\n",
            "375/375 [==============================] - 55s 146ms/step - loss: 0.0558 - accuracy: 0.9818 - val_loss: 0.0836 - val_accuracy: 0.9800\n",
            "Epoch 28/40\n",
            "375/375 [==============================] - 55s 146ms/step - loss: 0.0588 - accuracy: 0.9810 - val_loss: 0.0905 - val_accuracy: 0.9770\n",
            "Epoch 29/40\n",
            "375/375 [==============================] - 55s 146ms/step - loss: 0.0565 - accuracy: 0.9805 - val_loss: 0.1003 - val_accuracy: 0.9760\n",
            "Epoch 30/40\n",
            "375/375 [==============================] - 56s 148ms/step - loss: 0.0527 - accuracy: 0.9833 - val_loss: 0.0956 - val_accuracy: 0.9750\n",
            "Epoch 31/40\n",
            "375/375 [==============================] - 54s 143ms/step - loss: 0.0497 - accuracy: 0.9848 - val_loss: 0.0917 - val_accuracy: 0.9760\n",
            "Epoch 32/40\n",
            "375/375 [==============================] - 54s 142ms/step - loss: 0.0518 - accuracy: 0.9830 - val_loss: 0.0829 - val_accuracy: 0.9860\n",
            "Epoch 33/40\n",
            "375/375 [==============================] - 54s 143ms/step - loss: 0.0465 - accuracy: 0.9857 - val_loss: 0.0962 - val_accuracy: 0.9800\n",
            "Epoch 34/40\n",
            "375/375 [==============================] - 54s 142ms/step - loss: 0.0472 - accuracy: 0.9848 - val_loss: 0.0927 - val_accuracy: 0.9790\n",
            "Epoch 35/40\n",
            "375/375 [==============================] - 54s 143ms/step - loss: 0.0483 - accuracy: 0.9851 - val_loss: 0.0833 - val_accuracy: 0.9830\n",
            "Epoch 36/40\n",
            "375/375 [==============================] - 54s 144ms/step - loss: 0.0446 - accuracy: 0.9860 - val_loss: 0.0835 - val_accuracy: 0.9850\n",
            "Epoch 37/40\n",
            "375/375 [==============================] - 54s 143ms/step - loss: 0.0412 - accuracy: 0.9860 - val_loss: 0.0916 - val_accuracy: 0.9780\n",
            "Epoch 38/40\n",
            "375/375 [==============================] - 53s 142ms/step - loss: 0.0413 - accuracy: 0.9868 - val_loss: 0.0854 - val_accuracy: 0.9820\n",
            "Epoch 39/40\n",
            "375/375 [==============================] - 54s 142ms/step - loss: 0.0378 - accuracy: 0.9873 - val_loss: 0.0984 - val_accuracy: 0.9770\n",
            "Epoch 40/40\n",
            "375/375 [==============================] - 54s 142ms/step - loss: 0.0387 - accuracy: 0.9876 - val_loss: 0.1077 - val_accuracy: 0.9780\n"
          ]
        }
      ]
    },
    {
      "cell_type": "code",
      "source": [
        "test_model = keras.models.load_model(\"bangla_hand_written_digit_augementation_and_fine_tuning.keras\")\n",
        "test_loss, test_acc = test_model.evaluate(test_dataset)\n",
        "print(f\"Test accuracy using data augmentation and fine-tuning a pretrain model: {test_acc: 0.3f}\")"
      ],
      "metadata": {
        "colab": {
          "base_uri": "https://localhost:8080/"
        },
        "id": "hREbzsZMSJEp",
        "outputId": "a73b0079-f0d6-4503-826d-95ca0702f093"
      },
      "execution_count": null,
      "outputs": [
        {
          "output_type": "stream",
          "name": "stdout",
          "text": [
            "32/32 [==============================] - 4s 86ms/step - loss: 0.0921 - accuracy: 0.9750\n",
            "Test accuracy using data augmentation and fine-tuning a pretrain model:  0.975\n"
          ]
        }
      ]
    },
    {
      "cell_type": "code",
      "source": [
        "acc = history.history[\"accuracy\"]\n",
        "loss = history.history[\"loss\"]\n",
        "val_acc = history.history[\"val_accuracy\"]\n",
        "val_loss = history.history[\"val_loss\"]\n",
        "\n",
        "fig, ax = plt.subplots(1,1, figsize = (10,10))\n",
        "\n",
        "epochs = range(1, len(acc)+1)\n",
        "ax.plot(epochs, acc, \"bo\", label = \"Training accuracy\")\n",
        "ax.plot(epochs, val_acc, \"b\", label = \"Validation accuracy\")\n",
        "plt.title(\"Traning and Validation Accuracy\")\n",
        "plt.legend()\n",
        "plt.savefig(\"Traning and Validation Accuracy.png\")\n",
        "plt.figure()\n",
        "plt.show()\n",
        "\n",
        "fig, ax = plt.subplots(1,1, figsize = (10,10))\n",
        "\n",
        "ax.plot(epochs, loss, \"bo\", label =\"Training loss\")\n",
        "ax.plot(epochs, val_loss, \"b\", label = \"Validation loss\")\n",
        "plt.title(\"Training and Validation Loss\")\n",
        "plt.legend()\n",
        "plt.savefig(\"Traning and Validation loss.png\")\n",
        "plt.figure()\n",
        "plt.show()"
      ],
      "metadata": {
        "colab": {
          "base_uri": "https://localhost:8080/",
          "height": 1000
        },
        "id": "ezL-IInGTGeU",
        "outputId": "fb27da1f-1376-4c1d-b550-ed63a51b561a"
      },
      "execution_count": null,
      "outputs": [
        {
          "output_type": "display_data",
          "data": {
            "text/plain": [
              "<Figure size 720x720 with 1 Axes>"
            ],
            "image/png": "[encoded data removed]"
          },
          "metadata": {
            "needs_background": "light"
          }
        },
        {
          "output_type": "display_data",
          "data": {
            "text/plain": [
              "<Figure size 432x288 with 0 Axes>"
            ]
          },
          "metadata": {}
        },
        {
          "output_type": "display_data",
          "data": {
            "text/plain": [
              "<Figure size 720x720 with 1 Axes>"
            ],
            "image/png": "[encoded data removed]"
          },
          "metadata": {
            "needs_background": "light"
          }
        },
        {
          "output_type": "display_data",
          "data": {
            "text/plain": [
              "<Figure size 432x288 with 0 Axes>"
            ]
          },
          "metadata": {}
        }
      ]
    },
    {
      "cell_type": "code",
      "source": [
        "y_true = []\n",
        "y_pred = []\n",
        "for x,y in test_dataset:\n",
        "  for i in y:\n",
        "    y_true.append(i)\n",
        "  y_pred.append(tf.argmax(test_model.predict(x),axis = 1))\n",
        "  \n",
        "y_pred = tf.concat(y_pred, axis=0)\n",
        "y_true = tf.concat(y_true, axis=0)"
      ],
      "metadata": {
        "colab": {
          "base_uri": "https://localhost:8080/"
        },
        "id": "nBey9lXYfOe2",
        "outputId": "6157818f-13f9-4e7d-c1d7-1b83d6b981c9"
      },
      "execution_count": null,
      "outputs": [
        {
          "output_type": "stream",
          "name": "stdout",
          "text": [
            "1/1 [==============================] - 1s 1s/step\n",
            "1/1 [==============================] - 0s 45ms/step\n",
            "1/1 [==============================] - 0s 27ms/step\n",
            "1/1 [==============================] - 0s 37ms/step\n",
            "1/1 [==============================] - 0s 33ms/step\n",
            "1/1 [==============================] - 0s 36ms/step\n",
            "1/1 [==============================] - 0s 27ms/step\n",
            "1/1 [==============================] - 0s 27ms/step\n",
            "1/1 [==============================] - 0s 31ms/step\n",
            "1/1 [==============================] - 0s 28ms/step\n",
            "1/1 [==============================] - 0s 29ms/step\n",
            "1/1 [==============================] - 0s 44ms/step\n",
            "1/1 [==============================] - 0s 36ms/step\n",
            "1/1 [==============================] - 0s 27ms/step\n",
            "1/1 [==============================] - 0s 44ms/step\n",
            "1/1 [==============================] - 0s 37ms/step\n",
            "1/1 [==============================] - 0s 29ms/step\n",
            "1/1 [==============================] - 0s 28ms/step\n",
            "1/1 [==============================] - 0s 35ms/step\n",
            "1/1 [==============================] - 0s 37ms/step\n",
            "1/1 [==============================] - 0s 40ms/step\n",
            "1/1 [==============================] - 0s 37ms/step\n",
            "1/1 [==============================] - 0s 40ms/step\n",
            "1/1 [==============================] - 0s 39ms/step\n",
            "1/1 [==============================] - 0s 35ms/step\n",
            "1/1 [==============================] - 0s 36ms/step\n",
            "1/1 [==============================] - 0s 40ms/step\n",
            "1/1 [==============================] - 0s 36ms/step\n",
            "1/1 [==============================] - 0s 40ms/step\n",
            "1/1 [==============================] - 0s 27ms/step\n",
            "1/1 [==============================] - 0s 26ms/step\n",
            "1/1 [==============================] - 1s 698ms/step\n"
          ]
        }
      ]
    },
    {
      "cell_type": "code",
      "source": [
        "print(y_pred.shape)\n",
        "print(y_true.shape)"
      ],
      "metadata": {
        "colab": {
          "base_uri": "https://localhost:8080/"
        },
        "id": "KGWYFRDWg5mt",
        "outputId": "6d55de3f-366a-4b96-de0d-dd770c1c90ec"
      },
      "execution_count": null,
      "outputs": [
        {
          "output_type": "stream",
          "name": "stdout",
          "text": [
            "(1000,)\n",
            "(1000,)\n"
          ]
        }
      ]
    },
    {
      "cell_type": "code",
      "source": [
        "confusion_mat = confusion_matrix(y_pred,y_true)\n",
        "confusion_mat"
      ],
      "metadata": {
        "colab": {
          "base_uri": "https://localhost:8080/"
        },
        "id": "t4eeDZHgd53r",
        "outputId": "28acad6c-f50d-4f42-b244-ea011202e563"
      },
      "execution_count": null,
      "outputs": [
        {
          "output_type": "execute_result",
          "data": {
            "text/plain": [
              "array([[ 98,   1,   0,   0,   0,   0,   0,   0,   0,   0],\n",
              "       [  0,  94,   1,   0,   0,   0,   0,   0,   0,   2],\n",
              "       [  0,   1,  99,   0,   0,   0,   0,   0,   0,   0],\n",
              "       [  1,   1,   0,  99,   0,   1,   2,   0,   0,   0],\n",
              "       [  0,   0,   0,   0,  98,   0,   0,   0,   0,   0],\n",
              "       [  1,   1,   0,   0,   1,  96,   0,   0,   0,   0],\n",
              "       [  0,   0,   0,   1,   0,   0,  98,   0,   0,   2],\n",
              "       [  0,   0,   0,   0,   0,   0,   0,  97,   0,   0],\n",
              "       [  0,   0,   0,   0,   1,   1,   0,   0, 100,   0],\n",
              "       [  0,   2,   0,   0,   0,   2,   0,   3,   0,  96]])"
            ]
          },
          "metadata": {},
          "execution_count": 181
        }
      ]
    },
    {
      "cell_type": "code",
      "source": [
        "print( classification_report(y_true, y_pred))\n"
      ],
      "metadata": {
        "colab": {
          "base_uri": "https://localhost:8080/"
        },
        "id": "_Q2u2BGueGR-",
        "outputId": "238391ea-e7c8-4d17-b32d-f5403432bffb"
      },
      "execution_count": null,
      "outputs": [
        {
          "output_type": "stream",
          "name": "stdout",
          "text": [
            "              precision    recall  f1-score   support\n",
            "\n",
            "           0       0.99      0.98      0.98       100\n",
            "           1       0.97      0.94      0.95       100\n",
            "           2       0.99      0.99      0.99       100\n",
            "           3       0.95      0.99      0.97       100\n",
            "           4       1.00      0.98      0.99       100\n",
            "           5       0.97      0.96      0.96       100\n",
            "           6       0.97      0.98      0.98       100\n",
            "           7       1.00      0.97      0.98       100\n",
            "           8       0.98      1.00      0.99       100\n",
            "           9       0.93      0.96      0.95       100\n",
            "\n",
            "    accuracy                           0.97      1000\n",
            "   macro avg       0.98      0.97      0.98      1000\n",
            "weighted avg       0.98      0.97      0.98      1000\n",
            "\n"
          ]
        }
      ]
    },
    {
      "cell_type": "code",
      "source": [
        "cm =ConfusionMatrixDisplay(confusion_mat)\n",
        "fig, ax = plt.subplots(figsize = (12,12))\n",
        "cm.plot(ax=ax)\n",
        "plt.title(\"Confusion Matrix for classifier(Data augmentation & fine-tuniing)\")\n",
        "plt.savefig(\"Confusion_matrix2.png\")\n",
        "plt.show()"
      ],
      "metadata": {
        "colab": {
          "base_uri": "https://localhost:8080/",
          "height": 693
        },
        "id": "K4XaZsAbpWk0",
        "outputId": "c3078b1b-04e1-467d-d60c-fcd0c673fd0b"
      },
      "execution_count": null,
      "outputs": [
        {
          "output_type": "display_data",
          "data": {
            "text/plain": [
              "<Figure size 864x864 with 2 Axes>"
            ],
            "image/png": "[encoded data removed]"
          },
          "metadata": {
            "needs_background": "light"
          }
        }
      ]
    },
    {
      "cell_type": "code",
      "source": [],
      "metadata": {
        "id": "MwY1kRNxp1Lp"
      },
      "execution_count": null,
      "outputs": []
    }
  ],
  "metadata": {
    "colab": {
      "provenance": [],
      "authorship_tag": "ABX9TyPtsleMgQhILHJ03611HkiM",
      "include_colab_link": true
    },
    "kernelspec": {
      "display_name": "Python 3",
      "name": "python3"
    },
    "language_info": {
      "name": "python"
    },
    "accelerator": "GPU",
    "gpuClass": "standard"
  },
  "nbformat": 4,
  "nbformat_minor": 0
}