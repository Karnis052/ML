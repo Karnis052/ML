{
  "nbformat": 4,
  "nbformat_minor": 0,
  "metadata": {
    "colab": {
      "provenance": [],
      "include_colab_link": true
    },
    "kernelspec": {
      "name": "python3",
      "display_name": "Python 3"
    },
    "gpuClass": "standard"
  },
  "cells": [
    {
      "cell_type": "markdown",
      "metadata": {
        "id": "view-in-github",
        "colab_type": "text"
      },
      "source": [
        "<a href=\"https://colab.research.google.com/github/Karnis052/ML/blob/main/Sentiment_Analysis_of_Code_Mixed_Text.ipynb\" target=\"_parent\"><img src=\"https://colab.research.google.com/assets/colab-badge.svg\" alt=\"Open In Colab\"/></a>"
      ]
    },
    {
      "cell_type": "code",
      "metadata": {
        "id": "3YW8LwzIBysE"
      },
      "source": [
        "import os\n",
        "from glob import glob\n",
        "import numpy as np\n",
        "import matplotlib.pyplot as plt\n",
        "import pandas as pd\n",
        "import re\n",
        "import nltk\n",
        "from sklearn.model_selection import train_test_split\n",
        "from sklearn.metrics import classification_report,confusion_matrix\n",
        "import tensorflow as tf\n",
        "from tensorflow import keras\n"
      ],
      "execution_count": null,
      "outputs": []
    },
    {
      "cell_type": "code",
      "source": [
        "!wget https://www.dropbox.com/s/kc77yps787sqt92/kaggle.json "
      ],
      "metadata": {
        "colab": {
          "base_uri": "https://localhost:8080/"
        },
        "id": "PqFyMfs4QiYx",
        "outputId": "89d308ec-f2b4-463f-e01c-3d656b945ac2"
      },
      "execution_count": null,
      "outputs": [
        {
          "output_type": "stream",
          "name": "stdout",
          "text": [
            "--2023-02-15 11:40:28--  https://www.dropbox.com/s/kc77yps787sqt92/kaggle.json\n",
            "Resolving www.dropbox.com (www.dropbox.com)... 162.125.3.18, 2620:100:6019:18::a27d:412\n",
            "Connecting to www.dropbox.com (www.dropbox.com)|162.125.3.18|:443... connected.\n",
            "HTTP request sent, awaiting response... 302 Found\n",
            "Location: /s/raw/kc77yps787sqt92/kaggle.json [following]\n",
            "--2023-02-15 11:40:29--  https://www.dropbox.com/s/raw/kc77yps787sqt92/kaggle.json\n",
            "Reusing existing connection to www.dropbox.com:443.\n",
            "HTTP request sent, awaiting response... 302 Found\n",
            "Location: https://uc0c7e5531748035be5793cb29fc.dl.dropboxusercontent.com/cd/0/inline/B2gSWqkym7ZWga2SvSNUQOsRpcOePwlpw8zKt7AF-mTvaUl9bcBHyBe7s7pmBUDBRbWieLO-HLa79yHTRDLyqV5waoSOEq3ibJAhIMyRqzxMoSFVUQUGAaJgx2_-WyjKFsydKXsBdNA0Cok5HKGqAe29IV9m3nKjG9_VXI0gLJ9yWA/file# [following]\n",
            "--2023-02-15 11:40:29--  https://uc0c7e5531748035be5793cb29fc.dl.dropboxusercontent.com/cd/0/inline/B2gSWqkym7ZWga2SvSNUQOsRpcOePwlpw8zKt7AF-mTvaUl9bcBHyBe7s7pmBUDBRbWieLO-HLa79yHTRDLyqV5waoSOEq3ibJAhIMyRqzxMoSFVUQUGAaJgx2_-WyjKFsydKXsBdNA0Cok5HKGqAe29IV9m3nKjG9_VXI0gLJ9yWA/file\n",
            "Resolving uc0c7e5531748035be5793cb29fc.dl.dropboxusercontent.com (uc0c7e5531748035be5793cb29fc.dl.dropboxusercontent.com)... 162.125.3.15, 2620:100:6018:15::a27d:30f\n",
            "Connecting to uc0c7e5531748035be5793cb29fc.dl.dropboxusercontent.com (uc0c7e5531748035be5793cb29fc.dl.dropboxusercontent.com)|162.125.3.15|:443... connected.\n",
            "HTTP request sent, awaiting response... 200 OK\n",
            "Length: 75 [text/plain]\n",
            "Saving to: ‘kaggle.json’\n",
            "\n",
            "kaggle.json         100%[===================>]      75  --.-KB/s    in 0s      \n",
            "\n",
            "2023-02-15 11:40:29 (11.0 MB/s) - ‘kaggle.json’ saved [75/75]\n",
            "\n"
          ]
        }
      ]
    },
    {
      "cell_type": "code",
      "source": [
        "! mkdir ~/.kaggle\n",
        "! cp kaggle.json ~/.kaggle\n",
        "!chmod 600 ~/.kaggle/kaggle.json"
      ],
      "metadata": {
        "id": "R526Af4XQl-p"
      },
      "execution_count": null,
      "outputs": []
    },
    {
      "cell_type": "code",
      "source": [
        "! kaggle competitions download clblp-task-2"
      ],
      "metadata": {
        "colab": {
          "base_uri": "https://localhost:8080/"
        },
        "id": "e3abZzX-QqAw",
        "outputId": "4f6ade28-ae68-41ef-d157-d9f7745c77b3"
      },
      "execution_count": null,
      "outputs": [
        {
          "output_type": "stream",
          "name": "stdout",
          "text": [
            "Downloading clblp-task-2.zip to /content\n",
            "\r  0% 0.00/1.37M [00:00<?, ?B/s]\n",
            "\r100% 1.37M/1.37M [00:00<00:00, 130MB/s]\n"
          ]
        }
      ]
    },
    {
      "cell_type": "code",
      "source": [
        "!unzip clblp-task-2"
      ],
      "metadata": {
        "colab": {
          "base_uri": "https://localhost:8080/"
        },
        "id": "yLVsspqCRbeH",
        "outputId": "17531b97-d8c3-4d3f-e80f-55cb0c539c94"
      },
      "execution_count": null,
      "outputs": [
        {
          "output_type": "stream",
          "name": "stdout",
          "text": [
            "Archive:  clblp-task-2.zip\n",
            "  inflating: sample_submission.csv   \n",
            "  inflating: test.csv                \n",
            "  inflating: train.csv               \n"
          ]
        }
      ]
    },
    {
      "cell_type": "code",
      "metadata": {
        "id": "5weyzwKqpHXr",
        "colab": {
          "base_uri": "https://localhost:8080/",
          "height": 423
        },
        "outputId": "11a908c3-9e21-4953-b33e-3665c11db4ec"
      },
      "source": [
        "dataset = pd.read_csv(\"train.csv\")\n",
        "dataset"
      ],
      "execution_count": null,
      "outputs": [
        {
          "output_type": "execute_result",
          "data": {
            "text/plain": [
              "                                                Reviews  Sentiment\n",
              "0     মুরগির chaap সত্যিই মুখরোচক হয়। আমি এটা পছন্দ...          1\n",
              "1     একটি ম্যাসেজ থেরাপিস্ট যারা ব্যাখ্যা করেছেন যে...          0\n",
              "2                          এটির মান একটি যুগ্ম মান নয়।          0\n",
              "3     আমি মনে করি তারা একটি উন্নততর প্রধান ভাড়া প্র...          0\n",
              "4     প্রস্তুতিটা খুবই ভালো - সত্যিই সুস্বাদু। যত তা...          1\n",
              "...                                                 ...        ...\n",
              "6854  ইস্ আমি আমার টাকা নষ্ট না করেছে! আমি সাধারণত ক...          1\n",
              "6855  আমি মনে করি শেফ Silvana মধ্যে Esparza প্রথম রে...          0\n",
              "6856          অস্বাস্থ্যকর অস্বাস্থ্যকর খাদ্য সন্ত্রাসী          1\n",
              "6857  খাদ্য প্রতিটি penny.ব্যবহারপরিবার ও বন্ধুদের স...          1\n",
              "6858  সুস্বাদু খাবার ..................................          1\n",
              "\n",
              "[6859 rows x 2 columns]"
            ],
            "text/html": [
              "\n",
              "  <div id=\"df-3a345d5c-d2cb-4ab4-9630-cad038b43621\">\n",
              "    <div class=\"colab-df-container\">\n",
              "      <div>\n",
              "<style scoped>\n",
              "    .dataframe tbody tr th:only-of-type {\n",
              "        vertical-align: middle;\n",
              "    }\n",
              "\n",
              "    .dataframe tbody tr th {\n",
              "        vertical-align: top;\n",
              "    }\n",
              "\n",
              "    .dataframe thead th {\n",
              "        text-align: right;\n",
              "    }\n",
              "</style>\n",
              "<table border=\"1\" class=\"dataframe\">\n",
              "  <thead>\n",
              "    <tr style=\"text-align: right;\">\n",
              "      <th></th>\n",
              "      <th>Reviews</th>\n",
              "      <th>Sentiment</th>\n",
              "    </tr>\n",
              "  </thead>\n",
              "  <tbody>\n",
              "    <tr>\n",
              "      <th>0</th>\n",
              "      <td>মুরগির chaap সত্যিই মুখরোচক হয়। আমি এটা পছন্দ...</td>\n",
              "      <td>1</td>\n",
              "    </tr>\n",
              "    <tr>\n",
              "      <th>1</th>\n",
              "      <td>একটি ম্যাসেজ থেরাপিস্ট যারা ব্যাখ্যা করেছেন যে...</td>\n",
              "      <td>0</td>\n",
              "    </tr>\n",
              "    <tr>\n",
              "      <th>2</th>\n",
              "      <td>এটির মান একটি যুগ্ম মান নয়।</td>\n",
              "      <td>0</td>\n",
              "    </tr>\n",
              "    <tr>\n",
              "      <th>3</th>\n",
              "      <td>আমি মনে করি তারা একটি উন্নততর প্রধান ভাড়া প্র...</td>\n",
              "      <td>0</td>\n",
              "    </tr>\n",
              "    <tr>\n",
              "      <th>4</th>\n",
              "      <td>প্রস্তুতিটা খুবই ভালো - সত্যিই সুস্বাদু। যত তা...</td>\n",
              "      <td>1</td>\n",
              "    </tr>\n",
              "    <tr>\n",
              "      <th>...</th>\n",
              "      <td>...</td>\n",
              "      <td>...</td>\n",
              "    </tr>\n",
              "    <tr>\n",
              "      <th>6854</th>\n",
              "      <td>ইস্ আমি আমার টাকা নষ্ট না করেছে! আমি সাধারণত ক...</td>\n",
              "      <td>1</td>\n",
              "    </tr>\n",
              "    <tr>\n",
              "      <th>6855</th>\n",
              "      <td>আমি মনে করি শেফ Silvana মধ্যে Esparza প্রথম রে...</td>\n",
              "      <td>0</td>\n",
              "    </tr>\n",
              "    <tr>\n",
              "      <th>6856</th>\n",
              "      <td>অস্বাস্থ্যকর অস্বাস্থ্যকর খাদ্য সন্ত্রাসী</td>\n",
              "      <td>1</td>\n",
              "    </tr>\n",
              "    <tr>\n",
              "      <th>6857</th>\n",
              "      <td>খাদ্য প্রতিটি penny.ব্যবহারপরিবার ও বন্ধুদের স...</td>\n",
              "      <td>1</td>\n",
              "    </tr>\n",
              "    <tr>\n",
              "      <th>6858</th>\n",
              "      <td>সুস্বাদু খাবার ..................................</td>\n",
              "      <td>1</td>\n",
              "    </tr>\n",
              "  </tbody>\n",
              "</table>\n",
              "<p>6859 rows × 2 columns</p>\n",
              "</div>\n",
              "      <button class=\"colab-df-convert\" onclick=\"convertToInteractive('df-3a345d5c-d2cb-4ab4-9630-cad038b43621')\"\n",
              "              title=\"Convert this dataframe to an interactive table.\"\n",
              "              style=\"display:none;\">\n",
              "        \n",
              "  <svg xmlns=\"http://www.w3.org/2000/svg\" height=\"24px\"viewBox=\"0 0 24 24\"\n",
              "       width=\"24px\">\n",
              "    <path d=\"M0 0h24v24H0V0z\" fill=\"none\"/>\n",
              "    <path d=\"M18.56 5.44l.94 2.06.94-2.06 2.06-.94-2.06-.94-.94-2.06-.94 2.06-2.06.94zm-11 1L8.5 8.5l.94-2.06 2.06-.94-2.06-.94L8.5 2.5l-.94 2.06-2.06.94zm10 10l.94 2.06.94-2.06 2.06-.94-2.06-.94-.94-2.06-.94 2.06-2.06.94z\"/><path d=\"M17.41 7.96l-1.37-1.37c-.4-.4-.92-.59-1.43-.59-.52 0-1.04.2-1.43.59L10.3 9.45l-7.72 7.72c-.78.78-.78 2.05 0 2.83L4 21.41c.39.39.9.59 1.41.59.51 0 1.02-.2 1.41-.59l7.78-7.78 2.81-2.81c.8-.78.8-2.07 0-2.86zM5.41 20L4 18.59l7.72-7.72 1.47 1.35L5.41 20z\"/>\n",
              "  </svg>\n",
              "      </button>\n",
              "      \n",
              "  <style>\n",
              "    .colab-df-container {\n",
              "      display:flex;\n",
              "      flex-wrap:wrap;\n",
              "      gap: 12px;\n",
              "    }\n",
              "\n",
              "    .colab-df-convert {\n",
              "      background-color: #E8F0FE;\n",
              "      border: none;\n",
              "      border-radius: 50%;\n",
              "      cursor: pointer;\n",
              "      display: none;\n",
              "      fill: #1967D2;\n",
              "      height: 32px;\n",
              "      padding: 0 0 0 0;\n",
              "      width: 32px;\n",
              "    }\n",
              "\n",
              "    .colab-df-convert:hover {\n",
              "      background-color: #E2EBFA;\n",
              "      box-shadow: 0px 1px 2px rgba(60, 64, 67, 0.3), 0px 1px 3px 1px rgba(60, 64, 67, 0.15);\n",
              "      fill: #174EA6;\n",
              "    }\n",
              "\n",
              "    [theme=dark] .colab-df-convert {\n",
              "      background-color: #3B4455;\n",
              "      fill: #D2E3FC;\n",
              "    }\n",
              "\n",
              "    [theme=dark] .colab-df-convert:hover {\n",
              "      background-color: #434B5C;\n",
              "      box-shadow: 0px 1px 3px 1px rgba(0, 0, 0, 0.15);\n",
              "      filter: drop-shadow(0px 1px 2px rgba(0, 0, 0, 0.3));\n",
              "      fill: #FFFFFF;\n",
              "    }\n",
              "  </style>\n",
              "\n",
              "      <script>\n",
              "        const buttonEl =\n",
              "          document.querySelector('#df-3a345d5c-d2cb-4ab4-9630-cad038b43621 button.colab-df-convert');\n",
              "        buttonEl.style.display =\n",
              "          google.colab.kernel.accessAllowed ? 'block' : 'none';\n",
              "\n",
              "        async function convertToInteractive(key) {\n",
              "          const element = document.querySelector('#df-3a345d5c-d2cb-4ab4-9630-cad038b43621');\n",
              "          const dataTable =\n",
              "            await google.colab.kernel.invokeFunction('convertToInteractive',\n",
              "                                                     [key], {});\n",
              "          if (!dataTable) return;\n",
              "\n",
              "          const docLinkHtml = 'Like what you see? Visit the ' +\n",
              "            '<a target=\"_blank\" href=https://colab.research.google.com/notebooks/data_table.ipynb>data table notebook</a>'\n",
              "            + ' to learn more about interactive tables.';\n",
              "          element.innerHTML = '';\n",
              "          dataTable['output_type'] = 'display_data';\n",
              "          await google.colab.output.renderOutput(dataTable, element);\n",
              "          const docLink = document.createElement('div');\n",
              "          docLink.innerHTML = docLinkHtml;\n",
              "          element.appendChild(docLink);\n",
              "        }\n",
              "      </script>\n",
              "    </div>\n",
              "  </div>\n",
              "  "
            ]
          },
          "metadata": {},
          "execution_count": 6
        }
      ]
    },
    {
      "cell_type": "code",
      "source": [
        "testset = pd.read_csv(\"test.csv\")\n",
        "testset"
      ],
      "metadata": {
        "colab": {
          "base_uri": "https://localhost:8080/",
          "height": 423
        },
        "id": "T67Qow02X2RD",
        "outputId": "75b59219-492b-4891-ab56-ca6101d6769e"
      },
      "execution_count": null,
      "outputs": [
        {
          "output_type": "execute_result",
          "data": {
            "text/plain": [
              "        Id                                            Reviews\n",
              "0        0  সুতরাং, গতকাল সকালে, আমি আসলে একটি prego ক্ষুধ...\n",
              "1        1  এটা আমাদের জন্য বিশেষ কিছু নেই। আমরা ইফতার ও ব...\n",
              "2        2  ঢাকায় ভালো ঠিকানা, বিশেষ করে যদি আপনি ওয়েস্ট...\n",
              "3        3  আমার জন্য তা গন্ধ আমি সবসময় পছন্দ চাকন মত ছিল...\n",
              "4        4  খাবার ও পরিবেশ এত ভাল! সঙ্গীর সঙ্গে থাকা ভালো ...\n",
              "...    ...                                                ...\n",
              "1710  1710  আমি খাদ্য :) খুব সুস্বাদু এবং রেস্টুরেন্ট এর প...\n",
              "1711  1711  খারাপ আচরণ। খারাপ ম্যানেজমেন্ট সিস্টেম। খারাপ ...\n",
              "1712  1712             নিশ্চিতভাবে অধিকারী না $ 3 আমি দেওয়া।\n",
              "1713  1713  আলু চিপ অর্ডার দু: খিত ছিল ... আমি সম্ভবত গণনা...\n",
              "1714  1714  তাদের চিকেন Teriyaki এবং গরুর মাংস মোড়ানো চেষ...\n",
              "\n",
              "[1715 rows x 2 columns]"
            ],
            "text/html": [
              "\n",
              "  <div id=\"df-a0924241-42c6-4adb-aee7-46aaa6e3de17\">\n",
              "    <div class=\"colab-df-container\">\n",
              "      <div>\n",
              "<style scoped>\n",
              "    .dataframe tbody tr th:only-of-type {\n",
              "        vertical-align: middle;\n",
              "    }\n",
              "\n",
              "    .dataframe tbody tr th {\n",
              "        vertical-align: top;\n",
              "    }\n",
              "\n",
              "    .dataframe thead th {\n",
              "        text-align: right;\n",
              "    }\n",
              "</style>\n",
              "<table border=\"1\" class=\"dataframe\">\n",
              "  <thead>\n",
              "    <tr style=\"text-align: right;\">\n",
              "      <th></th>\n",
              "      <th>Id</th>\n",
              "      <th>Reviews</th>\n",
              "    </tr>\n",
              "  </thead>\n",
              "  <tbody>\n",
              "    <tr>\n",
              "      <th>0</th>\n",
              "      <td>0</td>\n",
              "      <td>সুতরাং, গতকাল সকালে, আমি আসলে একটি prego ক্ষুধ...</td>\n",
              "    </tr>\n",
              "    <tr>\n",
              "      <th>1</th>\n",
              "      <td>1</td>\n",
              "      <td>এটা আমাদের জন্য বিশেষ কিছু নেই। আমরা ইফতার ও ব...</td>\n",
              "    </tr>\n",
              "    <tr>\n",
              "      <th>2</th>\n",
              "      <td>2</td>\n",
              "      <td>ঢাকায় ভালো ঠিকানা, বিশেষ করে যদি আপনি ওয়েস্ট...</td>\n",
              "    </tr>\n",
              "    <tr>\n",
              "      <th>3</th>\n",
              "      <td>3</td>\n",
              "      <td>আমার জন্য তা গন্ধ আমি সবসময় পছন্দ চাকন মত ছিল...</td>\n",
              "    </tr>\n",
              "    <tr>\n",
              "      <th>4</th>\n",
              "      <td>4</td>\n",
              "      <td>খাবার ও পরিবেশ এত ভাল! সঙ্গীর সঙ্গে থাকা ভালো ...</td>\n",
              "    </tr>\n",
              "    <tr>\n",
              "      <th>...</th>\n",
              "      <td>...</td>\n",
              "      <td>...</td>\n",
              "    </tr>\n",
              "    <tr>\n",
              "      <th>1710</th>\n",
              "      <td>1710</td>\n",
              "      <td>আমি খাদ্য :) খুব সুস্বাদু এবং রেস্টুরেন্ট এর প...</td>\n",
              "    </tr>\n",
              "    <tr>\n",
              "      <th>1711</th>\n",
              "      <td>1711</td>\n",
              "      <td>খারাপ আচরণ। খারাপ ম্যানেজমেন্ট সিস্টেম। খারাপ ...</td>\n",
              "    </tr>\n",
              "    <tr>\n",
              "      <th>1712</th>\n",
              "      <td>1712</td>\n",
              "      <td>নিশ্চিতভাবে অধিকারী না $ 3 আমি দেওয়া।</td>\n",
              "    </tr>\n",
              "    <tr>\n",
              "      <th>1713</th>\n",
              "      <td>1713</td>\n",
              "      <td>আলু চিপ অর্ডার দু: খিত ছিল ... আমি সম্ভবত গণনা...</td>\n",
              "    </tr>\n",
              "    <tr>\n",
              "      <th>1714</th>\n",
              "      <td>1714</td>\n",
              "      <td>তাদের চিকেন Teriyaki এবং গরুর মাংস মোড়ানো চেষ...</td>\n",
              "    </tr>\n",
              "  </tbody>\n",
              "</table>\n",
              "<p>1715 rows × 2 columns</p>\n",
              "</div>\n",
              "      <button class=\"colab-df-convert\" onclick=\"convertToInteractive('df-a0924241-42c6-4adb-aee7-46aaa6e3de17')\"\n",
              "              title=\"Convert this dataframe to an interactive table.\"\n",
              "              style=\"display:none;\">\n",
              "        \n",
              "  <svg xmlns=\"http://www.w3.org/2000/svg\" height=\"24px\"viewBox=\"0 0 24 24\"\n",
              "       width=\"24px\">\n",
              "    <path d=\"M0 0h24v24H0V0z\" fill=\"none\"/>\n",
              "    <path d=\"M18.56 5.44l.94 2.06.94-2.06 2.06-.94-2.06-.94-.94-2.06-.94 2.06-2.06.94zm-11 1L8.5 8.5l.94-2.06 2.06-.94-2.06-.94L8.5 2.5l-.94 2.06-2.06.94zm10 10l.94 2.06.94-2.06 2.06-.94-2.06-.94-.94-2.06-.94 2.06-2.06.94z\"/><path d=\"M17.41 7.96l-1.37-1.37c-.4-.4-.92-.59-1.43-.59-.52 0-1.04.2-1.43.59L10.3 9.45l-7.72 7.72c-.78.78-.78 2.05 0 2.83L4 21.41c.39.39.9.59 1.41.59.51 0 1.02-.2 1.41-.59l7.78-7.78 2.81-2.81c.8-.78.8-2.07 0-2.86zM5.41 20L4 18.59l7.72-7.72 1.47 1.35L5.41 20z\"/>\n",
              "  </svg>\n",
              "      </button>\n",
              "      \n",
              "  <style>\n",
              "    .colab-df-container {\n",
              "      display:flex;\n",
              "      flex-wrap:wrap;\n",
              "      gap: 12px;\n",
              "    }\n",
              "\n",
              "    .colab-df-convert {\n",
              "      background-color: #E8F0FE;\n",
              "      border: none;\n",
              "      border-radius: 50%;\n",
              "      cursor: pointer;\n",
              "      display: none;\n",
              "      fill: #1967D2;\n",
              "      height: 32px;\n",
              "      padding: 0 0 0 0;\n",
              "      width: 32px;\n",
              "    }\n",
              "\n",
              "    .colab-df-convert:hover {\n",
              "      background-color: #E2EBFA;\n",
              "      box-shadow: 0px 1px 2px rgba(60, 64, 67, 0.3), 0px 1px 3px 1px rgba(60, 64, 67, 0.15);\n",
              "      fill: #174EA6;\n",
              "    }\n",
              "\n",
              "    [theme=dark] .colab-df-convert {\n",
              "      background-color: #3B4455;\n",
              "      fill: #D2E3FC;\n",
              "    }\n",
              "\n",
              "    [theme=dark] .colab-df-convert:hover {\n",
              "      background-color: #434B5C;\n",
              "      box-shadow: 0px 1px 3px 1px rgba(0, 0, 0, 0.15);\n",
              "      filter: drop-shadow(0px 1px 2px rgba(0, 0, 0, 0.3));\n",
              "      fill: #FFFFFF;\n",
              "    }\n",
              "  </style>\n",
              "\n",
              "      <script>\n",
              "        const buttonEl =\n",
              "          document.querySelector('#df-a0924241-42c6-4adb-aee7-46aaa6e3de17 button.colab-df-convert');\n",
              "        buttonEl.style.display =\n",
              "          google.colab.kernel.accessAllowed ? 'block' : 'none';\n",
              "\n",
              "        async function convertToInteractive(key) {\n",
              "          const element = document.querySelector('#df-a0924241-42c6-4adb-aee7-46aaa6e3de17');\n",
              "          const dataTable =\n",
              "            await google.colab.kernel.invokeFunction('convertToInteractive',\n",
              "                                                     [key], {});\n",
              "          if (!dataTable) return;\n",
              "\n",
              "          const docLinkHtml = 'Like what you see? Visit the ' +\n",
              "            '<a target=\"_blank\" href=https://colab.research.google.com/notebooks/data_table.ipynb>data table notebook</a>'\n",
              "            + ' to learn more about interactive tables.';\n",
              "          element.innerHTML = '';\n",
              "          dataTable['output_type'] = 'display_data';\n",
              "          await google.colab.output.renderOutput(dataTable, element);\n",
              "          const docLink = document.createElement('div');\n",
              "          docLink.innerHTML = docLinkHtml;\n",
              "          element.appendChild(docLink);\n",
              "        }\n",
              "      </script>\n",
              "    </div>\n",
              "  </div>\n",
              "  "
            ]
          },
          "metadata": {},
          "execution_count": 7
        }
      ]
    },
    {
      "cell_type": "code",
      "source": [
        "dataset.columns"
      ],
      "metadata": {
        "colab": {
          "base_uri": "https://localhost:8080/"
        },
        "id": "BkorqcIpVw4l",
        "outputId": "29261041-f9e4-46af-90f6-0cd6959437ac"
      },
      "execution_count": null,
      "outputs": [
        {
          "output_type": "execute_result",
          "data": {
            "text/plain": [
              "Index(['Reviews', 'Sentiment'], dtype='object')"
            ]
          },
          "metadata": {},
          "execution_count": 8
        }
      ]
    },
    {
      "cell_type": "code",
      "source": [
        "testset.columns"
      ],
      "metadata": {
        "colab": {
          "base_uri": "https://localhost:8080/"
        },
        "id": "gxoun3k7X83L",
        "outputId": "9b5ed142-27b8-4c96-9291-cd9cf00ee93b"
      },
      "execution_count": null,
      "outputs": [
        {
          "output_type": "execute_result",
          "data": {
            "text/plain": [
              "Index(['Id', 'Reviews'], dtype='object')"
            ]
          },
          "metadata": {},
          "execution_count": 9
        }
      ]
    },
    {
      "cell_type": "code",
      "source": [
        "number_of_classes = len(dataset['Sentiment'].unique())\n",
        "number_of_classes"
      ],
      "metadata": {
        "id": "QPTaIoWbSWWW",
        "colab": {
          "base_uri": "https://localhost:8080/"
        },
        "outputId": "f04142cc-f675-414f-f2b7-0a5fdc269075"
      },
      "execution_count": null,
      "outputs": [
        {
          "output_type": "execute_result",
          "data": {
            "text/plain": [
              "2"
            ]
          },
          "metadata": {},
          "execution_count": 10
        }
      ]
    },
    {
      "cell_type": "code",
      "metadata": {
        "id": "zZuvn7QArsZw",
        "colab": {
          "base_uri": "https://localhost:8080/"
        },
        "outputId": "f680f944-aa10-41d5-f549-efa001688eb8"
      },
      "source": [
        "print('Total size of the dataset : ',len(dataset))"
      ],
      "execution_count": null,
      "outputs": [
        {
          "output_type": "stream",
          "name": "stdout",
          "text": [
            "Total size of the dataset :  6859\n"
          ]
        }
      ]
    },
    {
      "cell_type": "code",
      "source": [
        "# cleaning function\n",
        "def cleaning(row):\n",
        "  text = re.sub('[^\\u0980-\\u09FF]',' ', row) ## removing punctions\n",
        "  return text \n",
        "\n",
        "dataset['cleaned'] = dataset.Reviews.apply(cleaning)  "
      ],
      "metadata": {
        "id": "D_rzkjO95CnV"
      },
      "execution_count": null,
      "outputs": []
    },
    {
      "cell_type": "code",
      "source": [
        "testset['cleaned'] = testset.Reviews.apply(cleaning)"
      ],
      "metadata": {
        "id": "LKtpnXdYYCwT"
      },
      "execution_count": null,
      "outputs": []
    },
    {
      "cell_type": "code",
      "source": [
        "dataset.columns"
      ],
      "metadata": {
        "colab": {
          "base_uri": "https://localhost:8080/"
        },
        "id": "-CoEqIZXS5H-",
        "outputId": "fc71c598-ad2b-40dc-a5ae-22c84194f129"
      },
      "execution_count": null,
      "outputs": [
        {
          "output_type": "execute_result",
          "data": {
            "text/plain": [
              "Index(['Reviews', 'Sentiment', 'cleaned'], dtype='object')"
            ]
          },
          "metadata": {},
          "execution_count": 14
        }
      ]
    },
    {
      "cell_type": "code",
      "metadata": {
        "id": "MElI16T7C89W",
        "colab": {
          "base_uri": "https://localhost:8080/"
        },
        "outputId": "00c87b70-7ba3-4f5a-b9a2-e61c436a0512"
      },
      "source": [
        "## Printing the raw dataset\n",
        "for i in list(np.random.randint(1,len(dataset),10)):\n",
        "  print(dataset['cleaned'][i],\"\\n\",dataset['Sentiment'][i])"
      ],
      "execution_count": null,
      "outputs": [
        {
          "output_type": "stream",
          "name": "stdout",
          "text": [
            "আমার বন্ধু আমাকে বলছে কিভাবে ভাল তাদের দুপুরের খাবার দুইবার হয় দেননি     আমি এটা চেষ্টা করেছি  কিন্তু এটা আমার জন্য কিছুই করিনি  স্যান্ডউইচ কিছু         পেতে পারেন মত   লীঢ় কিন্তু দ্বিগুণ দাম  ফাইন ফুডস একটি পাইকারী হারে সরবরাহকারী নামক হচ্ছে  আমি কোন সাধারণ স্যান্ডউইচ মত স্বাদ খাদ্য প্রত্যাশিত         আমি কি ছিল     হাম পাস্তা   পক্ষের সঙ্গে একটি পাণিনির উপর            মাশরুম সঙ্গে পনির  এক পারমায় তৈয়ারি পনির ছিল এবং অন্যান্য ম্যাকারনি ছিল  হয়তো এটা পাণিনির রুটি ছিল  আমি মনে করি পারমায় তৈয়ারি পনির পাস্তা সেখানে তৈরি করা হয়েছিল  কিন্তু আমি নিশ্চিত ম্যাকারনি সেখানে তৈরি করা হয়েছিল  এটা আমি একটি পিকনিক যা শক্ত কাগজ মধ্যে ছিল ছিল মত লীঢ় জানি  এটা সম্বন্ধে অহংকার বাড়িতে কিছু ছিল না         আমি বুঝতে পারলাম মাথা শেফ আমার স্যান্ডউইচ করেছি     তাকে রান্নাঘরে চলে গ্রাহকদের সবটা থেকে কোন ব্যক্তিত্ব রাখা  আমি তার পরামর্শের জন্য জিজ্ঞাসা করলেন  এবং তার প্রতিক্রিয়া ছিল            ভাল          সাধারণত  যখন আমি এজে চল  আমি তাদের          জন্য যান  তাদের ডেজার্ট কল্পিত হয় এবং আপনি একটি যুক্তিসঙ্গত মূল্যে পৃথক          পেতে পারেন  আমি একটি ভাণ্ডার বাড়িতে নিয়ে এবং তাদের পরবর্তী সময়ের জন্য থাকতে পারে         আমাদের কোম্পানি তাদের ক্যাটারিং জন্য তাদের ব্যবহার করে এবং আমি তাদের খাবারের উপর অনেক অভিনঁদন ছিল করেছি  কিন্তু দুপুরের খাবার দুইবার পাস  \n",
            " 0\n",
            "ভয়ঙ্কর সেবা     \n",
            " 0\n",
            "সেখানে গতকাল গিয়েছিলাম  অলংকরণ ভাল একটি পৃথক পরিবার লাউঞ্জে চাপ ছিল  কিন্তু সেবা অবিশ্বাস্যরূপে খারাপ   ছিল  আমরা কাচ্চি প্লেটার    জন  মুরগির রোস্ট  গরুর মাংস টিক্কা  ফিরনি        ও বোরহানি সহ আদেশ দেন  যখন ডিশ এসে আমরা কাচ্চি কোন ভেড়ার মাংসের ছিল আবিষ্কৃত     যখন বলা হয়  ওয়েটার বলেন যে এটা একটা ভুল ছিল এবং সব         একটি পৃথক বাটি মধ্যে আনা একসাথে  এবং প্রতিটি ব্যক্তির জন্য ভেড়ার মাংসের দুই টুকরা টুকরা খুব ছোট ছিল  ফিরনি শিশুর খাদ্য  সুজি  মত ছিল এবং এটি কোন কিশমিশ ছিল না        কোনো পার্থক্য ছিল  সর্বোপরি  খাদ্য মানের রামপুরা এক মান কাছাকাছি কোথাও না ছিল  শুধুমাত্র সেখানে পরিবেশ ও বোরহানি   তারকা লাগাতে আমাকে বাধ্য  নইলে এক দিতাম  \n",
            " 0\n",
            "জায়গা খুব অন্ধকার এবং হীন নয়  খাদ্য এছাড়াও প্রতি প্রত্যাশা যেমন ছিল না  কর্মীরা খুব প্রতিক্রিয়াশীল এবং স্বাগত ছিল না  \n",
            " 0\n",
            "আমি শুক্রবার রাতে পরিবার জন্মদিনের জন্য গিয়েছিলাম  শুধু রুম খাদক ডাইনিং কয়েক মানুষ     ম সূত্র রাখা   একটি মার্গারিটা অর্ডার দেওয়া হয়েছে  এটা ঝাকানো আছে অতিরিক্ত আছে     কিন্তু আমি যে ভাবে আদেশ দেন  এটা বেশিরভাগ টক মিশ্রণ ছিল  একটি এটা ছিল ভয়াবহ  কিভাবে একটি মার্গারিটা আপ জগাখিচুড়ি না   ছুটি     খেই  সার্ভার রান অবাক হয় আমরা অর্ডার ডিনার চেয়েছিলেন     য় খেই   খুবই হতাশাজনক  আমি মুরগির         জমা হলে তারা সব তাদের উপর সস ছিল   শ্রিম্প এপেটাইজার   চিংড়ি      সালসা ভাল ছিল নিয়ে গঠিত  আমি ফিরে যেতে হবে না  গুড লাক নিমকি  আমি তোমার সাজসজ্জা ভালোবাসি  কেন আপনি কি দেখেন না আপনি এখন ঠান্ডা করা যেতে পারে  \n",
            " 0\n",
            "চমত্কার      সাঁই       ফারুক ভাই          \n",
            " 1\n",
            "ভয়ঙ্কর খাদ্য  একেবারে স্বাদহীন  সম্ভবত সবচেয়ে খারাপ খাদ্য আমি কখনো টেস্ট    করা হয়েছে     আছে  গোলমরিচ দিয়ে টুক গরুর মাংস যা খুব নোনতা ছিল  তারপর আইটেমটি চিংড়ি সঙ্গে থাই নুডল মাত্র প্লাস্টিক খাওয়ার মত ছিল এবং পাশাপাশি স্বাদহীন ছিল  এই ফ্রাইড রাইস ঠিকঠাক লেগেছে  কিন্তু ডেজার্ট আইটেমের নারকেল বরফ অত্যধিক নোনতা ছিল  আম চটচটে চাল   আপনি কখনো এই ভয়াবহ খাদ্য জন্য অর্থ প্রদান করার যাচ্ছে  আমরা যখন ব্যবস্থাপক ডেকে বললেন কিনা আপনি আপনার রাঁধুনি পরিবর্তন বা নি  একটি মৃদু হাসি তিনি উত্তর    প্রধান বাবুর্চি     ফেব্রুয়ারী থেকে যোগ দিতে যাচ্ছে     এর সাথে আমি আপনাকে কিছু ছাড় স্যার দিতে যেহেতু আপনি খাদ্যের মতো নি         কি একটি উত্তর  \n",
            " 0\n",
            "প্লেস চমৎকার  সার্ভিস       ছিল  খাদ্য       টেস্ট     কর        চপ ও মাশরুম এর স্টেক ও স্যুপ ক্রিম চেষ্টা করা হয়েছে  একটি বিস্ময়কর অভিজ্ঞতা ছিল  \n",
            " 0\n",
            "স্বাদ       বায়ুমণ্ডলের       সার্ভিস        দাম  বেশ যুক্তিসঙ্গত \n",
            " 1\n",
            "ফিনিক্স সেরা     আমি আশা করি না  এখন  আমাকে ভুল পাবেন না  আমি কি ছিল প্রশংসনীয় ভাল ছিল কিন্তু যে এটি সম্পর্কে       বেশ ভাল  আছে  এখানে আমি যা আস্বাদিত এবং ভেবেছিলাম         টানা পর্ক  সুস্বাদু  সস ওকে  প্রভূত না    মাংস ভাল মানের ছিল এবং উপযুক্তভাবে রান্না করা হয়         টানা  টুকরা করা  গরুর মাংস  ধুস  মাংস একটি ভাল কাটা ছিল কিন্তু শুষ্ক হয় এবং একটি বিট কঠিন  আবার সস শুধু ঠিকঠাক লেগেছে         গরুর মাংস হাড্ডিগুলো  সুস্বাদু  বড়   মাংসল  সস আবার ছিল     ঠিক আছে         ম্যাক    পনির  খাবার    ণ বক্স আউট  ক্রাফট মত লীঢ় অধিকাংশই হতাশাদায়ক আইটেম         সবুজের এই আমার খাবার  উপযুক্তভাবে রান্না ও খুব ভাল মশলা এর শ্রেষ্ঠ অংশ ছিল         কলা পুডিং           এটি আংশিকভাবে হিমায়িত এবং স্বাদহীন ছিল  কুকিজ একটি সিক্ত   স্বাদহীন জাউ ছিলেন         মিষ্টি চা প্রথম রিফিল     সেন্ট ছিল এবং তারপর আপনি একটি নতুন কাপ কিনতে আপনি আরো চান তাহলে আছে    কি              আমরা ইতিমধ্যে সব কিছুর জন্য একটি প্রিমিয়াম পরিশোধ করছি এবং আপনি পান এক্সট্রা ড্রিংক আমাদের ক্রীতদাস যাচ্ছেন           সত্যি       একেবারে আমাকে ফেরত যাওয়া কোনো কারণ  আমি এই জায়গা অসামান্য প্রশ্ন আছে ব্যবহৃত জানি না  এবং এখন শুধু এই মাঝারি কাপড় ভজনা এবং মালকড়ি  বা কি মধ্যে        করা হয়         বেশ হতাশ এবং আমি এমনকি এক পরিশোধ ছিল না     \n",
            " 0\n"
          ]
        }
      ]
    },
    {
      "cell_type": "code",
      "source": [
        "for i in list(np.random.randint(1,len(testset),10)):\n",
        "  print(testset['cleaned'][i])"
      ],
      "metadata": {
        "colab": {
          "base_uri": "https://localhost:8080/"
        },
        "id": "qrgl0bWIYaMl",
        "outputId": "e92c1681-e9a1-4a6b-8bd5-cbd4b88260d0"
      },
      "execution_count": null,
      "outputs": [
        {
          "output_type": "stream",
          "name": "stdout",
          "text": [
            "আমার প্রতিদিন জায়গা থাকা    তাদের পাস্তা প্রেম \n",
            "নেই একটি বিরাট অভিজ্ঞতা গত রাতে          করেন  আমি বলার অপেক্ষা রাখে না যে আমি এখানে    বছরেরও বেশি সময় ধরে খাওয়ার করে থাকেন  যখন এটি টোকিও এক্সপ্রেস ছিল এবং এখন          এই শুরু করার জন্য যাচ্ছি  যখন আমি কাছাকাছি বসবাস করতেন আমি একটি গ্রাহক সাপ্তাহিক ছিল  এখন এটি যে    দিন বা তার আছে         আমরা      প্রায় ডিনার জন্য গিয়েছিলাম এবং এটা উপায় খুব দীর্ঘ অর্ধেক খালি রেস্তোরায় বসে পেতে নেন  আমরা একটি পরিবারের এক সার্ভারের সাথে হয়েছে বন্ধু বা পরিবারের থাকতে হবে যে পাশে উপবিষ্ট ছিল  সে তাদের টেবিলে ক্রমাগত ছিল  আমরা অপেক্ষা করছিল তিনি সেখানে উপস্থিত ছিলেন এবং স্পষ্টত দেখেছি আমাদের সামনে পরিশেষে আমাদের একটি টেবিলে দেখাচ্ছে  আমাদের সার্ভার একটি লোক যে নতুন হয়েছে  তিনি খুবই বিচলিত করলো এবং মেনু জানতাম না ছিল         সুতরাং আমরা আমার জন্য সুশি টাঙানো নকশা বোনা এবং কোরীয় গরুর মাংস এবং তার জন্য একটি        রোল আদেশ দেন  আমি সুশি  কিন্তু না সালাদ এবং স্যুপ পেয়েছিলাম এটি দিয়ে আসে         রোল একটি ডিম রোল পরিণত  সবকিছু একবারে এসে সার্ভার ফেরার করেননি যতক্ষণ না আমরা সম্পন্ন করা হয়      সার্ভারের সাথে পরামর্শ করার পর  তিনি ডিমের রোল এবং আমাদের ড্রিংক গ্রহণ বন্ধ        এটি জন্য আপ করা অনুমিত এর     \n",
            "আপনি ভেজে এর ডেলি এলাকায় একটি ডাইনিং অভিজ্ঞতা খুঁজছেন আপনি রেস্টুরেন্টে নিচে প্রকৃত সাধক বসতে যাচ্ছে ভালো আছেন  চড়ুইভাতি এর  ডাইনিং শৈলী  ডেলি এলাকায় খাদ্য খুব শ্রেষ্ঠ সময়ে নিম্নমানের হয় \n",
            "হাক্কা ঢাকা বাংলাদেশের সবচেয়ে জনপ্রিয়                হয়  সকল খাদ্য আরো মজা ও মসলাযুক্ত হয় \n",
            "খাদ্য সত্যিই ভাল কিন্তু স্থানের মত      এটা ঠিক খুব ঘনবসতিপূর্ণ এর না \n",
            "ভাল খাবার এনওয়াইসি পরিবেশ  বিশেষভাবে খাদ্য উপস্থাপনা  আমি শুধু ভালবাসি                           \n",
            "এই হল সত্য হবার কথা ছিলো এটি    মিনিট গ্রহণ স্বীকার করতে হবে  তারপর অন্য    মিনিট আমাদের খাবার  পেতে     এবং তারা কিছু বিস্মরণ রাখা \n",
            "না চিহ্ন পর্যন্ত  আমরাও খাদ্য বা সার্ভিস সন্তোষজনক ছিল না  উন্নতির প্রয়োজন\n",
            "আপনি কি কখনো লীন কুইজিন মুরগির            আছে  আপনি কি কখনো একটি সুপার আপত্তিকর ভগিনীসংঘ দল  যেখানে সব স্বর্ণকেশী        টেবিল এবং এই ধরনের উপর পানোন্মত্ত ও নৃত্য হয় গিয়েছেন  আপনি কি কখনো সম্পূর্ণভাবে অপেক্ষা করুন এবং বার কর্মীদের দ্বারা উপেক্ষিত যদিও আপনি নিজেকে লাইটার তরল মধ্যে নিয়ন্ত্রণে আনে এবং অগ্নি নিজেকে সেট করেছি করা হয়েছে  আমরা হব  তারপর  আপনি            এর চলেছি            খাদ্য কম  ভাজা মাছ টাকোস ছাড়া  সুতরাং   বড়  না    যখন আমি         এ বাস করত আমি এই একটি কম দামী  কম প্রথাগত          করার জন্য জায়গা হবে  হুমমম     একটি দ্রুত বিয়ার এখানে দখল আমি শুভস্য ঘরে বসে থাকার চাই ছাড়া অন্য         খাওয়া এবং একটি ভগিনীসংঘ দিয়ে আঘাত চলচ্চিত্র ঘড়ি  ক্রিস্টিন এবং পিয়ের কি বলেন  সাধরণ  হ্যাঁ  যে এটি  সাধরণ \n",
            "এটা সত্যিই ভাল স্টিকহাউস আছে  সুন্দর দয়া করে         খুব ভাল  খুব ভালো খাবার\n"
          ]
        }
      ]
    },
    {
      "cell_type": "markdown",
      "metadata": {
        "id": "YM2k9wW_HzH0"
      },
      "source": [
        "# Data Preprocessing\n"
      ]
    },
    {
      "cell_type": "markdown",
      "source": [
        "###Tokenization"
      ],
      "metadata": {
        "id": "nhEbT17mgWEM"
      }
    },
    {
      "cell_type": "code",
      "metadata": {
        "id": "3oodHieOJK20",
        "outputId": "857639f9-04fc-48af-bc5e-0b26b435937c",
        "colab": {
          "base_uri": "https://localhost:8080/"
        }
      },
      "source": [
        "%%time\n",
        "max_words = 120000\n",
        "\n",
        "from keras.preprocessing.text import Tokenizer\n",
        "\n",
        "tokenizer = Tokenizer(num_words = max_words, filters='!\"#$%&()*+,-./:;<=>?@[\\\\]^_`{|}~\\t\\n-', \n",
        "                      split=' ', char_level=False, oov_token=None, document_count=0)\n",
        "\n",
        "tokenizer.fit_on_texts(dataset['cleaned'])"
      ],
      "execution_count": null,
      "outputs": [
        {
          "output_type": "stream",
          "name": "stdout",
          "text": [
            "CPU times: user 392 ms, sys: 2.76 ms, total: 395 ms\n",
            "Wall time: 445 ms\n"
          ]
        }
      ]
    },
    {
      "cell_type": "markdown",
      "metadata": {
        "id": "ETMtFdGM1-HS"
      },
      "source": [
        "### Attributes of Tokenizer\n",
        "1. word_counts: A dictionary of words and their counts.\n",
        "\n",
        "2. word_docs: A dictionary of words and how many documents each appeared in.\n",
        "\n",
        "3. word_index: A dictionary of words and their uniquely assigned integers.\n",
        "\n",
        "4. document_count:An integer count of the total number of documents that were used to fit the Tokenizer.\n",
        "\n",
        "By using these attributes we can find the most frequent words and less frequent words and words that might be useful for our system"
      ]
    },
    {
      "cell_type": "code",
      "metadata": {
        "id": "lzv6GbepMDbj",
        "outputId": "dca36e08-d28b-4989-8f38-9eec392d91cf",
        "colab": {
          "base_uri": "https://localhost:8080/"
        }
      },
      "source": [
        "%%time\n",
        "word_counts = tokenizer.word_counts\n",
        "word_docs = tokenizer.word_docs\n",
        "word_index = tokenizer.word_index\n",
        "document_count = tokenizer.document_count\n",
        "\n",
        "print(len(word_counts))"
      ],
      "execution_count": null,
      "outputs": [
        {
          "output_type": "stream",
          "name": "stdout",
          "text": [
            "13509\n",
            "CPU times: user 452 µs, sys: 0 ns, total: 452 µs\n",
            "Wall time: 406 µs\n"
          ]
        }
      ]
    },
    {
      "cell_type": "code",
      "metadata": {
        "id": "1vsy4dms5XOf",
        "colab": {
          "base_uri": "https://localhost:8080/"
        },
        "outputId": "cf121d01-c5cb-429b-f6fe-ba29b68219ae"
      },
      "source": [
        "# Printing the values to understand their functions\n",
        "def print_func(i, j):\n",
        "    print(i, j)\n",
        "\n",
        "print(\"Words ===> Counts\")\n",
        "k = 0\n",
        "for (i, j) in word_counts.items():\n",
        "        print_func(i, j)\n",
        "        k+=1\n",
        "        if k== 10:\n",
        "          k=0\n",
        "          break\n",
        "\n",
        "print(\"\\nWords ===> Documents\")       \n",
        "for (i, j) in word_docs.items():\n",
        "        print_func(i, j)\n",
        "        k+=1\n",
        "        if k== 10:\n",
        "          k=0\n",
        "          break\n",
        "\n",
        "print(\"\\nWords ===> Index\")\n",
        "for (i, j) in word_index.items():\n",
        "        print_func(i, j)\n",
        "        k+=1\n",
        "        if k== 10:\n",
        "          k=0\n",
        "          break\n",
        "\n",
        "print(\"Total Number of Documents: \", document_count)"
      ],
      "execution_count": null,
      "outputs": [
        {
          "output_type": "stream",
          "name": "stdout",
          "text": [
            "Words ===> Counts\n",
            "মুরগির 387\n",
            "সত্যিই 949\n",
            "মুখরোচক 173\n",
            "হয় 2874\n",
            "আমি 9234\n",
            "এটা 3035\n",
            "পছন্দ 913\n",
            "এবং 7827\n",
            "স্থান 353\n",
            "খুব 1889\n",
            "\n",
            "Words ===> Documents\n",
            "ভিজিট 11\n",
            "সজ্জিত 35\n",
            "হবে 1055\n",
            "মুখরোচক 170\n",
            "আমি 2759\n",
            "হয় 1706\n",
            "এটা 1726\n",
            "আবার 541\n",
            "খুব 1447\n",
            "সত্যিই 779\n",
            "\n",
            "Words ===> Index\n",
            "আমি 1\n",
            "এবং 2\n",
            "ছিল 3\n",
            "একটি 4\n",
            "না 5\n",
            "জন্য 6\n",
            "খাদ্য 7\n",
            "আমার 8\n",
            "এটা 9\n",
            "ভাল 10\n",
            "Total Number of Documents:  6859\n"
          ]
        }
      ]
    },
    {
      "cell_type": "markdown",
      "metadata": {
        "id": "vFc3LGoR_fP6"
      },
      "source": [
        "### Frequency Distribution of Data Length\n",
        "Here frequency of each length will be counted to find out which lenth size is more appropiate at the time of using pad sequences. we all plot this frequency in histogram to get a visual understanding."
      ]
    },
    {
      "cell_type": "code",
      "metadata": {
        "id": "oJPdowxO2djN"
      },
      "source": [
        "Length_frequency = {}\n",
        "\n",
        "for i in range(len(dataset)):\n",
        "     index = len(dataset['cleaned'][i])\n",
        "     Length_frequency[index] = Length_frequency.get(index, 0)+1\n"
      ],
      "execution_count": null,
      "outputs": []
    },
    {
      "cell_type": "code",
      "metadata": {
        "id": "ObYh1_69__sm",
        "outputId": "713fc13b-e72a-439e-fbe2-214cf8720c14",
        "colab": {
          "base_uri": "https://localhost:8080/",
          "height": 312
        }
      },
      "source": [
        "import seaborn as sns\n",
        "\n",
        "plt.bar(list(Length_frequency.keys()), Length_frequency.values(), color ='b')\n",
        "plt.xlim(1, 1024)\n",
        "\n",
        "plt.xlabel('Lenght of the Texts')\n",
        "plt.ylabel('Frequency')\n",
        "plt.title('Length-Frequency Distribution')"
      ],
      "execution_count": null,
      "outputs": [
        {
          "output_type": "execute_result",
          "data": {
            "text/plain": [
              "Text(0.5, 1.0, 'Length-Frequency Distribution')"
            ]
          },
          "metadata": {},
          "execution_count": 21
        },
        {
          "output_type": "display_data",
          "data": {
            "text/plain": [
              "<Figure size 432x288 with 1 Axes>"
            ],
            "image/png": "[encoded data removed]"
          },
          "metadata": {
            "needs_background": "light"
          }
        }
      ]
    },
    {
      "cell_type": "markdown",
      "metadata": {
        "id": "-xM_wOx_AagP"
      },
      "source": [
        "### Encoding Data into Numbers\n",
        "To encode our text into numbers we will use  text_to_word_sequence function from keras."
      ]
    },
    {
      "cell_type": "code",
      "metadata": {
        "id": "LbgdLu9vAGvP",
        "outputId": "9d6e67b9-59f9-4a29-dcbe-10d6a3c9d5bd",
        "colab": {
          "base_uri": "https://localhost:8080/"
        }
      },
      "source": [
        "%%time\n",
        "# Convert string into list of integer indices\n",
        "sequences = tokenizer.texts_to_sequences(dataset['cleaned'])"
      ],
      "execution_count": null,
      "outputs": [
        {
          "output_type": "stream",
          "name": "stdout",
          "text": [
            "CPU times: user 294 ms, sys: 1.43 ms, total: 295 ms\n",
            "Wall time: 298 ms\n"
          ]
        }
      ]
    },
    {
      "cell_type": "code",
      "source": [
        "test_sequences = tokenizer.texts_ to_sequences(testset['cleaned'])"
      ],
      "metadata": {
        "id": "iVchHOIzZaRy"
      },
      "execution_count": null,
      "outputs": []
    },
    {
      "cell_type": "code",
      "metadata": {
        "id": "T1Qvg7bdCL3C",
        "outputId": "4657e007-c789-4e59-9948-5c98ea8700cb",
        "colab": {
          "base_uri": "https://localhost:8080/"
        }
      },
      "source": [
        "word_index = tokenizer.word_index\n",
        "print('Found %s unique tokens.' % len(word_index))\n"
      ],
      "execution_count": null,
      "outputs": [
        {
          "output_type": "stream",
          "name": "stdout",
          "text": [
            "Found 13509 unique tokens.\n"
          ]
        }
      ]
    },
    {
      "cell_type": "markdown",
      "metadata": {
        "id": "81kfSrIqSzsA"
      },
      "source": [
        "### Pad Sequence\n",
        "To make all the texts fo the same length we will use pad sequence from keras to standardize their length.\n",
        "\n",
        "Corpus contain our final processed data and labels contains the labels of associated data."
      ]
    },
    {
      "cell_type": "code",
      "metadata": {
        "id": "CskRP6BES2VF",
        "outputId": "f750c60b-19ba-498d-f589-0441d0d3da06",
        "colab": {
          "base_uri": "https://localhost:8080/"
        }
      },
      "source": [
        "%%time\n",
        "## Before padding length of different training examples \n",
        "mx = len(sequences[0])\n",
        "for x in sequences:\n",
        "  mx =max(mx, len(x))\n",
        "print(\"Maximum Text length\",mx)\n",
        "\n",
        "##We can also determine maxlen by plotting the frequency distribution of the lengths\n",
        "corpus = keras.preprocessing.sequence.pad_sequences(sequences, value=0.0, padding='post', maxlen= 140)\n",
        "## We get the maxlen value from the Length frequency distribution\n",
        "\n",
        "print(corpus[1])\n"
      ],
      "execution_count": null,
      "outputs": [
        {
          "output_type": "stream",
          "name": "stdout",
          "text": [
            "Maximum Text length 802\n",
            "[ 535  235   15   91   45  614  157   39   15 1097   13 1146 1902 3079\n",
            "    4 1446 1672    5  295  262  381  180 2341 3406 1446  111    1  234\n",
            "    4  154 1988   49    9    4  795    3 1554 3814   46    1  322  754\n",
            "    1    2 4347   51   91  535  235   15   91   45  157    5 2846   93\n",
            "    5  108    2    1  425   45 4347  495    5  197  974  109  111   46\n",
            "    1   96 1902    6  120  656   91   17 1446   94  704   55   37    6\n",
            " 2637   15   91    3    5   91  382    3   12   42   14  182   14  954\n",
            " 2847 5036    2  137 1606 1391 2342   51    4   53 5037   45 1446  286\n",
            "   62   10 4348   59 3815   39    5    1   45  454  704  230    5   13\n",
            "   14 2493    4 1446  705   16  742    1  118 2637   52   73  145  223]\n",
            "CPU times: user 55.3 ms, sys: 687 µs, total: 56 ms\n",
            "Wall time: 76.3 ms\n"
          ]
        }
      ]
    },
    {
      "cell_type": "code",
      "source": [
        "test_corpus = keras.preprocessing.sequence.pad_sequences(test_sequences, value=0.0, padding='post', maxlen= 140)"
      ],
      "metadata": {
        "id": "sUKWVPWfaQ1R"
      },
      "execution_count": null,
      "outputs": []
    },
    {
      "cell_type": "code",
      "metadata": {
        "id": "FeEF30RXlzgL",
        "colab": {
          "base_uri": "https://localhost:8080/"
        },
        "outputId": "90cd238a-2d43-42a3-ec6f-9c66bfeabf20"
      },
      "source": [
        "print(\"Shape of the courpus: \", corpus.shape)\n",
        "\n",
        "for i in range(2):\n",
        "    print(dataset['cleaned'][i],\"\\n\",corpus[i])"
      ],
      "execution_count": null,
      "outputs": [
        {
          "output_type": "stream",
          "name": "stdout",
          "text": [
            "Shape of the courpus:  (6859, 140)\n",
            "মুরগির       সত্যিই মুখরোচক হয়  আমি এটা পছন্দ  এবং স্থান খুব ভাল  অনন্য   সজ্জিত             হবে ভিজিট আবার                   \n",
            " [ 103   40  261   11    1    9   43    2  116   19   10  785 1021   22\n",
            " 2207   72    0    0    0    0    0    0    0    0    0    0    0    0\n",
            "    0    0    0    0    0    0    0    0    0    0    0    0    0    0\n",
            "    0    0    0    0    0    0    0    0    0    0    0    0    0    0\n",
            "    0    0    0    0    0    0    0    0    0    0    0    0    0    0\n",
            "    0    0    0    0    0    0    0    0    0    0    0    0    0    0\n",
            "    0    0    0    0    0    0    0    0    0    0    0    0    0    0\n",
            "    0    0    0    0    0    0    0    0    0    0    0    0    0    0\n",
            "    0    0    0    0    0    0    0    0    0    0    0    0    0    0\n",
            "    0    0    0    0    0    0    0    0    0    0    0    0    0    0]\n",
            "একটি ম্যাসেজ থেরাপিস্ট যারা ব্যাখ্যা করেছেন যে সে তার হাত ব্যবহার করে যে কোনও কিন্তু হালকা চাপ জড়িত একটি ম্যাসেজ যেত না   গত    বছর ধরে কয়েক শত পেশাদার ম্যাসেজ পর  আমি আজ একটি প্রথম সম্মুখীন হয়েছে  এটা একটি বিষয় ছিল  অঙ্গুষ্ঠ রক্ষা   যখন আমি তাকে জানান আমি          এবং ছেঁড়াখোঁড়া মত  সে ব্যাখ্যা করেছেন যে সে তার          ব্যবহার না করেই কাজ না চাই  এবং  আমি অনুমান  তার ছেঁড়াখোঁড়া  অত্যধিক  না  মাত্র পাঁচ মিনিট পর  যখন আমি আরো চাপ জন্য জিজ্ঞাসা করলেন  সে আমরা ম্যাসেজ বন্ধ প্রস্তাব       আমাকে  এর জন্য থেরাপিস্ট  যে সে ছিল না সে সঠিক ছিল  তারা কি এই দিন এই ব্যক্তিদের শিক্ষা দিচ্ছে এবং কেন সারা জীবনের ফিটনেস মত একটি চমৎকার সাজসরঞ্জাম তার ম্যাসেজ কর্মীদের মধ্যে ভাল দক্ষতার উপর জিদ করে না  আমি তার নাম প্রস্তাব করবে না  কিন্তু  এই সংস্থার একটি ম্যাসেজ বিবেচনা করা হলে  আমি শুধুমাত্র থেরাপিস্ট এখানে মূল্য টাকা       সুপারিশ  \n",
            " [ 535  235   15   91   45  614  157   39   15 1097   13 1146 1902 3079\n",
            "    4 1446 1672    5  295  262  381  180 2341 3406 1446  111    1  234\n",
            "    4  154 1988   49    9    4  795    3 1554 3814   46    1  322  754\n",
            "    1    2 4347   51   91  535  235   15   91   45  157    5 2846   93\n",
            "    5  108    2    1  425   45 4347  495    5  197  974  109  111   46\n",
            "    1   96 1902    6  120  656   91   17 1446   94  704   55   37    6\n",
            " 2637   15   91    3    5   91  382    3   12   42   14  182   14  954\n",
            " 2847 5036    2  137 1606 1391 2342   51    4   53 5037   45 1446  286\n",
            "   62   10 4348   59 3815   39    5    1   45  454  704  230    5   13\n",
            "   14 2493    4 1446  705   16  742    1  118 2637   52   73  145  223]\n"
          ]
        }
      ]
    },
    {
      "cell_type": "markdown",
      "metadata": {
        "id": "ASUG83vgUJLV"
      },
      "source": [
        "## Creating Train, Test and Validation set\n"
      ]
    },
    {
      "cell_type": "code",
      "source": [
        "#X_train,X_test,y_train,y_test = train_test_split(corpus,dataset['Sentiment'],test_size = 0.2, random_state = 0)\n",
        "X_train, y_train = corpus, dataset[\"Sentiment\"]\n",
        "X_test = test_corpus\n",
        "\n",
        "print(\"Training Size: \",X_train.shape)\n",
        "print(\"Test Size: \",X_test.shape)"
      ],
      "metadata": {
        "colab": {
          "base_uri": "https://localhost:8080/"
        },
        "id": "rc7GLijS-WeN",
        "outputId": "0eea5625-c163-4fd0-d9ed-09973f800f28"
      },
      "execution_count": null,
      "outputs": [
        {
          "output_type": "stream",
          "name": "stdout",
          "text": [
            "Training Size:  (6859, 140)\n",
            "Test Size:  (1715, 140)\n"
          ]
        }
      ]
    },
    {
      "cell_type": "markdown",
      "metadata": {
        "id": "pEeqaUeQyemO"
      },
      "source": [
        "## Single Layer LSTM with Keras Embedding\n"
      ]
    },
    {
      "cell_type": "code",
      "source": [
        "# Keras Functional API\n",
        "\n",
        "import tensorflow as tf\n",
        "from tensorflow import keras\n",
        "from keras.layers import Input, Dense, Activation, Dropout,Flatten,Embedding\n",
        "from keras.layers import Conv1D,MaxPooling1D,GlobalAveragePooling1D, Bidirectional, LSTM, GRU\n",
        "from keras.models import Model\n",
        "from tensorflow.keras.optimizers import Adam,SGD,Nadam,RMSprop\n",
        "from tensorflow.keras.models import load_model"
      ],
      "metadata": {
        "id": "y75Kki_tJM2_"
      },
      "execution_count": null,
      "outputs": []
    },
    {
      "cell_type": "code",
      "metadata": {
        "outputId": "c6fd8a43-8637-49df-ba2f-b397e701c76c",
        "colab": {
          "base_uri": "https://localhost:8080/"
        },
        "id": "GYoG2xa1Q812"
      },
      "source": [
        "keras.backend.clear_session()\n",
        "\n",
        "max_length = 140\n",
        "embedding_dim = 64\n",
        "number_of_classes = len(dataset['Sentiment'].unique())\n",
        "\n",
        "# define bilstm model\n",
        "\n",
        "def lstm():\n",
        "\n",
        "\n",
        "   ###### BiLSTM Model #######\n",
        "  bi_text_inputs = Input(shape=(max_length,))\n",
        "  bi_embedding_layer = Embedding(max_words,embedding_dim)(bi_text_inputs)\n",
        "  LSTM_Layer_1 = Bidirectional(LSTM(32))(bi_embedding_layer)\n",
        "  # LSTM_Layer_2 = Bidirectional(LSTM(64))(LSTM_Layer_1)\n",
        "  bi_dense_layer_1 = Dense(32, activation='relu')(LSTM_Layer_1)\n",
        "  bi_dense_layer_2 = Dense(1, activation='sigmoid')(bi_dense_layer_1)\n",
        "  bilstm_model = Model(inputs=bi_text_inputs, outputs=bi_dense_layer_2)\n",
        "\n",
        "\n",
        "  return bilstm_model\n",
        "\n",
        "# call the model\n",
        "lstm_model = lstm()\n",
        "\n",
        "lstm_model.summary()"
      ],
      "execution_count": null,
      "outputs": [
        {
          "output_type": "stream",
          "name": "stdout",
          "text": [
            "Model: \"model\"\n",
            "_________________________________________________________________\n",
            " Layer (type)                Output Shape              Param #   \n",
            "=================================================================\n",
            " input_1 (InputLayer)        [(None, 140)]             0         \n",
            "                                                                 \n",
            " embedding (Embedding)       (None, 140, 64)           7680000   \n",
            "                                                                 \n",
            " bidirectional (Bidirectiona  (None, 64)               24832     \n",
            " l)                                                              \n",
            "                                                                 \n",
            " dense (Dense)               (None, 32)                2080      \n",
            "                                                                 \n",
            " dense_1 (Dense)             (None, 1)                 33        \n",
            "                                                                 \n",
            "=================================================================\n",
            "Total params: 7,706,945\n",
            "Trainable params: 7,706,945\n",
            "Non-trainable params: 0\n",
            "_________________________________________________________________\n"
          ]
        }
      ]
    },
    {
      "cell_type": "code",
      "metadata": {
        "id": "OYeCNPk6Q813"
      },
      "source": [
        "lstm_model.compile(optimizer = 'adam',\n",
        "                      loss = 'binary_crossentropy',\n",
        "                      metrics =['accuracy'])"
      ],
      "execution_count": null,
      "outputs": []
    },
    {
      "cell_type": "code",
      "metadata": {
        "outputId": "f5a6c47a-dc8d-461c-fc8c-2060736e364d",
        "colab": {
          "base_uri": "https://localhost:8080/"
        },
        "id": "jiaomGWEQ813"
      },
      "source": [
        "%%time\n",
        "history = lstm_model.fit(X_train,\n",
        "                              y_train,\n",
        "                              epochs = 20,\n",
        "                              batch_size = 32,\n",
        "                              verbose = 1,\n",
        "                              validation_split =0.1)"
      ],
      "execution_count": null,
      "outputs": [
        {
          "output_type": "stream",
          "name": "stdout",
          "text": [
            "Epoch 1/20\n",
            "193/193 [==============================] - 40s 149ms/step - loss: 0.4356 - accuracy: 0.7894 - val_loss: 0.3149 - val_accuracy: 0.8717\n",
            "Epoch 2/20\n",
            "193/193 [==============================] - 19s 100ms/step - loss: 0.2173 - accuracy: 0.9239 - val_loss: 0.3400 - val_accuracy: 0.8644\n",
            "Epoch 3/20\n",
            "193/193 [==============================] - 11s 59ms/step - loss: 0.1465 - accuracy: 0.9546 - val_loss: 0.3693 - val_accuracy: 0.8673\n",
            "Epoch 4/20\n",
            "193/193 [==============================] - 13s 67ms/step - loss: 0.1106 - accuracy: 0.9644 - val_loss: 0.4091 - val_accuracy: 0.8528\n",
            "Epoch 5/20\n",
            "193/193 [==============================] - 8s 43ms/step - loss: 0.0845 - accuracy: 0.9742 - val_loss: 0.4943 - val_accuracy: 0.8586\n",
            "Epoch 6/20\n",
            "193/193 [==============================] - 6s 29ms/step - loss: 0.0654 - accuracy: 0.9814 - val_loss: 0.5246 - val_accuracy: 0.8528\n",
            "Epoch 7/20\n",
            "193/193 [==============================] - 4s 23ms/step - loss: 0.0780 - accuracy: 0.9786 - val_loss: 0.3835 - val_accuracy: 0.8630\n",
            "Epoch 8/20\n",
            "193/193 [==============================] - 7s 36ms/step - loss: 0.0645 - accuracy: 0.9796 - val_loss: 0.6064 - val_accuracy: 0.8630\n",
            "Epoch 9/20\n",
            "193/193 [==============================] - 6s 33ms/step - loss: 0.0431 - accuracy: 0.9880 - val_loss: 0.6484 - val_accuracy: 0.8499\n",
            "Epoch 10/20\n",
            "193/193 [==============================] - 6s 33ms/step - loss: 0.0331 - accuracy: 0.9917 - val_loss: 0.6656 - val_accuracy: 0.8571\n",
            "Epoch 11/20\n",
            "193/193 [==============================] - 4s 21ms/step - loss: 0.0309 - accuracy: 0.9925 - val_loss: 0.6719 - val_accuracy: 0.8513\n",
            "Epoch 12/20\n",
            "193/193 [==============================] - 4s 23ms/step - loss: 0.0253 - accuracy: 0.9943 - val_loss: 0.7651 - val_accuracy: 0.8586\n",
            "Epoch 13/20\n",
            "193/193 [==============================] - 5s 24ms/step - loss: 0.0289 - accuracy: 0.9935 - val_loss: 0.6754 - val_accuracy: 0.8411\n",
            "Epoch 14/20\n",
            "193/193 [==============================] - 4s 20ms/step - loss: 0.0278 - accuracy: 0.9924 - val_loss: 0.7064 - val_accuracy: 0.8513\n",
            "Epoch 15/20\n",
            "193/193 [==============================] - 3s 17ms/step - loss: 0.0229 - accuracy: 0.9945 - val_loss: 0.7925 - val_accuracy: 0.8557\n",
            "Epoch 16/20\n",
            "193/193 [==============================] - 4s 20ms/step - loss: 0.0138 - accuracy: 0.9971 - val_loss: 0.7883 - val_accuracy: 0.8557\n",
            "Epoch 17/20\n",
            "193/193 [==============================] - 3s 16ms/step - loss: 0.0130 - accuracy: 0.9972 - val_loss: 0.8433 - val_accuracy: 0.8440\n",
            "Epoch 18/20\n",
            "193/193 [==============================] - 4s 19ms/step - loss: 0.0125 - accuracy: 0.9976 - val_loss: 0.8897 - val_accuracy: 0.8542\n",
            "Epoch 19/20\n",
            "193/193 [==============================] - 5s 25ms/step - loss: 0.0098 - accuracy: 0.9981 - val_loss: 0.9205 - val_accuracy: 0.8557\n",
            "Epoch 20/20\n",
            "193/193 [==============================] - 4s 20ms/step - loss: 0.0092 - accuracy: 0.9982 - val_loss: 0.9577 - val_accuracy: 0.8499\n",
            "CPU times: user 2min 6s, sys: 4.78 s, total: 2min 10s\n",
            "Wall time: 3min 27s\n"
          ]
        }
      ]
    },
    {
      "cell_type": "markdown",
      "metadata": {
        "id": "7GikWSYEQ814"
      },
      "source": [
        "#### Plotting accuracy and loss graphs\n",
        "\n",
        "Finaly loss and accuracy graph is plotted to take some important decision such as after how many epochs our model starts to overfit, what batch size give us better result, whether we need to get more data or not."
      ]
    },
    {
      "cell_type": "code",
      "metadata": {
        "outputId": "73195582-566e-48e2-ce2f-0dc7259a22d4",
        "colab": {
          "base_uri": "https://localhost:8080/"
        },
        "id": "qdJjD5oDQ814"
      },
      "source": [
        "history_dict = history.history\n",
        "history_dict.keys()"
      ],
      "execution_count": null,
      "outputs": [
        {
          "output_type": "execute_result",
          "data": {
            "text/plain": [
              "dict_keys(['loss', 'accuracy', 'val_loss', 'val_accuracy'])"
            ]
          },
          "metadata": {},
          "execution_count": 37
        }
      ]
    },
    {
      "cell_type": "code",
      "metadata": {
        "outputId": "ac1a0507-5946-4701-a667-99af7f85d12c",
        "colab": {
          "base_uri": "https://localhost:8080/",
          "height": 295
        },
        "id": "-qVmK5nSQ814"
      },
      "source": [
        "import matplotlib.pyplot as plt\n",
        "\n",
        "acc = history_dict['accuracy']\n",
        "val_acc = history_dict['val_accuracy']\n",
        "\n",
        "loss = history_dict['loss']\n",
        "val_loss = history_dict['val_loss']\n",
        "\n",
        "epochs = range(1, len(acc)+1)\n",
        "\n",
        "plt.plot(epochs, loss, 'r-', label='Training Loss')\n",
        "plt.plot(epochs, val_loss, 'g', label = 'Validation Loss')\n",
        "plt.title('Training and Validation loss')\n",
        "plt.legend()\n",
        "plt.xlabel('epochs')\n",
        "plt.ylabel('loss')\n",
        "plt.show()"
      ],
      "execution_count": null,
      "outputs": [
        {
          "output_type": "display_data",
          "data": {
            "text/plain": [
              "<Figure size 432x288 with 1 Axes>"
            ],
            "image/png": "[encoded data removed]"
          },
          "metadata": {
            "needs_background": "light"
          }
        }
      ]
    },
    {
      "cell_type": "code",
      "metadata": {
        "outputId": "32aaac1a-f336-4633-ef9e-b4a67856ba81",
        "colab": {
          "base_uri": "https://localhost:8080/",
          "height": 312
        },
        "id": "UZKEzlyEQ815"
      },
      "source": [
        "plt.clf()   # clear figure\n",
        "\n",
        "plt.plot(epochs, acc, 'y', label='Training acc')\n",
        "plt.plot(epochs, val_acc, 'b', label='Validation acc')\n",
        "plt.title('Training and validation accuracy')\n",
        "plt.xlabel('Epochs')\n",
        "plt.ylabel('Accuracy')\n",
        "plt.legend()\n"
      ],
      "execution_count": null,
      "outputs": [
        {
          "output_type": "execute_result",
          "data": {
            "text/plain": [
              "<matplotlib.legend.Legend at 0x7f86e0fe5d90>"
            ]
          },
          "metadata": {},
          "execution_count": 39
        },
        {
          "output_type": "display_data",
          "data": {
            "text/plain": [
              "<Figure size 432x288 with 1 Axes>"
            ],
            "image/png": "[encoded data removed]"
          },
          "metadata": {
            "needs_background": "light"
          }
        }
      ]
    },
    {
      "cell_type": "code",
      "metadata": {
        "id": "o8SJR_DqQ815",
        "outputId": "d271db05-7e25-410b-f747-1a16244d9fda",
        "colab": {
          "base_uri": "https://localhost:8080/"
        }
      },
      "source": [
        "y_pred = lstm_model.predict(X_test)\n",
        "y_pred = (y_pred>0.5).astype('int')\n",
        "y_pred"
      ],
      "execution_count": null,
      "outputs": [
        {
          "output_type": "stream",
          "name": "stdout",
          "text": [
            "54/54 [==============================] - 1s 7ms/step\n"
          ]
        },
        {
          "output_type": "execute_result",
          "data": {
            "text/plain": [
              "array([[0],\n",
              "       [1],\n",
              "       [1],\n",
              "       ...,\n",
              "       [1],\n",
              "       [1],\n",
              "       [1]])"
            ]
          },
          "metadata": {},
          "execution_count": 40
        }
      ]
    },
    {
      "cell_type": "markdown",
      "source": [
        "###Performance "
      ],
      "metadata": {
        "id": "OKQ9GnUcVm_H"
      }
    },
    {
      "cell_type": "code",
      "source": [
        "#print(classification_report(y_test,y_pred))"
      ],
      "metadata": {
        "id": "8vg1GKT8VOnG"
      },
      "execution_count": null,
      "outputs": []
    },
    {
      "cell_type": "code",
      "source": [
        "#confusion_matrix(y_test,y_pred)"
      ],
      "metadata": {
        "id": "w94M9j2oVV_Z"
      },
      "execution_count": null,
      "outputs": []
    },
    {
      "cell_type": "markdown",
      "metadata": {
        "id": "NdG7oqhdxWIM"
      },
      "source": [
        "# Stacked LSTM\n",
        "\n",
        "\n"
      ]
    },
    {
      "cell_type": "markdown",
      "source": [
        "###Checkpoint"
      ],
      "metadata": {
        "id": "Xd4hpbq3YMpx"
      }
    },
    {
      "cell_type": "code",
      "source": [
        "''' Callbacks with Checkpoint'''\n",
        "\n",
        "accuracy_threshold = 0.99\n",
        "\n",
        "class myCallback(keras.callbacks.Callback):\n",
        "  def on_epoch_end(self, epoch, logs={}):\n",
        "      if(logs.get('accuracy')>accuracy_threshold):\n",
        "        print(\"\\nReached %2.2f%% accuracy so we will stop trianing\" % (accuracy_threshold*100))\n",
        "        self.model.stop_training = True\n",
        "\n",
        "acc_callback = myCallback()\n",
        "  # Saved the Best Model\n",
        "filepath = \"mymodel.h5\"\n",
        "checkpoint = keras.callbacks.ModelCheckpoint(filepath, \n",
        "                                             monitor='val_accuracy', \n",
        "                                             verbose=2,\n",
        "                                             save_best_only=True, \n",
        "                                             save_weights_only=False,\n",
        "                                             mode='max')\n",
        "  # callback list\n",
        "callback_list = [acc_callback, checkpoint] \n"
      ],
      "metadata": {
        "id": "ICHqDfEpYOnx"
      },
      "execution_count": null,
      "outputs": []
    },
    {
      "cell_type": "code",
      "metadata": {
        "outputId": "a13ee8c4-5e29-45a2-d074-db622c5ea8fb",
        "colab": {
          "base_uri": "https://localhost:8080/"
        },
        "id": "CJEzf25E-u8o"
      },
      "source": [
        "keras.backend.clear_session()\n",
        "\n",
        "max_length = 140\n",
        "embedding_dim = 64\n",
        "number_of_classes = len(dataset['Sentiment'].unique())\n",
        "\n",
        "# define bilstm model\n",
        "\n",
        "def stacked_lstm():\n",
        "\n",
        "\n",
        "   ###### BiLSTM Model #######\n",
        "  bi_text_inputs = Input(shape=(max_length,))\n",
        "  bi_embedding_layer = Embedding(max_words,embedding_dim)(bi_text_inputs)\n",
        "  LSTM_Layer_1 = Bidirectional(LSTM(32,return_sequences = True))(bi_embedding_layer)\n",
        "  LSTM_Layer_2 = Bidirectional(LSTM(16, return_sequences = True))(LSTM_Layer_1)\n",
        "  LSTM_Layer_3 = Bidirectional(LSTM(8))(LSTM_Layer_2)\n",
        "  bi_dense_layer_1 = Dense(1, activation='sigmoid')(LSTM_Layer_3)\n",
        "  bilstm_model = Model(inputs=bi_text_inputs, outputs=bi_dense_layer_1)\n",
        "\n",
        "\n",
        "  return bilstm_model\n",
        "\n",
        "# call the model\n",
        "stacked_lstm_model = stacked_lstm()\n",
        "\n",
        "stacked_lstm_model.summary()"
      ],
      "execution_count": null,
      "outputs": [
        {
          "output_type": "stream",
          "name": "stdout",
          "text": [
            "Model: \"model\"\n",
            "_________________________________________________________________\n",
            " Layer (type)                Output Shape              Param #   \n",
            "=================================================================\n",
            " input_1 (InputLayer)        [(None, 140)]             0         \n",
            "                                                                 \n",
            " embedding (Embedding)       (None, 140, 64)           7680000   \n",
            "                                                                 \n",
            " bidirectional (Bidirectiona  (None, 140, 64)          24832     \n",
            " l)                                                              \n",
            "                                                                 \n",
            " bidirectional_1 (Bidirectio  (None, 140, 32)          10368     \n",
            " nal)                                                            \n",
            "                                                                 \n",
            " bidirectional_2 (Bidirectio  (None, 16)               2624      \n",
            " nal)                                                            \n",
            "                                                                 \n",
            " dense (Dense)               (None, 1)                 17        \n",
            "                                                                 \n",
            "=================================================================\n",
            "Total params: 7,717,841\n",
            "Trainable params: 7,717,841\n",
            "Non-trainable params: 0\n",
            "_________________________________________________________________\n"
          ]
        }
      ]
    },
    {
      "cell_type": "code",
      "metadata": {
        "id": "dpQtDPlP-u8r"
      },
      "source": [
        "stacked_lstm_model.compile(optimizer = 'adam',\n",
        "                      loss = 'binary_crossentropy',\n",
        "                      metrics =['accuracy'])"
      ],
      "execution_count": null,
      "outputs": []
    },
    {
      "cell_type": "code",
      "metadata": {
        "outputId": "a54cab44-291d-4c0e-c15b-d65ae3e082fc",
        "colab": {
          "base_uri": "https://localhost:8080/"
        },
        "id": "jZv45WN6-u8s"
      },
      "source": [
        "%%time\n",
        "history = stacked_lstm_model.fit(X_train,\n",
        "                              y_train,\n",
        "                              epochs = 20,\n",
        "                              batch_size = 32,\n",
        "                              verbose = 1,\n",
        "                              validation_split =0.1,\n",
        "                              callbacks = callback_list)"
      ],
      "execution_count": null,
      "outputs": [
        {
          "output_type": "stream",
          "name": "stdout",
          "text": [
            "Epoch 1/20\n",
            "192/193 [============================>.] - ETA: 0s - loss: 0.4313 - accuracy: 0.8044\n",
            "Epoch 1: val_accuracy improved from -inf to 0.87609, saving model to mymodel.h5\n",
            "193/193 [==============================] - 36s 129ms/step - loss: 0.4303 - accuracy: 0.8051 - val_loss: 0.3237 - val_accuracy: 0.8761\n",
            "Epoch 2/20\n",
            "193/193 [==============================] - ETA: 0s - loss: 0.2511 - accuracy: 0.9167\n",
            "Epoch 2: val_accuracy did not improve from 0.87609\n",
            "193/193 [==============================] - 18s 91ms/step - loss: 0.2511 - accuracy: 0.9167 - val_loss: 0.3413 - val_accuracy: 0.8717\n",
            "Epoch 3/20\n",
            "192/193 [============================>.] - ETA: 0s - loss: 0.1875 - accuracy: 0.9437\n",
            "Epoch 3: val_accuracy did not improve from 0.87609\n",
            "193/193 [==============================] - 13s 65ms/step - loss: 0.1871 - accuracy: 0.9438 - val_loss: 0.3595 - val_accuracy: 0.8630\n",
            "Epoch 4/20\n",
            "193/193 [==============================] - ETA: 0s - loss: 0.1686 - accuracy: 0.9495\n",
            "Epoch 4: val_accuracy did not improve from 0.87609\n",
            "193/193 [==============================] - 10s 49ms/step - loss: 0.1686 - accuracy: 0.9495 - val_loss: 0.3910 - val_accuracy: 0.8688\n",
            "Epoch 5/20\n",
            "193/193 [==============================] - ETA: 0s - loss: 0.1380 - accuracy: 0.9611\n",
            "Epoch 5: val_accuracy did not improve from 0.87609\n",
            "193/193 [==============================] - 9s 47ms/step - loss: 0.1380 - accuracy: 0.9611 - val_loss: 0.4122 - val_accuracy: 0.8732\n",
            "Epoch 6/20\n",
            "192/193 [============================>.] - ETA: 0s - loss: 0.1033 - accuracy: 0.9751\n",
            "Epoch 6: val_accuracy did not improve from 0.87609\n",
            "193/193 [==============================] - 9s 45ms/step - loss: 0.1049 - accuracy: 0.9746 - val_loss: 0.4429 - val_accuracy: 0.8717\n",
            "Epoch 7/20\n",
            "192/193 [============================>.] - ETA: 0s - loss: 0.0903 - accuracy: 0.9779\n",
            "Epoch 7: val_accuracy improved from 0.87609 to 0.87755, saving model to mymodel.h5\n",
            "193/193 [==============================] - 9s 46ms/step - loss: 0.0899 - accuracy: 0.9780 - val_loss: 0.4238 - val_accuracy: 0.8776\n",
            "Epoch 8/20\n",
            "193/193 [==============================] - ETA: 0s - loss: 0.0811 - accuracy: 0.9806\n",
            "Epoch 8: val_accuracy did not improve from 0.87755\n",
            "193/193 [==============================] - 7s 36ms/step - loss: 0.0811 - accuracy: 0.9806 - val_loss: 0.4400 - val_accuracy: 0.8717\n",
            "Epoch 9/20\n",
            "192/193 [============================>.] - ETA: 0s - loss: 0.0734 - accuracy: 0.9831\n",
            "Epoch 9: val_accuracy did not improve from 0.87755\n",
            "193/193 [==============================] - 7s 38ms/step - loss: 0.0732 - accuracy: 0.9832 - val_loss: 0.4755 - val_accuracy: 0.8644\n",
            "Epoch 10/20\n",
            "192/193 [============================>.] - ETA: 0s - loss: 0.0664 - accuracy: 0.9850\n",
            "Epoch 10: val_accuracy did not improve from 0.87755\n",
            "193/193 [==============================] - 6s 33ms/step - loss: 0.0662 - accuracy: 0.9851 - val_loss: 0.4901 - val_accuracy: 0.8601\n",
            "Epoch 11/20\n",
            "193/193 [==============================] - ETA: 0s - loss: 0.0688 - accuracy: 0.9840\n",
            "Epoch 11: val_accuracy did not improve from 0.87755\n",
            "193/193 [==============================] - 7s 38ms/step - loss: 0.0688 - accuracy: 0.9840 - val_loss: 0.5264 - val_accuracy: 0.8542\n",
            "Epoch 12/20\n",
            "193/193 [==============================] - ETA: 0s - loss: 0.0643 - accuracy: 0.9840\n",
            "Epoch 12: val_accuracy did not improve from 0.87755\n",
            "193/193 [==============================] - 7s 37ms/step - loss: 0.0643 - accuracy: 0.9840 - val_loss: 0.5255 - val_accuracy: 0.8630\n",
            "Epoch 13/20\n",
            "193/193 [==============================] - ETA: 0s - loss: 0.0558 - accuracy: 0.9877\n",
            "Epoch 13: val_accuracy did not improve from 0.87755\n",
            "193/193 [==============================] - 7s 36ms/step - loss: 0.0558 - accuracy: 0.9877 - val_loss: 0.5372 - val_accuracy: 0.8557\n",
            "Epoch 14/20\n",
            "192/193 [============================>.] - ETA: 0s - loss: 0.0477 - accuracy: 0.9886\n",
            "Epoch 14: val_accuracy did not improve from 0.87755\n",
            "193/193 [==============================] - 7s 37ms/step - loss: 0.0483 - accuracy: 0.9885 - val_loss: 0.5468 - val_accuracy: 0.8557\n",
            "Epoch 15/20\n",
            "193/193 [==============================] - ETA: 0s - loss: 0.0490 - accuracy: 0.9875\n",
            "Epoch 15: val_accuracy did not improve from 0.87755\n",
            "193/193 [==============================] - 6s 31ms/step - loss: 0.0490 - accuracy: 0.9875 - val_loss: 0.5089 - val_accuracy: 0.8673\n",
            "Epoch 16/20\n",
            "192/193 [============================>.] - ETA: 0s - loss: 0.0466 - accuracy: 0.9873\n",
            "Epoch 16: val_accuracy did not improve from 0.87755\n",
            "193/193 [==============================] - 7s 36ms/step - loss: 0.0465 - accuracy: 0.9874 - val_loss: 0.6114 - val_accuracy: 0.8367\n",
            "Epoch 17/20\n",
            "193/193 [==============================] - ETA: 0s - loss: 0.0361 - accuracy: 0.9919\n",
            "Reached 99.00% accuracy so we will stop trianing\n",
            "\n",
            "Epoch 17: val_accuracy did not improve from 0.87755\n",
            "193/193 [==============================] - 6s 32ms/step - loss: 0.0361 - accuracy: 0.9919 - val_loss: 0.5776 - val_accuracy: 0.8557\n",
            "CPU times: user 2min 59s, sys: 8.09 s, total: 3min 7s\n",
            "Wall time: 2min 50s\n"
          ]
        }
      ]
    },
    {
      "cell_type": "code",
      "metadata": {
        "id": "SspQFcjk__M7",
        "outputId": "e9696d78-7c4c-4987-843f-eb7c56bae2bd",
        "colab": {
          "base_uri": "https://localhost:8080/"
        }
      },
      "source": [
        "y_pred = stacked_lstm_model.predict(X_test)\n",
        "y_pred = (y_pred>0.5).astype('int')\n",
        "y_pred"
      ],
      "execution_count": null,
      "outputs": [
        {
          "output_type": "stream",
          "name": "stdout",
          "text": [
            "54/54 [==============================] - 3s 13ms/step\n"
          ]
        },
        {
          "output_type": "execute_result",
          "data": {
            "text/plain": [
              "array([[0],\n",
              "       [0],\n",
              "       [1],\n",
              "       ...,\n",
              "       [0],\n",
              "       [0],\n",
              "       [1]])"
            ]
          },
          "metadata": {},
          "execution_count": 45
        }
      ]
    },
    {
      "cell_type": "markdown",
      "source": [
        "###Performance "
      ],
      "metadata": {
        "id": "rqCeQ3oP__M8"
      }
    },
    {
      "cell_type": "code",
      "source": [
        "#print(classification_report(y_test,y_pred))"
      ],
      "metadata": {
        "colab": {
          "base_uri": "https://localhost:8080/"
        },
        "outputId": "934a6e24-3498-442e-eadd-38d8331a0067",
        "id": "1Zo8PewH__M9"
      },
      "execution_count": null,
      "outputs": [
        {
          "output_type": "stream",
          "name": "stdout",
          "text": [
            "              precision    recall  f1-score   support\n",
            "\n",
            "           0       0.87      0.83      0.85       595\n",
            "           1       0.88      0.90      0.89       777\n",
            "\n",
            "    accuracy                           0.87      1372\n",
            "   macro avg       0.87      0.87      0.87      1372\n",
            "weighted avg       0.87      0.87      0.87      1372\n",
            "\n"
          ]
        }
      ]
    },
    {
      "cell_type": "code",
      "source": [
        "#confusion_matrix(y_test,y_pred)"
      ],
      "metadata": {
        "colab": {
          "base_uri": "https://localhost:8080/"
        },
        "outputId": "6033ed54-6141-4fda-be79-34d673812489",
        "id": "jkC3o9xy__M9"
      },
      "execution_count": null,
      "outputs": [
        {
          "output_type": "execute_result",
          "data": {
            "text/plain": [
              "array([[496,  99],\n",
              "       [ 76, 701]])"
            ]
          },
          "metadata": {},
          "execution_count": 63
        }
      ]
    },
    {
      "cell_type": "markdown",
      "source": [
        "# BiLSTM + CNN"
      ],
      "metadata": {
        "id": "1GLWpt4WIp8z"
      }
    },
    {
      "cell_type": "code",
      "source": [
        "keras.backend.clear_session()\n",
        "\n",
        "max_length = 140\n",
        "embedding_dim = 64\n",
        "number_of_classes = len(dataset['Sentiment'].unique())\n",
        "\n",
        "# define bilstm + Cnn model\n",
        "\n",
        "def lstm_cnn():\n",
        "\n",
        "\n",
        "  lc_text_inputs = Input(shape=(max_length,))\n",
        "  lc_embedding_layer = Embedding(max_words,embedding_dim)(lc_text_inputs)\n",
        "  LSTM_Layer_1 = Bidirectional(LSTM(32,return_sequences=True))(lc_embedding_layer)\n",
        "  LSTM_Layer_2 = Bidirectional(LSTM(16,return_sequences=True))(LSTM_Layer_1)\n",
        "  lc_conv1 = Conv1D(32,2,activation='relu')(LSTM_Layer_2)\n",
        "  lc_pool1 = MaxPooling1D(2)(lc_conv1)\n",
        "  lc_conv2 = Conv1D(64,2,activation='relu')(lc_pool1)\n",
        "  lc_pool2 = MaxPooling1D(2)(lc_conv2)\n",
        "  lc_flat = Flatten()(lc_pool2)\n",
        "  lc_dense_layer_1 = Dense(1, activation='sigmoid')(lc_flat)\n",
        "  cnn_lstm_model = Model(inputs=lc_text_inputs, outputs=lc_dense_layer_1)\n",
        "\n",
        "\n",
        "  return cnn_lstm_model\n",
        "\n",
        "# call the model\n",
        "lstm_cnn_model = lstm_cnn()\n",
        "\n",
        "lstm_cnn_model.summary()"
      ],
      "metadata": {
        "colab": {
          "base_uri": "https://localhost:8080/"
        },
        "id": "yAdOa6unIs-A",
        "outputId": "a0a878fc-23d7-4ff3-ac5b-a1be8d0d6e41"
      },
      "execution_count": null,
      "outputs": [
        {
          "output_type": "stream",
          "name": "stdout",
          "text": [
            "Model: \"model\"\n",
            "_________________________________________________________________\n",
            " Layer (type)                Output Shape              Param #   \n",
            "=================================================================\n",
            " input_1 (InputLayer)        [(None, 140)]             0         \n",
            "                                                                 \n",
            " embedding (Embedding)       (None, 140, 64)           7680000   \n",
            "                                                                 \n",
            " bidirectional (Bidirectiona  (None, 140, 64)          24832     \n",
            " l)                                                              \n",
            "                                                                 \n",
            " bidirectional_1 (Bidirectio  (None, 140, 32)          10368     \n",
            " nal)                                                            \n",
            "                                                                 \n",
            " conv1d (Conv1D)             (None, 139, 32)           2080      \n",
            "                                                                 \n",
            " max_pooling1d (MaxPooling1D  (None, 69, 32)           0         \n",
            " )                                                               \n",
            "                                                                 \n",
            " conv1d_1 (Conv1D)           (None, 68, 64)            4160      \n",
            "                                                                 \n",
            " max_pooling1d_1 (MaxPooling  (None, 34, 64)           0         \n",
            " 1D)                                                             \n",
            "                                                                 \n",
            " flatten (Flatten)           (None, 2176)              0         \n",
            "                                                                 \n",
            " dense (Dense)               (None, 1)                 2177      \n",
            "                                                                 \n",
            "=================================================================\n",
            "Total params: 7,723,617\n",
            "Trainable params: 7,723,617\n",
            "Non-trainable params: 0\n",
            "_________________________________________________________________\n"
          ]
        }
      ]
    },
    {
      "cell_type": "code",
      "source": [
        "\n",
        "#accuracy_threshold = 0.99\n",
        "\n",
        "# class myCallback(keras.callbacks.Callback):\n",
        "#   def on_epoch_end(self, epoch, logs={}):\n",
        "#       if(logs.get('accuracy')>accuracy_threshold):\n",
        "#         print(\"\\nReached %2.2f%% accuracy so we will stop trianing\" % (accuracy_threshold*100))\n",
        "#         self.model.stop_training = True\n",
        "\n",
        "acc_callback = myCallback()\n",
        "  # Saved the Best Model\n",
        "filepath = \"bilstm_cnn.h5\"\n",
        "checkpoint = keras.callbacks.ModelCheckpoint(filepath, \n",
        "                                             monitor='val_accuracy', \n",
        "                                             save_best_only=True\n",
        "                                            )\n",
        "  # callback list\n",
        "callback_list = [checkpoint] "
      ],
      "metadata": {
        "id": "m30FhqrlhOp6"
      },
      "execution_count": null,
      "outputs": []
    },
    {
      "cell_type": "code",
      "metadata": {
        "id": "XpyOybVIJct4"
      },
      "source": [
        "lstm_cnn_model.compile(optimizer = 'adam',\n",
        "                      loss = 'binary_crossentropy',\n",
        "                      metrics =['accuracy'])"
      ],
      "execution_count": null,
      "outputs": []
    },
    {
      "cell_type": "code",
      "metadata": {
        "outputId": "ce3d13ee-0a81-480d-84c4-44f5218b406c",
        "colab": {
          "base_uri": "https://localhost:8080/"
        },
        "id": "uYOBYlykJct4"
      },
      "source": [
        "%%time\n",
        "history = lstm_cnn_model.fit(X_train,\n",
        "                              y_train,\n",
        "                              epochs = 20,\n",
        "                              batch_size = 32,\n",
        "                              verbose = 1,\n",
        "                              validation_split =0.2,\n",
        "                              callbacks = callback_list)"
      ],
      "execution_count": null,
      "outputs": [
        {
          "output_type": "stream",
          "name": "stdout",
          "text": [
            "Epoch 1/20\n",
            "172/172 [==============================] - 33s 125ms/step - loss: 0.4675 - accuracy: 0.7791 - val_loss: 0.3157 - val_accuracy: 0.8673\n",
            "Epoch 2/20\n",
            "172/172 [==============================] - 15s 85ms/step - loss: 0.2204 - accuracy: 0.9220 - val_loss: 0.3245 - val_accuracy: 0.8695\n",
            "Epoch 3/20\n",
            "172/172 [==============================] - 10s 59ms/step - loss: 0.1437 - accuracy: 0.9563 - val_loss: 0.3393 - val_accuracy: 0.8776\n",
            "Epoch 4/20\n",
            "172/172 [==============================] - 9s 53ms/step - loss: 0.1030 - accuracy: 0.9688 - val_loss: 0.4469 - val_accuracy: 0.8754\n",
            "Epoch 5/20\n",
            "172/172 [==============================] - 7s 42ms/step - loss: 0.0813 - accuracy: 0.9758 - val_loss: 0.4408 - val_accuracy: 0.8695\n",
            "Epoch 6/20\n",
            "172/172 [==============================] - 7s 43ms/step - loss: 0.0679 - accuracy: 0.9805 - val_loss: 0.5329 - val_accuracy: 0.8652\n",
            "Epoch 7/20\n",
            "172/172 [==============================] - 7s 40ms/step - loss: 0.0525 - accuracy: 0.9858 - val_loss: 0.5853 - val_accuracy: 0.8593\n",
            "Epoch 8/20\n",
            "172/172 [==============================] - 6s 36ms/step - loss: 0.0349 - accuracy: 0.9913 - val_loss: 0.6318 - val_accuracy: 0.8644\n",
            "Epoch 9/20\n",
            "172/172 [==============================] - 5s 28ms/step - loss: 0.0261 - accuracy: 0.9929 - val_loss: 0.7658 - val_accuracy: 0.8579\n",
            "Epoch 10/20\n",
            "172/172 [==============================] - 6s 33ms/step - loss: 0.0244 - accuracy: 0.9931 - val_loss: 0.8277 - val_accuracy: 0.8564\n",
            "Epoch 11/20\n",
            "172/172 [==============================] - 5s 29ms/step - loss: 0.0191 - accuracy: 0.9934 - val_loss: 0.9017 - val_accuracy: 0.8491\n",
            "Epoch 12/20\n",
            "172/172 [==============================] - 6s 33ms/step - loss: 0.0160 - accuracy: 0.9951 - val_loss: 1.1955 - val_accuracy: 0.8462\n",
            "Epoch 13/20\n",
            "172/172 [==============================] - 5s 29ms/step - loss: 0.0137 - accuracy: 0.9960 - val_loss: 1.1192 - val_accuracy: 0.8520\n",
            "Epoch 14/20\n",
            "172/172 [==============================] - 5s 29ms/step - loss: 0.0160 - accuracy: 0.9958 - val_loss: 1.1219 - val_accuracy: 0.8484\n",
            "Epoch 15/20\n",
            "172/172 [==============================] - 5s 31ms/step - loss: 0.0126 - accuracy: 0.9960 - val_loss: 1.1726 - val_accuracy: 0.8448\n",
            "Epoch 16/20\n",
            "172/172 [==============================] - 5s 28ms/step - loss: 0.0245 - accuracy: 0.9914 - val_loss: 0.9741 - val_accuracy: 0.8331\n",
            "Epoch 17/20\n",
            "172/172 [==============================] - 5s 28ms/step - loss: 0.0102 - accuracy: 0.9971 - val_loss: 1.3505 - val_accuracy: 0.8440\n",
            "Epoch 18/20\n",
            "172/172 [==============================] - 5s 27ms/step - loss: 0.0036 - accuracy: 0.9993 - val_loss: 1.6035 - val_accuracy: 0.8448\n",
            "Epoch 19/20\n",
            "172/172 [==============================] - 5s 28ms/step - loss: 0.0032 - accuracy: 0.9995 - val_loss: 1.6620 - val_accuracy: 0.8477\n",
            "Epoch 20/20\n",
            "172/172 [==============================] - 5s 30ms/step - loss: 0.0045 - accuracy: 0.9991 - val_loss: 1.5439 - val_accuracy: 0.8404\n",
            "CPU times: user 2min 41s, sys: 7.1 s, total: 2min 48s\n",
            "Wall time: 2min 35s\n"
          ]
        }
      ]
    },
    {
      "cell_type": "code",
      "source": [
        "lstm_cnn = load_model(\"bilstm_cnn.h5\")"
      ],
      "metadata": {
        "id": "mkuIjCf5JotA"
      },
      "execution_count": null,
      "outputs": []
    },
    {
      "cell_type": "code",
      "metadata": {
        "id": "z2KVdMxMJct5",
        "outputId": "c56ac475-c2b9-4a47-c452-dda1ea30c9cc",
        "colab": {
          "base_uri": "https://localhost:8080/"
        }
      },
      "source": [
        "y_pred = lstm_cnn.predict(X_test)\n",
        "y_pred = (y_pred>0.5).astype('int')\n",
        "y_pred"
      ],
      "execution_count": null,
      "outputs": [
        {
          "output_type": "stream",
          "name": "stdout",
          "text": [
            "54/54 [==============================] - 2s 12ms/step\n"
          ]
        },
        {
          "output_type": "execute_result",
          "data": {
            "text/plain": [
              "array([[0],\n",
              "       [1],\n",
              "       [1],\n",
              "       ...,\n",
              "       [1],\n",
              "       [0],\n",
              "       [1]])"
            ]
          },
          "metadata": {},
          "execution_count": 52
        }
      ]
    },
    {
      "cell_type": "markdown",
      "source": [
        "###Performance "
      ],
      "metadata": {
        "id": "WOjQZ5elJct5"
      }
    },
    {
      "cell_type": "code",
      "source": [
        "#print(classification_report(y_test,y_pred))"
      ],
      "metadata": {
        "colab": {
          "base_uri": "https://localhost:8080/"
        },
        "outputId": "145e2659-c80f-4d28-a2fc-c6d4e8aa45cb",
        "id": "gBOvJag9Jct5"
      },
      "execution_count": null,
      "outputs": [
        {
          "output_type": "stream",
          "name": "stdout",
          "text": [
            "              precision    recall  f1-score   support\n",
            "\n",
            "           0       0.86      0.86      0.86       595\n",
            "           1       0.90      0.90      0.90       777\n",
            "\n",
            "    accuracy                           0.88      1372\n",
            "   macro avg       0.88      0.88      0.88      1372\n",
            "weighted avg       0.88      0.88      0.88      1372\n",
            "\n"
          ]
        }
      ]
    },
    {
      "cell_type": "code",
      "source": [
        "#confusion_matrix(y_test,y_pred)"
      ],
      "metadata": {
        "colab": {
          "base_uri": "https://localhost:8080/"
        },
        "outputId": "3cd1c952-c4e4-47da-87df-0017d08e1ae7",
        "id": "i6nMFS_5Jct6"
      },
      "execution_count": null,
      "outputs": [
        {
          "output_type": "execute_result",
          "data": {
            "text/plain": [
              "array([[514,  81],\n",
              "       [ 81, 696]])"
            ]
          },
          "metadata": {},
          "execution_count": 69
        }
      ]
    },
    {
      "cell_type": "markdown",
      "source": [
        "# BiLSTM +CNN +Dropout"
      ],
      "metadata": {
        "id": "vrD87q-8uCmD"
      }
    },
    {
      "cell_type": "code",
      "source": [
        "keras.backend.clear_session()\n",
        "\n",
        "max_length = 140\n",
        "embedding_dim = 64\n",
        "number_of_classes = len(dataset['Sentiment'].unique())\n",
        "\n",
        "# define bilstm + Cnn model +dropout\n",
        "\n",
        "def lstm_cnn():\n",
        "\n",
        "\n",
        "  lc_text_inputs = Input(shape=(max_length,))\n",
        "  lc_embedding_layer = Embedding(max_words,embedding_dim)(lc_text_inputs)\n",
        "  LSTM_Layer_1 = Bidirectional(LSTM(32, dropout = 0.4, return_sequences=True))(lc_embedding_layer)\n",
        "  LSTM_Layer_2 = Bidirectional(LSTM(16,dropout = 0.4, return_sequences=True))(LSTM_Layer_1)\n",
        "  lc_conv1 = Conv1D(32,3,activation='relu')(LSTM_Layer_2)\n",
        "  lc_pool1 = MaxPooling1D(2)(lc_conv1)\n",
        "  lc_conv2 = Conv1D(64,3,activation='relu')(lc_pool1)\n",
        "  lc_pool2 = MaxPooling1D(2)(lc_conv2)\n",
        "  dropout =  keras.layers.Dropout(0.5)(lc_pool2)\n",
        "  lc_flat = Flatten()(lc_pool2)\n",
        "  lc_dense_layer_1 = Dense(1, activation='sigmoid')(lc_flat)\n",
        "  cnn_lstm_model = Model(inputs=lc_text_inputs, outputs=lc_dense_layer_1)\n",
        "\n",
        "\n",
        "  return cnn_lstm_model\n",
        "\n",
        "# call the model\n",
        "lstm_cnn_model = lstm_cnn()\n",
        "\n",
        "lstm_cnn_model.summary()"
      ],
      "metadata": {
        "colab": {
          "base_uri": "https://localhost:8080/"
        },
        "id": "Pu41ZojVuCAZ",
        "outputId": "fb0acfe1-27ef-491c-c393-32d2d55e12db"
      },
      "execution_count": null,
      "outputs": [
        {
          "output_type": "stream",
          "name": "stdout",
          "text": [
            "Model: \"model\"\n",
            "_________________________________________________________________\n",
            " Layer (type)                Output Shape              Param #   \n",
            "=================================================================\n",
            " input_1 (InputLayer)        [(None, 140)]             0         \n",
            "                                                                 \n",
            " embedding (Embedding)       (None, 140, 64)           7680000   \n",
            "                                                                 \n",
            " bidirectional (Bidirectiona  (None, 140, 64)          24832     \n",
            " l)                                                              \n",
            "                                                                 \n",
            " bidirectional_1 (Bidirectio  (None, 140, 32)          10368     \n",
            " nal)                                                            \n",
            "                                                                 \n",
            " conv1d (Conv1D)             (None, 138, 32)           3104      \n",
            "                                                                 \n",
            " max_pooling1d (MaxPooling1D  (None, 69, 32)           0         \n",
            " )                                                               \n",
            "                                                                 \n",
            " conv1d_1 (Conv1D)           (None, 67, 64)            6208      \n",
            "                                                                 \n",
            " max_pooling1d_1 (MaxPooling  (None, 33, 64)           0         \n",
            " 1D)                                                             \n",
            "                                                                 \n",
            " flatten (Flatten)           (None, 2112)              0         \n",
            "                                                                 \n",
            " dense (Dense)               (None, 1)                 2113      \n",
            "                                                                 \n",
            "=================================================================\n",
            "Total params: 7,726,625\n",
            "Trainable params: 7,726,625\n",
            "Non-trainable params: 0\n",
            "_________________________________________________________________\n"
          ]
        }
      ]
    },
    {
      "cell_type": "code",
      "source": [
        "acc_callback = myCallback()\n",
        "  # Saved the Best Model\n",
        "filepath = \"bilstm_cnn_dropout.h5\"\n",
        "checkpoint = keras.callbacks.ModelCheckpoint(filepath, \n",
        "                                             monitor='val_accuracy', \n",
        "                                             save_best_only=True\n",
        "                                            )\n",
        "  # callback list\n",
        "callback_list = [checkpoint] "
      ],
      "metadata": {
        "id": "HdgmnF2QWknQ"
      },
      "execution_count": null,
      "outputs": []
    },
    {
      "cell_type": "code",
      "source": [
        "lstm_cnn_model.compile(optimizer = 'adam',\n",
        "                      loss = 'binary_crossentropy',\n",
        "                      metrics =['accuracy'])"
      ],
      "metadata": {
        "id": "81BYcepbunwp"
      },
      "execution_count": null,
      "outputs": []
    },
    {
      "cell_type": "code",
      "source": [
        "%%time\n",
        "history = lstm_cnn_model.fit(X_train,\n",
        "                              y_train,\n",
        "                              epochs = 20,\n",
        "                              batch_size = 32,\n",
        "                              validation_split =0.2,\n",
        "                              callbacks = callback_list)"
      ],
      "metadata": {
        "colab": {
          "base_uri": "https://localhost:8080/"
        },
        "id": "Qbl5jDQwuq33",
        "outputId": "8d3a30af-62fc-4547-f750-6ebf5e2f1768"
      },
      "execution_count": null,
      "outputs": [
        {
          "output_type": "stream",
          "name": "stdout",
          "text": [
            "Epoch 1/20\n",
            "172/172 [==============================] - 32s 131ms/step - loss: 0.4787 - accuracy: 0.7662 - val_loss: 0.3156 - val_accuracy: 0.8622\n",
            "Epoch 2/20\n",
            "172/172 [==============================] - 14s 82ms/step - loss: 0.2354 - accuracy: 0.9132 - val_loss: 0.3122 - val_accuracy: 0.8797\n",
            "Epoch 3/20\n",
            "172/172 [==============================] - 11s 62ms/step - loss: 0.1585 - accuracy: 0.9486 - val_loss: 0.3376 - val_accuracy: 0.8834\n",
            "Epoch 4/20\n",
            "172/172 [==============================] - 9s 55ms/step - loss: 0.1143 - accuracy: 0.9650 - val_loss: 0.3941 - val_accuracy: 0.8688\n",
            "Epoch 5/20\n",
            "172/172 [==============================] - 9s 50ms/step - loss: 0.0956 - accuracy: 0.9705 - val_loss: 0.8795 - val_accuracy: 0.8112\n",
            "Epoch 6/20\n",
            "172/172 [==============================] - 7s 41ms/step - loss: 0.0830 - accuracy: 0.9779 - val_loss: 0.4844 - val_accuracy: 0.8615\n",
            "Epoch 7/20\n",
            "172/172 [==============================] - 8s 44ms/step - loss: 0.0671 - accuracy: 0.9798 - val_loss: 0.5187 - val_accuracy: 0.8637\n",
            "Epoch 8/20\n",
            "172/172 [==============================] - 6s 38ms/step - loss: 0.0503 - accuracy: 0.9852 - val_loss: 0.6107 - val_accuracy: 0.8579\n",
            "Epoch 9/20\n",
            "172/172 [==============================] - 7s 39ms/step - loss: 0.0422 - accuracy: 0.9871 - val_loss: 0.8511 - val_accuracy: 0.8666\n",
            "Epoch 10/20\n",
            "172/172 [==============================] - 6s 35ms/step - loss: 0.0369 - accuracy: 0.9887 - val_loss: 0.8721 - val_accuracy: 0.8535\n",
            "Epoch 11/20\n",
            "172/172 [==============================] - 6s 35ms/step - loss: 0.0429 - accuracy: 0.9854 - val_loss: 0.7096 - val_accuracy: 0.8550\n",
            "Epoch 12/20\n",
            "172/172 [==============================] - 7s 38ms/step - loss: 0.0353 - accuracy: 0.9885 - val_loss: 0.9939 - val_accuracy: 0.8601\n",
            "Epoch 13/20\n",
            "172/172 [==============================] - 6s 37ms/step - loss: 0.0265 - accuracy: 0.9914 - val_loss: 0.9684 - val_accuracy: 0.8593\n",
            "Epoch 14/20\n",
            "172/172 [==============================] - 5s 31ms/step - loss: 0.0226 - accuracy: 0.9922 - val_loss: 1.1098 - val_accuracy: 0.8622\n",
            "Epoch 15/20\n",
            "172/172 [==============================] - 5s 27ms/step - loss: 0.0220 - accuracy: 0.9927 - val_loss: 1.3007 - val_accuracy: 0.8491\n",
            "Epoch 16/20\n",
            "172/172 [==============================] - 6s 34ms/step - loss: 0.0253 - accuracy: 0.9916 - val_loss: 1.1780 - val_accuracy: 0.8601\n",
            "Epoch 17/20\n",
            "172/172 [==============================] - 5s 30ms/step - loss: 0.0273 - accuracy: 0.9923 - val_loss: 0.8544 - val_accuracy: 0.8557\n",
            "Epoch 18/20\n",
            "172/172 [==============================] - 6s 33ms/step - loss: 0.0171 - accuracy: 0.9934 - val_loss: 1.0987 - val_accuracy: 0.8557\n",
            "Epoch 19/20\n",
            "172/172 [==============================] - 5s 29ms/step - loss: 0.0181 - accuracy: 0.9940 - val_loss: 1.1745 - val_accuracy: 0.8477\n",
            "Epoch 20/20\n",
            "172/172 [==============================] - 5s 30ms/step - loss: 0.0178 - accuracy: 0.9944 - val_loss: 1.2255 - val_accuracy: 0.8608\n",
            "CPU times: user 2min 52s, sys: 7.37 s, total: 3min\n",
            "Wall time: 3min 29s\n"
          ]
        }
      ]
    },
    {
      "cell_type": "code",
      "source": [
        "lstm_cnn_dropout = load_model(\"bilstm_cnn_dropout.h5\")"
      ],
      "metadata": {
        "id": "XVgv25Swut5f"
      },
      "execution_count": null,
      "outputs": []
    },
    {
      "cell_type": "code",
      "source": [],
      "metadata": {
        "id": "R-rw3UVqHCoh"
      },
      "execution_count": null,
      "outputs": []
    },
    {
      "cell_type": "code",
      "source": [
        "y_pred = lstm_cnn_dropout.predict(X_test)\n",
        "y_pred = (y_pred>0.5).astype('int')\n",
        "y_pred"
      ],
      "metadata": {
        "colab": {
          "base_uri": "https://localhost:8080/"
        },
        "id": "-cjyzhc1uwiQ",
        "outputId": "6fecc892-6a06-4e05-e80d-38064921514e"
      },
      "execution_count": null,
      "outputs": [
        {
          "output_type": "stream",
          "name": "stdout",
          "text": [
            "54/54 [==============================] - 2s 11ms/step\n"
          ]
        },
        {
          "output_type": "execute_result",
          "data": {
            "text/plain": [
              "array([[0],\n",
              "       [1],\n",
              "       [1],\n",
              "       ...,\n",
              "       [0],\n",
              "       [0],\n",
              "       [1]])"
            ]
          },
          "metadata": {},
          "execution_count": 64
        }
      ]
    },
    {
      "cell_type": "code",
      "source": [],
      "metadata": {
        "id": "JUFcWcIEu7FH"
      },
      "execution_count": null,
      "outputs": []
    }
  ]
}