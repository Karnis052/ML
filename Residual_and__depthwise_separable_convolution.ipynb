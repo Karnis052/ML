{
  "cells": [
    {
      "cell_type": "markdown",
      "metadata": {
        "id": "view-in-github",
        "colab_type": "text"
      },
      "source": [
        "<a href=\"https://colab.research.google.com/github/Karnis052/ML/blob/main/Residual_and__depthwise_separable_convolution.ipynb\" target=\"_parent\"><img src=\"https://colab.research.google.com/assets/colab-badge.svg\" alt=\"Open In Colab\"/></a>"
      ]
    },
    {
      "cell_type": "code",
      "execution_count": null,
      "metadata": {
        "id": "gWxXV0058rSW"
      },
      "outputs": [],
      "source": [
        "import numpy as np\n",
        "import pandas as pd\n",
        "import matplotlib.pyplot as plt\n",
        "import tensorflow as tf\n",
        "from tensorflow import keras\n",
        "from tensorflow.keras import layers\n",
        "from tensorflow.keras.utils import image_dataset_from_directory\n",
        "from tensorflow.keras.utils import img_to_array, array_to_img, load_img"
      ]
    },
    {
      "cell_type": "code",
      "execution_count": null,
      "metadata": {
        "colab": {
          "base_uri": "https://localhost:8080/"
        },
        "id": "0njrmAEQ8iTM",
        "outputId": "14d1f051-4257-4205-99d8-dc978bbd9191"
      },
      "outputs": [
        {
          "output_type": "stream",
          "name": "stdout",
          "text": [
            "--2023-02-05 14:44:58--  https://www.dropbox.com/s/kc77yps787sqt92/kaggle.json\n",
            "Resolving www.dropbox.com (www.dropbox.com)... 162.125.81.18, 2620:100:6031:18::a27d:5112\n",
            "Connecting to www.dropbox.com (www.dropbox.com)|162.125.81.18|:443... connected.\n",
            "HTTP request sent, awaiting response... 302 Found\n",
            "Location: /s/raw/kc77yps787sqt92/kaggle.json [following]\n",
            "--2023-02-05 14:44:58--  https://www.dropbox.com/s/raw/kc77yps787sqt92/kaggle.json\n",
            "Reusing existing connection to www.dropbox.com:443.\n",
            "HTTP request sent, awaiting response... 302 Found\n",
            "Location: https://uc69c9abe7b5bf09ac49c06e7ac6.dl.dropboxusercontent.com/cd/0/inline/B16JcBWOUc5oKOVexYW4AaGEiWB-Xd6USLOBdl0RJZxTzUshC2hpR99jjozoIo7lIARFjPPwpts0zLD_DnXQShpKxEeBLJw3Hsf6EFohfgTLWfga_SSO1nkjJqnDKLh-dk8P0SoNGXlhZeFmlrIgK2LF5a8HNPedT55y3Wgllr3fhg/file# [following]\n",
            "--2023-02-05 14:44:58--  https://uc69c9abe7b5bf09ac49c06e7ac6.dl.dropboxusercontent.com/cd/0/inline/B16JcBWOUc5oKOVexYW4AaGEiWB-Xd6USLOBdl0RJZxTzUshC2hpR99jjozoIo7lIARFjPPwpts0zLD_DnXQShpKxEeBLJw3Hsf6EFohfgTLWfga_SSO1nkjJqnDKLh-dk8P0SoNGXlhZeFmlrIgK2LF5a8HNPedT55y3Wgllr3fhg/file\n",
            "Resolving uc69c9abe7b5bf09ac49c06e7ac6.dl.dropboxusercontent.com (uc69c9abe7b5bf09ac49c06e7ac6.dl.dropboxusercontent.com)... 162.125.81.15, 2620:100:6031:15::a27d:510f\n",
            "Connecting to uc69c9abe7b5bf09ac49c06e7ac6.dl.dropboxusercontent.com (uc69c9abe7b5bf09ac49c06e7ac6.dl.dropboxusercontent.com)|162.125.81.15|:443... connected.\n",
            "HTTP request sent, awaiting response... 200 OK\n",
            "Length: 75 [text/plain]\n",
            "Saving to: ‘kaggle.json’\n",
            "\n",
            "kaggle.json         100%[===================>]      75  --.-KB/s    in 0s      \n",
            "\n",
            "2023-02-05 14:44:59 (10.6 MB/s) - ‘kaggle.json’ saved [75/75]\n",
            "\n"
          ]
        }
      ],
      "source": [
        "!wget https://www.dropbox.com/s/kc77yps787sqt92/kaggle.json "
      ]
    },
    {
      "cell_type": "code",
      "execution_count": null,
      "metadata": {
        "id": "FOnR_xRM8pjo"
      },
      "outputs": [],
      "source": [
        "!mkdir ~/.kaggle\n",
        "!cp kaggle.json ~/.kaggle\n",
        "!chmod 600 ~/.kaggle/kaggle.json"
      ]
    },
    {
      "cell_type": "code",
      "execution_count": null,
      "metadata": {
        "colab": {
          "base_uri": "https://localhost:8080/"
        },
        "id": "xgFG8bd58zHp",
        "outputId": "1aa3f922-527b-4d29-e518-9b8a5caa9437"
      },
      "outputs": [
        {
          "output_type": "stream",
          "name": "stdout",
          "text": [
            "Downloading dogs-vs-cats.zip to /content\n",
            "100% 811M/812M [00:38<00:00, 24.2MB/s]\n",
            "100% 812M/812M [00:38<00:00, 22.3MB/s]\n"
          ]
        }
      ],
      "source": [
        "!kaggle competitions download -c dogs-vs-cats"
      ]
    },
    {
      "cell_type": "code",
      "execution_count": null,
      "metadata": {
        "id": "rQcrVBTh81Q1"
      },
      "outputs": [],
      "source": [
        "import os \n",
        "import zipfile\n",
        "zip_ref = zipfile.ZipFile(\"/content/dogs-vs-cats.zip\",'r')\n",
        "zip_ref.extractall(\"/content/dogs-vs-cats\")\n",
        "zip_ref.close()"
      ]
    },
    {
      "cell_type": "code",
      "execution_count": null,
      "metadata": {
        "id": "yhrnGKI98355"
      },
      "outputs": [],
      "source": [
        "\n",
        "!unzip --qq /content/dogs-vs-cats/train.zip"
      ]
    },
    {
      "cell_type": "code",
      "execution_count": null,
      "metadata": {
        "id": "mKWGEzRz86B4"
      },
      "outputs": [],
      "source": [
        "!unzip --qq /content/dogs-vs-cats/test1.zip"
      ]
    },
    {
      "cell_type": "code",
      "execution_count": null,
      "metadata": {
        "colab": {
          "base_uri": "https://localhost:8080/"
        },
        "id": "8PusCEVT88Hn",
        "outputId": "aca68c1e-0221-4d8d-9f20-a98fb0901954"
      },
      "outputs": [
        {
          "output_type": "execute_result",
          "data": {
            "text/plain": [
              "25000"
            ]
          },
          "metadata": {},
          "execution_count": 8
        }
      ],
      "source": [
        "len(os.listdir(\"/content/train\"))"
      ]
    },
    {
      "cell_type": "code",
      "execution_count": null,
      "metadata": {
        "colab": {
          "base_uri": "https://localhost:8080/"
        },
        "id": "0gGJdPz58-EX",
        "outputId": "af98a028-d184-410d-89c9-b797cf99e008"
      },
      "outputs": [
        {
          "output_type": "execute_result",
          "data": {
            "text/plain": [
              "12500"
            ]
          },
          "metadata": {},
          "execution_count": 9
        }
      ],
      "source": [
        "len(os.listdir(\"/content/test1\"))"
      ]
    },
    {
      "cell_type": "code",
      "execution_count": null,
      "metadata": {
        "id": "CS_NiFof9AxR"
      },
      "outputs": [],
      "source": [
        "import os, shutil, pathlib\n",
        "\n",
        "original_dir = pathlib.Path(\"train\")\n",
        "new_base_dir = pathlib.Path(\"cats_vs_dogs_small\")\n",
        "\n",
        "def make_subset(subset_name, start_index, end_index):\n",
        "  for category in (\"cat\", \"dog\"):\n",
        "    dir = new_base_dir/subset_name/category\n",
        "    os.makedirs(dir)\n",
        "    fnames = [f\"{category}.{i}.jpg\"  for i in range(start_index, end_index) ]\n",
        "    \n",
        "    for fname in fnames:\n",
        "      shutil.copyfile(src=original_dir/fname, dst = dir/fname)\n",
        "\n",
        "make_subset(\"train\", start_index =0, end_index = 1000)\n",
        "make_subset(\"validation\", start_index = 1000, end_index = 1500)\n",
        "make_subset(\"test\", start_index = 1500, end_index = 2500)"
      ]
    },
    {
      "cell_type": "code",
      "execution_count": null,
      "metadata": {
        "colab": {
          "base_uri": "https://localhost:8080/"
        },
        "id": "IjwEd-8S9C8w",
        "outputId": "915278ee-e470-4ad5-c545-5fbe82b8600f"
      },
      "outputs": [
        {
          "output_type": "stream",
          "name": "stdout",
          "text": [
            "Found 2000 files belonging to 2 classes.\n",
            "Found 1000 files belonging to 2 classes.\n",
            "Found 2000 files belonging to 2 classes.\n"
          ]
        }
      ],
      "source": [
        "# using image_dataset_from_directory to read_images\n",
        "train_dataset = image_dataset_from_directory(\n",
        "    new_base_dir/\"train\",\n",
        "    image_size = (180, 180),\n",
        "    batch_size = 32\n",
        ")\n",
        "\n",
        "validation_dataset = image_dataset_from_directory(\n",
        "    new_base_dir/\"validation\",\n",
        "    image_size = (180, 180),\n",
        "    batch_size = 32\n",
        ")\n",
        "\n",
        "test_dataset = image_dataset_from_directory(\n",
        "    new_base_dir/\"test\",\n",
        "    image_size = (180, 180),\n",
        "    batch_size = 32\n",
        ")\n"
      ]
    },
    {
      "cell_type": "code",
      "execution_count": null,
      "metadata": {
        "id": "3KQOufy19GbY"
      },
      "outputs": [],
      "source": [
        "data_augmentation = keras.Sequential(\n",
        "    [\n",
        "      layers.RandomFlip(\"horizontal\"),\n",
        "      layers.RandomRotation(0.1),\n",
        "      layers.RandomZoom(0.2)\n",
        "     \n",
        "    ]\n",
        ")"
      ]
    },
    {
      "cell_type": "code",
      "execution_count": null,
      "metadata": {
        "id": "TD2iwk4l9WtA"
      },
      "outputs": [],
      "source": [
        "inputs = keras.Input(shape = (180, 180, 3))\n",
        "x = data_augmentation(inputs)\n",
        "x = layers.Rescaling(1./255)(x)\n",
        "x = layers.Conv2D(32, 5, use_bias = False)(x)   # assumption in depthwise separable convolution is, feature channels are large independent . it doesn't hold for \n",
        "# RGB images. Red, Green, Blue color channels are highly correlated in actual images.As  such, the first layer in our model is a regular Conv2D layer. SeparableConv2D will be use afterward\n",
        "\n",
        "for size in [32,64,128,256,512]:  # Here we apply series of convolution blocks with increasing feature depth. Each block consist of two batch-normalized \n",
        "# depthwise separable convolution layers and a maxpooling layer with a residual connection around the entire block\n",
        "\n",
        "  residual =x\n",
        "  x = layers.BatchNormalization()(x)\n",
        "  x = layers.Activation(\"relu\")(x)\n",
        "  x = layers.SeparableConv2D(size, 3, padding =\"same\", use_bias = False)(x)\n",
        "\n",
        "  x= layers.BatchNormalization()(x)\n",
        "  x = layers.Activation(\"relu\")(x)\n",
        "  x = layers.SeparableConv2D(size, 3, padding =\"same\", use_bias = False)(x)\n",
        "\n",
        "  x = layers.MaxPooling2D(3, strides = 2, padding = \"same\")(x)\n",
        "\n",
        "  residual = layers.Conv2D(size, 1, strides =2, padding = \"same\", use_bias = False)(residual)\n",
        "  x =layers.add([x, residual]) \n",
        "\n",
        "x = layers.GlobalAveragePooling2D()(x)  # It is used instead of Flatten Layer\n",
        "x = layers.Dropout(0.5)(x)\n",
        "\n",
        "outputs = layers.Dense(1, activation = \"sigmoid\")(x)\n",
        "model = keras.Model(inputs, outputs)\n",
        "\n"
      ]
    },
    {
      "cell_type": "code",
      "execution_count": null,
      "metadata": {
        "colab": {
          "base_uri": "https://localhost:8080/"
        },
        "id": "F1FzlR0k9bGB",
        "outputId": "bac480e1-ad6f-48d6-f133-3803ee64b1d6"
      },
      "outputs": [
        {
          "output_type": "stream",
          "name": "stdout",
          "text": [
            "Model: \"model\"\n",
            "__________________________________________________________________________________________________\n",
            " Layer (type)                   Output Shape         Param #     Connected to                     \n",
            "==================================================================================================\n",
            " input_1 (InputLayer)           [(None, 180, 180, 3  0           []                               \n",
            "                                )]                                                                \n",
            "                                                                                                  \n",
            " sequential (Sequential)        (None, 180, 180, 3)  0           ['input_1[0][0]']                \n",
            "                                                                                                  \n",
            " rescaling (Rescaling)          (None, 180, 180, 3)  0           ['sequential[0][0]']             \n",
            "                                                                                                  \n",
            " conv2d (Conv2D)                (None, 176, 176, 32  2400        ['rescaling[0][0]']              \n",
            "                                )                                                                 \n",
            "                                                                                                  \n",
            " batch_normalization (BatchNorm  (None, 176, 176, 32  128        ['conv2d[0][0]']                 \n",
            " alization)                     )                                                                 \n",
            "                                                                                                  \n",
            " activation (Activation)        (None, 176, 176, 32  0           ['batch_normalization[0][0]']    \n",
            "                                )                                                                 \n",
            "                                                                                                  \n",
            " separable_conv2d (SeparableCon  (None, 176, 176, 32  1312       ['activation[0][0]']             \n",
            " v2D)                           )                                                                 \n",
            "                                                                                                  \n",
            " batch_normalization_1 (BatchNo  (None, 176, 176, 32  128        ['separable_conv2d[0][0]']       \n",
            " rmalization)                   )                                                                 \n",
            "                                                                                                  \n",
            " activation_1 (Activation)      (None, 176, 176, 32  0           ['batch_normalization_1[0][0]']  \n",
            "                                )                                                                 \n",
            "                                                                                                  \n",
            " separable_conv2d_1 (SeparableC  (None, 176, 176, 32  1312       ['activation_1[0][0]']           \n",
            " onv2D)                         )                                                                 \n",
            "                                                                                                  \n",
            " max_pooling2d (MaxPooling2D)   (None, 88, 88, 32)   0           ['separable_conv2d_1[0][0]']     \n",
            "                                                                                                  \n",
            " conv2d_1 (Conv2D)              (None, 88, 88, 32)   1024        ['conv2d[0][0]']                 \n",
            "                                                                                                  \n",
            " add (Add)                      (None, 88, 88, 32)   0           ['max_pooling2d[0][0]',          \n",
            "                                                                  'conv2d_1[0][0]']               \n",
            "                                                                                                  \n",
            " batch_normalization_2 (BatchNo  (None, 88, 88, 32)  128         ['add[0][0]']                    \n",
            " rmalization)                                                                                     \n",
            "                                                                                                  \n",
            " activation_2 (Activation)      (None, 88, 88, 32)   0           ['batch_normalization_2[0][0]']  \n",
            "                                                                                                  \n",
            " separable_conv2d_2 (SeparableC  (None, 88, 88, 64)  2336        ['activation_2[0][0]']           \n",
            " onv2D)                                                                                           \n",
            "                                                                                                  \n",
            " batch_normalization_3 (BatchNo  (None, 88, 88, 64)  256         ['separable_conv2d_2[0][0]']     \n",
            " rmalization)                                                                                     \n",
            "                                                                                                  \n",
            " activation_3 (Activation)      (None, 88, 88, 64)   0           ['batch_normalization_3[0][0]']  \n",
            "                                                                                                  \n",
            " separable_conv2d_3 (SeparableC  (None, 88, 88, 64)  4672        ['activation_3[0][0]']           \n",
            " onv2D)                                                                                           \n",
            "                                                                                                  \n",
            " max_pooling2d_1 (MaxPooling2D)  (None, 44, 44, 64)  0           ['separable_conv2d_3[0][0]']     \n",
            "                                                                                                  \n",
            " conv2d_2 (Conv2D)              (None, 44, 44, 64)   2048        ['add[0][0]']                    \n",
            "                                                                                                  \n",
            " add_1 (Add)                    (None, 44, 44, 64)   0           ['max_pooling2d_1[0][0]',        \n",
            "                                                                  'conv2d_2[0][0]']               \n",
            "                                                                                                  \n",
            " batch_normalization_4 (BatchNo  (None, 44, 44, 64)  256         ['add_1[0][0]']                  \n",
            " rmalization)                                                                                     \n",
            "                                                                                                  \n",
            " activation_4 (Activation)      (None, 44, 44, 64)   0           ['batch_normalization_4[0][0]']  \n",
            "                                                                                                  \n",
            " separable_conv2d_4 (SeparableC  (None, 44, 44, 128)  8768       ['activation_4[0][0]']           \n",
            " onv2D)                                                                                           \n",
            "                                                                                                  \n",
            " batch_normalization_5 (BatchNo  (None, 44, 44, 128)  512        ['separable_conv2d_4[0][0]']     \n",
            " rmalization)                                                                                     \n",
            "                                                                                                  \n",
            " activation_5 (Activation)      (None, 44, 44, 128)  0           ['batch_normalization_5[0][0]']  \n",
            "                                                                                                  \n",
            " separable_conv2d_5 (SeparableC  (None, 44, 44, 128)  17536      ['activation_5[0][0]']           \n",
            " onv2D)                                                                                           \n",
            "                                                                                                  \n",
            " max_pooling2d_2 (MaxPooling2D)  (None, 22, 22, 128)  0          ['separable_conv2d_5[0][0]']     \n",
            "                                                                                                  \n",
            " conv2d_3 (Conv2D)              (None, 22, 22, 128)  8192        ['add_1[0][0]']                  \n",
            "                                                                                                  \n",
            " add_2 (Add)                    (None, 22, 22, 128)  0           ['max_pooling2d_2[0][0]',        \n",
            "                                                                  'conv2d_3[0][0]']               \n",
            "                                                                                                  \n",
            " batch_normalization_6 (BatchNo  (None, 22, 22, 128)  512        ['add_2[0][0]']                  \n",
            " rmalization)                                                                                     \n",
            "                                                                                                  \n",
            " activation_6 (Activation)      (None, 22, 22, 128)  0           ['batch_normalization_6[0][0]']  \n",
            "                                                                                                  \n",
            " separable_conv2d_6 (SeparableC  (None, 22, 22, 256)  33920      ['activation_6[0][0]']           \n",
            " onv2D)                                                                                           \n",
            "                                                                                                  \n",
            " batch_normalization_7 (BatchNo  (None, 22, 22, 256)  1024       ['separable_conv2d_6[0][0]']     \n",
            " rmalization)                                                                                     \n",
            "                                                                                                  \n",
            " activation_7 (Activation)      (None, 22, 22, 256)  0           ['batch_normalization_7[0][0]']  \n",
            "                                                                                                  \n",
            " separable_conv2d_7 (SeparableC  (None, 22, 22, 256)  67840      ['activation_7[0][0]']           \n",
            " onv2D)                                                                                           \n",
            "                                                                                                  \n",
            " max_pooling2d_3 (MaxPooling2D)  (None, 11, 11, 256)  0          ['separable_conv2d_7[0][0]']     \n",
            "                                                                                                  \n",
            " conv2d_4 (Conv2D)              (None, 11, 11, 256)  32768       ['add_2[0][0]']                  \n",
            "                                                                                                  \n",
            " add_3 (Add)                    (None, 11, 11, 256)  0           ['max_pooling2d_3[0][0]',        \n",
            "                                                                  'conv2d_4[0][0]']               \n",
            "                                                                                                  \n",
            " batch_normalization_8 (BatchNo  (None, 11, 11, 256)  1024       ['add_3[0][0]']                  \n",
            " rmalization)                                                                                     \n",
            "                                                                                                  \n",
            " activation_8 (Activation)      (None, 11, 11, 256)  0           ['batch_normalization_8[0][0]']  \n",
            "                                                                                                  \n",
            " separable_conv2d_8 (SeparableC  (None, 11, 11, 512)  133376     ['activation_8[0][0]']           \n",
            " onv2D)                                                                                           \n",
            "                                                                                                  \n",
            " batch_normalization_9 (BatchNo  (None, 11, 11, 512)  2048       ['separable_conv2d_8[0][0]']     \n",
            " rmalization)                                                                                     \n",
            "                                                                                                  \n",
            " activation_9 (Activation)      (None, 11, 11, 512)  0           ['batch_normalization_9[0][0]']  \n",
            "                                                                                                  \n",
            " separable_conv2d_9 (SeparableC  (None, 11, 11, 512)  266752     ['activation_9[0][0]']           \n",
            " onv2D)                                                                                           \n",
            "                                                                                                  \n",
            " max_pooling2d_4 (MaxPooling2D)  (None, 6, 6, 512)   0           ['separable_conv2d_9[0][0]']     \n",
            "                                                                                                  \n",
            " conv2d_5 (Conv2D)              (None, 6, 6, 512)    131072      ['add_3[0][0]']                  \n",
            "                                                                                                  \n",
            " add_4 (Add)                    (None, 6, 6, 512)    0           ['max_pooling2d_4[0][0]',        \n",
            "                                                                  'conv2d_5[0][0]']               \n",
            "                                                                                                  \n",
            " global_average_pooling2d (Glob  (None, 512)         0           ['add_4[0][0]']                  \n",
            " alAveragePooling2D)                                                                              \n",
            "                                                                                                  \n",
            " dropout (Dropout)              (None, 512)          0           ['global_average_pooling2d[0][0]'\n",
            "                                                                 ]                                \n",
            "                                                                                                  \n",
            " dense (Dense)                  (None, 1)            513         ['dropout[0][0]']                \n",
            "                                                                                                  \n",
            "==================================================================================================\n",
            "Total params: 721,857\n",
            "Trainable params: 718,849\n",
            "Non-trainable params: 3,008\n",
            "__________________________________________________________________________________________________\n"
          ]
        }
      ],
      "source": [
        "model.summary()"
      ]
    },
    {
      "cell_type": "code",
      "execution_count": null,
      "metadata": {
        "id": "36Rn5htz-Zlx"
      },
      "outputs": [],
      "source": [
        "model.compile(\n",
        "    loss = \"binary_crossentropy\",\n",
        "    optimizer = \"rmsprop\",\n",
        "    metrics = [\"accuracy\"]\n",
        ")"
      ]
    },
    {
      "cell_type": "code",
      "execution_count": null,
      "metadata": {
        "id": "do0kL-RZ-Z_v"
      },
      "outputs": [],
      "source": [
        "callbacks = [\n",
        "    keras.callbacks.ModelCheckpoint(\n",
        "        filepath = \"residual_depthwise_separable_convolution.keras\",\n",
        "        save_best_only = True,\n",
        "        monitor= \"val_loss\"\n",
        "    )\n",
        "]"
      ]
    },
    {
      "cell_type": "code",
      "execution_count": null,
      "metadata": {
        "colab": {
          "base_uri": "https://localhost:8080/"
        },
        "id": "LZnOfbh4-rhX",
        "outputId": "4d89f90d-a6f3-45a3-f53d-55a097bd3c46"
      },
      "outputs": [
        {
          "output_type": "stream",
          "name": "stdout",
          "text": [
            "Epoch 1/100\n",
            "63/63 [==============================] - 43s 473ms/step - loss: 0.7138 - accuracy: 0.5630 - val_loss: 0.6999 - val_accuracy: 0.5000\n",
            "Epoch 2/100\n",
            "63/63 [==============================] - 29s 453ms/step - loss: 0.6634 - accuracy: 0.6070 - val_loss: 0.6938 - val_accuracy: 0.5000\n",
            "Epoch 3/100\n",
            "63/63 [==============================] - 29s 450ms/step - loss: 0.6465 - accuracy: 0.6330 - val_loss: 0.7045 - val_accuracy: 0.5000\n",
            "Epoch 4/100\n",
            "63/63 [==============================] - 29s 455ms/step - loss: 0.6333 - accuracy: 0.6440 - val_loss: 0.6987 - val_accuracy: 0.5000\n",
            "Epoch 5/100\n",
            "63/63 [==============================] - 30s 464ms/step - loss: 0.6145 - accuracy: 0.6650 - val_loss: 0.7468 - val_accuracy: 0.5000\n",
            "Epoch 6/100\n",
            "63/63 [==============================] - 29s 458ms/step - loss: 0.5843 - accuracy: 0.6925 - val_loss: 0.7647 - val_accuracy: 0.5000\n",
            "Epoch 7/100\n",
            "63/63 [==============================] - 30s 475ms/step - loss: 0.5780 - accuracy: 0.6995 - val_loss: 0.8646 - val_accuracy: 0.5020\n",
            "Epoch 8/100\n",
            "63/63 [==============================] - 31s 479ms/step - loss: 0.5668 - accuracy: 0.7115 - val_loss: 0.8062 - val_accuracy: 0.5250\n",
            "Epoch 9/100\n",
            "63/63 [==============================] - 30s 463ms/step - loss: 0.5513 - accuracy: 0.7245 - val_loss: 1.0537 - val_accuracy: 0.5120\n",
            "Epoch 10/100\n",
            "63/63 [==============================] - 30s 466ms/step - loss: 0.5358 - accuracy: 0.7370 - val_loss: 0.5380 - val_accuracy: 0.7360\n",
            "Epoch 11/100\n",
            "63/63 [==============================] - 29s 455ms/step - loss: 0.5018 - accuracy: 0.7600 - val_loss: 0.5449 - val_accuracy: 0.7180\n",
            "Epoch 12/100\n",
            "63/63 [==============================] - 30s 472ms/step - loss: 0.4989 - accuracy: 0.7605 - val_loss: 0.5420 - val_accuracy: 0.7270\n",
            "Epoch 13/100\n",
            "63/63 [==============================] - 30s 464ms/step - loss: 0.4805 - accuracy: 0.7785 - val_loss: 4.0747 - val_accuracy: 0.5160\n",
            "Epoch 14/100\n",
            "63/63 [==============================] - 29s 459ms/step - loss: 0.4620 - accuracy: 0.7825 - val_loss: 0.5554 - val_accuracy: 0.7260\n",
            "Epoch 15/100\n",
            "63/63 [==============================] - 30s 463ms/step - loss: 0.4477 - accuracy: 0.7975 - val_loss: 1.0065 - val_accuracy: 0.6110\n",
            "Epoch 16/100\n",
            "63/63 [==============================] - 29s 459ms/step - loss: 0.4181 - accuracy: 0.8050 - val_loss: 0.4356 - val_accuracy: 0.7970\n",
            "Epoch 17/100\n",
            "63/63 [==============================] - 29s 464ms/step - loss: 0.4306 - accuracy: 0.8060 - val_loss: 0.5875 - val_accuracy: 0.7260\n",
            "Epoch 18/100\n",
            "63/63 [==============================] - 29s 451ms/step - loss: 0.4086 - accuracy: 0.8230 - val_loss: 0.7990 - val_accuracy: 0.7190\n",
            "Epoch 19/100\n",
            "63/63 [==============================] - 29s 456ms/step - loss: 0.4038 - accuracy: 0.8185 - val_loss: 0.4542 - val_accuracy: 0.7830\n",
            "Epoch 20/100\n",
            "63/63 [==============================] - 30s 461ms/step - loss: 0.3950 - accuracy: 0.8265 - val_loss: 0.5686 - val_accuracy: 0.7340\n",
            "Epoch 21/100\n",
            "63/63 [==============================] - 29s 461ms/step - loss: 0.3767 - accuracy: 0.8305 - val_loss: 0.8283 - val_accuracy: 0.6790\n",
            "Epoch 22/100\n",
            "63/63 [==============================] - 29s 464ms/step - loss: 0.3760 - accuracy: 0.8315 - val_loss: 0.4645 - val_accuracy: 0.7870\n",
            "Epoch 23/100\n",
            "63/63 [==============================] - 29s 450ms/step - loss: 0.3642 - accuracy: 0.8415 - val_loss: 0.4404 - val_accuracy: 0.8120\n",
            "Epoch 24/100\n",
            "63/63 [==============================] - 30s 475ms/step - loss: 0.3366 - accuracy: 0.8560 - val_loss: 0.3762 - val_accuracy: 0.8290\n",
            "Epoch 25/100\n",
            "63/63 [==============================] - 29s 458ms/step - loss: 0.3463 - accuracy: 0.8470 - val_loss: 0.4210 - val_accuracy: 0.8190\n",
            "Epoch 26/100\n",
            "63/63 [==============================] - 29s 457ms/step - loss: 0.3290 - accuracy: 0.8545 - val_loss: 0.3829 - val_accuracy: 0.8440\n",
            "Epoch 27/100\n",
            "63/63 [==============================] - 29s 458ms/step - loss: 0.3193 - accuracy: 0.8600 - val_loss: 0.3855 - val_accuracy: 0.8430\n",
            "Epoch 28/100\n",
            "63/63 [==============================] - 29s 450ms/step - loss: 0.3206 - accuracy: 0.8610 - val_loss: 1.1690 - val_accuracy: 0.6380\n",
            "Epoch 29/100\n",
            "63/63 [==============================] - 30s 473ms/step - loss: 0.3205 - accuracy: 0.8530 - val_loss: 0.4124 - val_accuracy: 0.8230\n",
            "Epoch 30/100\n",
            "63/63 [==============================] - 29s 460ms/step - loss: 0.3204 - accuracy: 0.8625 - val_loss: 0.6459 - val_accuracy: 0.7460\n",
            "Epoch 31/100\n",
            "63/63 [==============================] - 29s 461ms/step - loss: 0.2987 - accuracy: 0.8645 - val_loss: 0.7923 - val_accuracy: 0.6310\n",
            "Epoch 32/100\n",
            "63/63 [==============================] - 29s 459ms/step - loss: 0.2685 - accuracy: 0.8925 - val_loss: 4.1580 - val_accuracy: 0.5190\n",
            "Epoch 33/100\n",
            "63/63 [==============================] - 29s 461ms/step - loss: 0.2994 - accuracy: 0.8755 - val_loss: 1.4235 - val_accuracy: 0.6230\n",
            "Epoch 34/100\n",
            "63/63 [==============================] - 29s 461ms/step - loss: 0.2724 - accuracy: 0.8830 - val_loss: 0.5273 - val_accuracy: 0.8080\n",
            "Epoch 35/100\n",
            "63/63 [==============================] - 29s 452ms/step - loss: 0.2718 - accuracy: 0.8795 - val_loss: 3.0929 - val_accuracy: 0.5090\n",
            "Epoch 36/100\n",
            "63/63 [==============================] - 30s 465ms/step - loss: 0.2522 - accuracy: 0.8930 - val_loss: 0.8296 - val_accuracy: 0.7350\n",
            "Epoch 37/100\n",
            "63/63 [==============================] - 29s 456ms/step - loss: 0.2402 - accuracy: 0.8880 - val_loss: 0.5147 - val_accuracy: 0.7640\n",
            "Epoch 38/100\n",
            "63/63 [==============================] - 29s 457ms/step - loss: 0.2466 - accuracy: 0.8930 - val_loss: 0.5692 - val_accuracy: 0.7640\n",
            "Epoch 39/100\n",
            "63/63 [==============================] - 29s 462ms/step - loss: 0.2352 - accuracy: 0.9010 - val_loss: 0.4513 - val_accuracy: 0.8000\n",
            "Epoch 40/100\n",
            "63/63 [==============================] - 29s 459ms/step - loss: 0.2355 - accuracy: 0.9085 - val_loss: 0.7638 - val_accuracy: 0.7620\n",
            "Epoch 41/100\n",
            "63/63 [==============================] - 30s 471ms/step - loss: 0.2314 - accuracy: 0.9015 - val_loss: 1.0140 - val_accuracy: 0.6710\n",
            "Epoch 42/100\n",
            "63/63 [==============================] - 29s 456ms/step - loss: 0.2287 - accuracy: 0.9055 - val_loss: 1.1077 - val_accuracy: 0.6710\n",
            "Epoch 43/100\n",
            "63/63 [==============================] - 29s 459ms/step - loss: 0.2344 - accuracy: 0.9010 - val_loss: 0.4765 - val_accuracy: 0.8310\n",
            "Epoch 44/100\n",
            "63/63 [==============================] - 29s 459ms/step - loss: 0.2343 - accuracy: 0.9100 - val_loss: 0.4766 - val_accuracy: 0.8000\n",
            "Epoch 45/100\n",
            "63/63 [==============================] - 29s 460ms/step - loss: 0.2133 - accuracy: 0.9115 - val_loss: 0.4252 - val_accuracy: 0.8190\n",
            "Epoch 46/100\n",
            "63/63 [==============================] - 29s 460ms/step - loss: 0.2129 - accuracy: 0.9135 - val_loss: 0.8335 - val_accuracy: 0.7640\n",
            "Epoch 47/100\n",
            "63/63 [==============================] - 29s 456ms/step - loss: 0.2023 - accuracy: 0.9100 - val_loss: 0.5882 - val_accuracy: 0.7660\n",
            "Epoch 48/100\n",
            "63/63 [==============================] - 30s 468ms/step - loss: 0.2119 - accuracy: 0.9100 - val_loss: 0.4052 - val_accuracy: 0.8150\n",
            "Epoch 49/100\n",
            "63/63 [==============================] - 29s 462ms/step - loss: 0.1920 - accuracy: 0.9210 - val_loss: 0.3677 - val_accuracy: 0.8370\n",
            "Epoch 50/100\n",
            "63/63 [==============================] - 29s 455ms/step - loss: 0.2078 - accuracy: 0.9120 - val_loss: 0.8177 - val_accuracy: 0.7210\n",
            "Epoch 51/100\n",
            "63/63 [==============================] - 29s 456ms/step - loss: 0.1805 - accuracy: 0.9240 - val_loss: 0.7975 - val_accuracy: 0.7280\n",
            "Epoch 52/100\n",
            "63/63 [==============================] - 29s 459ms/step - loss: 0.1878 - accuracy: 0.9240 - val_loss: 1.0941 - val_accuracy: 0.6910\n",
            "Epoch 53/100\n",
            "63/63 [==============================] - 30s 469ms/step - loss: 0.1867 - accuracy: 0.9260 - val_loss: 0.4060 - val_accuracy: 0.8420\n",
            "Epoch 54/100\n",
            "63/63 [==============================] - 29s 456ms/step - loss: 0.1905 - accuracy: 0.9240 - val_loss: 0.8655 - val_accuracy: 0.7410\n",
            "Epoch 55/100\n",
            "63/63 [==============================] - 29s 455ms/step - loss: 0.1904 - accuracy: 0.9265 - val_loss: 0.4379 - val_accuracy: 0.8560\n",
            "Epoch 56/100\n",
            "63/63 [==============================] - 30s 462ms/step - loss: 0.1753 - accuracy: 0.9225 - val_loss: 1.4585 - val_accuracy: 0.6730\n",
            "Epoch 57/100\n",
            "63/63 [==============================] - 29s 455ms/step - loss: 0.1803 - accuracy: 0.9300 - val_loss: 0.3980 - val_accuracy: 0.8600\n",
            "Epoch 58/100\n",
            "63/63 [==============================] - 29s 462ms/step - loss: 0.1752 - accuracy: 0.9290 - val_loss: 0.4085 - val_accuracy: 0.8570\n",
            "Epoch 59/100\n",
            "63/63 [==============================] - 29s 458ms/step - loss: 0.1604 - accuracy: 0.9355 - val_loss: 0.2739 - val_accuracy: 0.8870\n",
            "Epoch 60/100\n",
            "63/63 [==============================] - 30s 477ms/step - loss: 0.1530 - accuracy: 0.9390 - val_loss: 0.7670 - val_accuracy: 0.8290\n",
            "Epoch 61/100\n",
            "63/63 [==============================] - 29s 457ms/step - loss: 0.1681 - accuracy: 0.9325 - val_loss: 0.6326 - val_accuracy: 0.7940\n",
            "Epoch 62/100\n",
            "63/63 [==============================] - 29s 462ms/step - loss: 0.1628 - accuracy: 0.9330 - val_loss: 0.4316 - val_accuracy: 0.8540\n",
            "Epoch 63/100\n",
            "63/63 [==============================] - 29s 462ms/step - loss: 0.1676 - accuracy: 0.9300 - val_loss: 0.3508 - val_accuracy: 0.8740\n",
            "Epoch 64/100\n",
            "63/63 [==============================] - 29s 460ms/step - loss: 0.1632 - accuracy: 0.9360 - val_loss: 0.3776 - val_accuracy: 0.8750\n",
            "Epoch 65/100\n",
            "63/63 [==============================] - 29s 465ms/step - loss: 0.1540 - accuracy: 0.9425 - val_loss: 0.8973 - val_accuracy: 0.7890\n",
            "Epoch 66/100\n",
            "63/63 [==============================] - 29s 455ms/step - loss: 0.1423 - accuracy: 0.9455 - val_loss: 0.3641 - val_accuracy: 0.8740\n",
            "Epoch 67/100\n",
            "63/63 [==============================] - 29s 459ms/step - loss: 0.1401 - accuracy: 0.9445 - val_loss: 0.4400 - val_accuracy: 0.8620\n",
            "Epoch 68/100\n",
            "63/63 [==============================] - 29s 457ms/step - loss: 0.1317 - accuracy: 0.9465 - val_loss: 0.5263 - val_accuracy: 0.8380\n",
            "Epoch 69/100\n",
            "63/63 [==============================] - 29s 459ms/step - loss: 0.1327 - accuracy: 0.9495 - val_loss: 0.8485 - val_accuracy: 0.7570\n",
            "Epoch 70/100\n",
            "63/63 [==============================] - 29s 456ms/step - loss: 0.1583 - accuracy: 0.9435 - val_loss: 0.2773 - val_accuracy: 0.8970\n",
            "Epoch 71/100\n",
            "63/63 [==============================] - 29s 458ms/step - loss: 0.1398 - accuracy: 0.9385 - val_loss: 0.4978 - val_accuracy: 0.8550\n",
            "Epoch 72/100\n",
            "63/63 [==============================] - 29s 463ms/step - loss: 0.1513 - accuracy: 0.9435 - val_loss: 0.3747 - val_accuracy: 0.8650\n",
            "Epoch 73/100\n",
            "63/63 [==============================] - 29s 461ms/step - loss: 0.1337 - accuracy: 0.9465 - val_loss: 0.3433 - val_accuracy: 0.8770\n",
            "Epoch 74/100\n",
            "63/63 [==============================] - 29s 463ms/step - loss: 0.1314 - accuracy: 0.9490 - val_loss: 0.3850 - val_accuracy: 0.8830\n",
            "Epoch 75/100\n",
            "63/63 [==============================] - 29s 459ms/step - loss: 0.1372 - accuracy: 0.9460 - val_loss: 0.8323 - val_accuracy: 0.7750\n",
            "Epoch 76/100\n",
            "63/63 [==============================] - 29s 452ms/step - loss: 0.1304 - accuracy: 0.9505 - val_loss: 0.4461 - val_accuracy: 0.8590\n",
            "Epoch 77/100\n",
            "63/63 [==============================] - 30s 470ms/step - loss: 0.1317 - accuracy: 0.9460 - val_loss: 0.5339 - val_accuracy: 0.8280\n",
            "Epoch 78/100\n",
            "63/63 [==============================] - 29s 461ms/step - loss: 0.1310 - accuracy: 0.9460 - val_loss: 0.3893 - val_accuracy: 0.8920\n",
            "Epoch 79/100\n",
            "63/63 [==============================] - 29s 464ms/step - loss: 0.1190 - accuracy: 0.9540 - val_loss: 0.3096 - val_accuracy: 0.8790\n",
            "Epoch 80/100\n",
            "63/63 [==============================] - 29s 455ms/step - loss: 0.1212 - accuracy: 0.9505 - val_loss: 0.4960 - val_accuracy: 0.8340\n",
            "Epoch 81/100\n",
            "63/63 [==============================] - 29s 457ms/step - loss: 0.1124 - accuracy: 0.9585 - val_loss: 0.4951 - val_accuracy: 0.8800\n",
            "Epoch 82/100\n",
            "63/63 [==============================] - 30s 467ms/step - loss: 0.1110 - accuracy: 0.9590 - val_loss: 0.5469 - val_accuracy: 0.8480\n",
            "Epoch 83/100\n",
            "63/63 [==============================] - 29s 453ms/step - loss: 0.1072 - accuracy: 0.9590 - val_loss: 0.3873 - val_accuracy: 0.8720\n",
            "Epoch 84/100\n",
            "63/63 [==============================] - 30s 466ms/step - loss: 0.1014 - accuracy: 0.9595 - val_loss: 0.7219 - val_accuracy: 0.8180\n",
            "Epoch 85/100\n",
            "63/63 [==============================] - 30s 463ms/step - loss: 0.1130 - accuracy: 0.9565 - val_loss: 0.8958 - val_accuracy: 0.7860\n",
            "Epoch 86/100\n",
            "63/63 [==============================] - 29s 459ms/step - loss: 0.1174 - accuracy: 0.9575 - val_loss: 0.4170 - val_accuracy: 0.8680\n",
            "Epoch 87/100\n",
            "63/63 [==============================] - 29s 462ms/step - loss: 0.1015 - accuracy: 0.9645 - val_loss: 0.7529 - val_accuracy: 0.8100\n",
            "Epoch 88/100\n",
            "63/63 [==============================] - 29s 459ms/step - loss: 0.1278 - accuracy: 0.9555 - val_loss: 0.3390 - val_accuracy: 0.8680\n",
            "Epoch 89/100\n",
            "63/63 [==============================] - 29s 461ms/step - loss: 0.1272 - accuracy: 0.9470 - val_loss: 0.4797 - val_accuracy: 0.8540\n",
            "Epoch 90/100\n",
            "63/63 [==============================] - 29s 463ms/step - loss: 0.1143 - accuracy: 0.9585 - val_loss: 0.3042 - val_accuracy: 0.8740\n",
            "Epoch 91/100\n",
            "63/63 [==============================] - 29s 456ms/step - loss: 0.0942 - accuracy: 0.9610 - val_loss: 0.4342 - val_accuracy: 0.8930\n",
            "Epoch 92/100\n",
            "63/63 [==============================] - 29s 458ms/step - loss: 0.1174 - accuracy: 0.9595 - val_loss: 0.6918 - val_accuracy: 0.8310\n",
            "Epoch 93/100\n",
            "63/63 [==============================] - 29s 454ms/step - loss: 0.1096 - accuracy: 0.9610 - val_loss: 0.4372 - val_accuracy: 0.8670\n",
            "Epoch 94/100\n",
            "63/63 [==============================] - 30s 466ms/step - loss: 0.1060 - accuracy: 0.9610 - val_loss: 0.6123 - val_accuracy: 0.8470\n",
            "Epoch 95/100\n",
            "63/63 [==============================] - 29s 463ms/step - loss: 0.1087 - accuracy: 0.9545 - val_loss: 0.2971 - val_accuracy: 0.8920\n",
            "Epoch 96/100\n",
            "63/63 [==============================] - 30s 467ms/step - loss: 0.0968 - accuracy: 0.9600 - val_loss: 0.2495 - val_accuracy: 0.9060\n",
            "Epoch 97/100\n",
            "63/63 [==============================] - 30s 461ms/step - loss: 0.0866 - accuracy: 0.9695 - val_loss: 0.4848 - val_accuracy: 0.8690\n",
            "Epoch 98/100\n",
            "63/63 [==============================] - 29s 461ms/step - loss: 0.0974 - accuracy: 0.9590 - val_loss: 0.3932 - val_accuracy: 0.8700\n",
            "Epoch 99/100\n",
            "63/63 [==============================] - 29s 464ms/step - loss: 0.0953 - accuracy: 0.9610 - val_loss: 0.6829 - val_accuracy: 0.8450\n",
            "Epoch 100/100\n",
            "63/63 [==============================] - 29s 455ms/step - loss: 0.1029 - accuracy: 0.9595 - val_loss: 0.4375 - val_accuracy: 0.8730\n"
          ]
        }
      ],
      "source": [
        "\n",
        "history = model.fit(\n",
        "    train_dataset,\n",
        "    epochs = 100,\n",
        "    validation_data = validation_dataset,\n",
        "    callbacks = callbacks\n",
        ")"
      ]
    },
    {
      "cell_type": "code",
      "execution_count": null,
      "metadata": {
        "id": "OeMj1o3L-yEN",
        "colab": {
          "base_uri": "https://localhost:8080/",
          "height": 545
        },
        "outputId": "bfaaea49-d28f-49cb-fab0-b06dad8121a5"
      },
      "outputs": [
        {
          "output_type": "display_data",
          "data": {
            "text/plain": [
              "<Figure size 432x288 with 1 Axes>"
            ],
            "image/png": "[encoded data removed]"
          },
          "metadata": {
            "needs_background": "light"
          }
        },
        {
          "output_type": "display_data",
          "data": {
            "text/plain": [
              "<Figure size 432x288 with 1 Axes>"
            ],
            "image/png": "[encoded data removed]"
          },
          "metadata": {
            "needs_background": "light"
          }
        }
      ],
      "source": [
        "acc = history.history['accuracy']\n",
        "val_acc = history.history[\"val_accuracy\"]\n",
        "loss = history.history['loss']\n",
        "val_loss = history.history[\"val_loss\"]\n",
        "epochs =range(1, len(acc)+1)\n",
        "plt.plot(epochs, acc, \"bo\", label =\"Training accuracy\")\n",
        "plt.plot(epochs, val_acc, 'b', label =\"Validation accuracy\")\n",
        "plt.title(\"Trainig and validation Accuracy\")\n",
        "plt.legend()\n",
        "plt.figure()\n",
        "\n",
        "plt.plot(epochs, loss, \"bo\", label = \"Training loss\")\n",
        "plt.plot(epochs, val_loss, 'b', label = \"Validation_loss\")\n",
        "plt.title(\"Trainig and Validation Loss\")\n",
        "plt.legend()\n",
        "plt.show()"
      ]
    },
    {
      "cell_type": "code",
      "source": [
        "test_model = keras.models.load_model(\"residual_depthwise_separable_convolution.keras\")\n",
        "test_loss, test_acc = test_model.evaluate(test_dataset)\n",
        "print(f\"test accuracy:{test_acc:0.3f}\")\n"
      ],
      "metadata": {
        "colab": {
          "base_uri": "https://localhost:8080/"
        },
        "id": "Qe2jnrZLDlvr",
        "outputId": "a054a941-8748-41fe-f176-3a74c867606b"
      },
      "execution_count": null,
      "outputs": [
        {
          "output_type": "stream",
          "name": "stdout",
          "text": [
            "63/63 [==============================] - 3s 39ms/step - loss: 0.3059 - accuracy: 0.9020\n",
            "test accuracy:0.902\n"
          ]
        }
      ]
    },
    {
      "cell_type": "code",
      "source": [],
      "metadata": {
        "id": "jaAqiFj6D00x"
      },
      "execution_count": null,
      "outputs": []
    }
  ],
  "metadata": {
    "accelerator": "GPU",
    "colab": {
      "provenance": [],
      "authorship_tag": "ABX9TyOGeR4DLyi4QNN1u1gyOEQH",
      "include_colab_link": true
    },
    "gpuClass": "standard",
    "kernelspec": {
      "display_name": "Python 3",
      "name": "python3"
    },
    "language_info": {
      "name": "python"
    }
  },
  "nbformat": 4,
  "nbformat_minor": 0
}